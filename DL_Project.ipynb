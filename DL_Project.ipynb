{
  "nbformat": 4,
  "nbformat_minor": 0,
  "metadata": {
    "colab": {
      "provenance": []
    },
    "kernelspec": {
      "name": "python3",
      "display_name": "Python 3"
    },
    "language_info": {
      "name": "python"
    }
  },
  "cells": [
    {
      "cell_type": "code",
      "metadata": {
        "colab": {
          "base_uri": "https://localhost:8080/"
        },
        "id": "M9PozprFPkov",
        "outputId": "c553496b-24dd-487e-924f-a1a25aa76233"
      },
      "source": [
        "from google.colab import drive\n",
        "import os\n",
        "\n",
        "drive.mount('/content/drive')\n",
        "os.chdir(\"/content/drive/My Drive/\")"
      ],
      "execution_count": null,
      "outputs": [
        {
          "output_type": "stream",
          "text": [
            "Drive already mounted at /content/drive; to attempt to forcibly remount, call drive.mount(\"/content/drive\", force_remount=True).\n"
          ],
          "name": "stdout"
        }
      ]
    },
    {
      "cell_type": "code",
      "metadata": {
        "id": "3OTPZyz_QA72"
      },
      "source": [
        "from pandas import *\n",
        "import numpy as np\n",
        "import seaborn as sns\n",
        "import matplotlib.pyplot as plt\n",
        "\n",
        "from sklearn.model_selection import train_test_split\n",
        "from sklearn.preprocessing import StandardScaler\n",
        "from sklearn.preprocessing import LabelEncoder\n",
        "\n",
        "from tensorflow.keras.models import Sequential\n",
        "from tensorflow.keras.layers import Dense\n",
        "from tensorflow.keras.layers import Dropout\n",
        "from tensorflow.keras.layers import BatchNormalization\n",
        "\n",
        "sns.set(color_codes = True)\n",
        "%matplotlib inline\n",
        "options.mode.chained_assignment = None"
      ],
      "execution_count": null,
      "outputs": []
    },
    {
      "cell_type": "code",
      "metadata": {
        "colab": {
          "base_uri": "https://localhost:8080/",
          "height": 204
        },
        "id": "DVk5lXstQBHi",
        "outputId": "fe1460f2-7ce3-40a4-e5c2-d14a02f4bc89"
      },
      "source": [
        "stores = read_csv('stores+data.csv')\n",
        "stores.head(5)"
      ],
      "execution_count": null,
      "outputs": [
        {
          "output_type": "execute_result",
          "data": {
            "text/html": [
              "<div>\n",
              "<style scoped>\n",
              "    .dataframe tbody tr th:only-of-type {\n",
              "        vertical-align: middle;\n",
              "    }\n",
              "\n",
              "    .dataframe tbody tr th {\n",
              "        vertical-align: top;\n",
              "    }\n",
              "\n",
              "    .dataframe thead th {\n",
              "        text-align: right;\n",
              "    }\n",
              "</style>\n",
              "<table border=\"1\" class=\"dataframe\">\n",
              "  <thead>\n",
              "    <tr style=\"text-align: right;\">\n",
              "      <th></th>\n",
              "      <th>Store</th>\n",
              "      <th>Type</th>\n",
              "      <th>Size</th>\n",
              "    </tr>\n",
              "  </thead>\n",
              "  <tbody>\n",
              "    <tr>\n",
              "      <th>0</th>\n",
              "      <td>1</td>\n",
              "      <td>A</td>\n",
              "      <td>151315</td>\n",
              "    </tr>\n",
              "    <tr>\n",
              "      <th>1</th>\n",
              "      <td>2</td>\n",
              "      <td>A</td>\n",
              "      <td>202307</td>\n",
              "    </tr>\n",
              "    <tr>\n",
              "      <th>2</th>\n",
              "      <td>3</td>\n",
              "      <td>B</td>\n",
              "      <td>37392</td>\n",
              "    </tr>\n",
              "    <tr>\n",
              "      <th>3</th>\n",
              "      <td>4</td>\n",
              "      <td>A</td>\n",
              "      <td>205863</td>\n",
              "    </tr>\n",
              "    <tr>\n",
              "      <th>4</th>\n",
              "      <td>5</td>\n",
              "      <td>B</td>\n",
              "      <td>34875</td>\n",
              "    </tr>\n",
              "  </tbody>\n",
              "</table>\n",
              "</div>"
            ],
            "text/plain": [
              "   Store Type    Size\n",
              "0      1    A  151315\n",
              "1      2    A  202307\n",
              "2      3    B   37392\n",
              "3      4    A  205863\n",
              "4      5    B   34875"
            ]
          },
          "metadata": {
            "tags": []
          },
          "execution_count": 5
        }
      ]
    },
    {
      "cell_type": "code",
      "metadata": {
        "colab": {
          "base_uri": "https://localhost:8080/",
          "height": 204
        },
        "id": "0yUt84d2QBJo",
        "outputId": "5e750aaf-3294-4892-f1d8-ead7d7dbd4b1"
      },
      "source": [
        "sales = read_csv('sales+data.csv')\n",
        "sales.head(5)"
      ],
      "execution_count": null,
      "outputs": [
        {
          "output_type": "execute_result",
          "data": {
            "text/html": [
              "<div>\n",
              "<style scoped>\n",
              "    .dataframe tbody tr th:only-of-type {\n",
              "        vertical-align: middle;\n",
              "    }\n",
              "\n",
              "    .dataframe tbody tr th {\n",
              "        vertical-align: top;\n",
              "    }\n",
              "\n",
              "    .dataframe thead th {\n",
              "        text-align: right;\n",
              "    }\n",
              "</style>\n",
              "<table border=\"1\" class=\"dataframe\">\n",
              "  <thead>\n",
              "    <tr style=\"text-align: right;\">\n",
              "      <th></th>\n",
              "      <th>Store</th>\n",
              "      <th>Dept</th>\n",
              "      <th>Date</th>\n",
              "      <th>Weekly_Sales</th>\n",
              "      <th>IsHoliday</th>\n",
              "    </tr>\n",
              "  </thead>\n",
              "  <tbody>\n",
              "    <tr>\n",
              "      <th>0</th>\n",
              "      <td>1</td>\n",
              "      <td>1</td>\n",
              "      <td>05/02/2010</td>\n",
              "      <td>24924.50</td>\n",
              "      <td>False</td>\n",
              "    </tr>\n",
              "    <tr>\n",
              "      <th>1</th>\n",
              "      <td>1</td>\n",
              "      <td>1</td>\n",
              "      <td>12/02/2010</td>\n",
              "      <td>46039.49</td>\n",
              "      <td>True</td>\n",
              "    </tr>\n",
              "    <tr>\n",
              "      <th>2</th>\n",
              "      <td>1</td>\n",
              "      <td>1</td>\n",
              "      <td>19/02/2010</td>\n",
              "      <td>41595.55</td>\n",
              "      <td>False</td>\n",
              "    </tr>\n",
              "    <tr>\n",
              "      <th>3</th>\n",
              "      <td>1</td>\n",
              "      <td>1</td>\n",
              "      <td>26/02/2010</td>\n",
              "      <td>19403.54</td>\n",
              "      <td>False</td>\n",
              "    </tr>\n",
              "    <tr>\n",
              "      <th>4</th>\n",
              "      <td>1</td>\n",
              "      <td>1</td>\n",
              "      <td>05/03/2010</td>\n",
              "      <td>21827.90</td>\n",
              "      <td>False</td>\n",
              "    </tr>\n",
              "  </tbody>\n",
              "</table>\n",
              "</div>"
            ],
            "text/plain": [
              "   Store  Dept        Date  Weekly_Sales  IsHoliday\n",
              "0      1     1  05/02/2010      24924.50      False\n",
              "1      1     1  12/02/2010      46039.49       True\n",
              "2      1     1  19/02/2010      41595.55      False\n",
              "3      1     1  26/02/2010      19403.54      False\n",
              "4      1     1  05/03/2010      21827.90      False"
            ]
          },
          "metadata": {
            "tags": []
          },
          "execution_count": 6
        }
      ]
    },
    {
      "cell_type": "code",
      "metadata": {
        "colab": {
          "base_uri": "https://localhost:8080/",
          "height": 204
        },
        "id": "8vR5KIEIQBOr",
        "outputId": "8247bd1b-ac19-4a1c-ac8c-bf327c6159ac"
      },
      "source": [
        "features = read_csv('features+data.csv')\n",
        "features.head(5)"
      ],
      "execution_count": null,
      "outputs": [
        {
          "output_type": "execute_result",
          "data": {
            "text/html": [
              "<div>\n",
              "<style scoped>\n",
              "    .dataframe tbody tr th:only-of-type {\n",
              "        vertical-align: middle;\n",
              "    }\n",
              "\n",
              "    .dataframe tbody tr th {\n",
              "        vertical-align: top;\n",
              "    }\n",
              "\n",
              "    .dataframe thead th {\n",
              "        text-align: right;\n",
              "    }\n",
              "</style>\n",
              "<table border=\"1\" class=\"dataframe\">\n",
              "  <thead>\n",
              "    <tr style=\"text-align: right;\">\n",
              "      <th></th>\n",
              "      <th>Store</th>\n",
              "      <th>Date</th>\n",
              "      <th>Temperature</th>\n",
              "      <th>Fuel_Price</th>\n",
              "      <th>MarkDown1</th>\n",
              "      <th>MarkDown2</th>\n",
              "      <th>MarkDown3</th>\n",
              "      <th>MarkDown4</th>\n",
              "      <th>MarkDown5</th>\n",
              "      <th>CPI</th>\n",
              "      <th>Unemployment</th>\n",
              "      <th>IsHoliday</th>\n",
              "    </tr>\n",
              "  </thead>\n",
              "  <tbody>\n",
              "    <tr>\n",
              "      <th>0</th>\n",
              "      <td>1</td>\n",
              "      <td>05/02/2010</td>\n",
              "      <td>42.31</td>\n",
              "      <td>2.572</td>\n",
              "      <td>NaN</td>\n",
              "      <td>NaN</td>\n",
              "      <td>NaN</td>\n",
              "      <td>NaN</td>\n",
              "      <td>NaN</td>\n",
              "      <td>211.096358</td>\n",
              "      <td>8.106</td>\n",
              "      <td>False</td>\n",
              "    </tr>\n",
              "    <tr>\n",
              "      <th>1</th>\n",
              "      <td>1</td>\n",
              "      <td>12/02/2010</td>\n",
              "      <td>38.51</td>\n",
              "      <td>2.548</td>\n",
              "      <td>NaN</td>\n",
              "      <td>NaN</td>\n",
              "      <td>NaN</td>\n",
              "      <td>NaN</td>\n",
              "      <td>NaN</td>\n",
              "      <td>211.242170</td>\n",
              "      <td>8.106</td>\n",
              "      <td>True</td>\n",
              "    </tr>\n",
              "    <tr>\n",
              "      <th>2</th>\n",
              "      <td>1</td>\n",
              "      <td>19/02/2010</td>\n",
              "      <td>39.93</td>\n",
              "      <td>2.514</td>\n",
              "      <td>NaN</td>\n",
              "      <td>NaN</td>\n",
              "      <td>NaN</td>\n",
              "      <td>NaN</td>\n",
              "      <td>NaN</td>\n",
              "      <td>211.289143</td>\n",
              "      <td>8.106</td>\n",
              "      <td>False</td>\n",
              "    </tr>\n",
              "    <tr>\n",
              "      <th>3</th>\n",
              "      <td>1</td>\n",
              "      <td>26/02/2010</td>\n",
              "      <td>46.63</td>\n",
              "      <td>2.561</td>\n",
              "      <td>NaN</td>\n",
              "      <td>NaN</td>\n",
              "      <td>NaN</td>\n",
              "      <td>NaN</td>\n",
              "      <td>NaN</td>\n",
              "      <td>211.319643</td>\n",
              "      <td>8.106</td>\n",
              "      <td>False</td>\n",
              "    </tr>\n",
              "    <tr>\n",
              "      <th>4</th>\n",
              "      <td>1</td>\n",
              "      <td>05/03/2010</td>\n",
              "      <td>46.50</td>\n",
              "      <td>2.625</td>\n",
              "      <td>NaN</td>\n",
              "      <td>NaN</td>\n",
              "      <td>NaN</td>\n",
              "      <td>NaN</td>\n",
              "      <td>NaN</td>\n",
              "      <td>211.350143</td>\n",
              "      <td>8.106</td>\n",
              "      <td>False</td>\n",
              "    </tr>\n",
              "  </tbody>\n",
              "</table>\n",
              "</div>"
            ],
            "text/plain": [
              "   Store        Date  Temperature  ...         CPI  Unemployment  IsHoliday\n",
              "0      1  05/02/2010        42.31  ...  211.096358         8.106      False\n",
              "1      1  12/02/2010        38.51  ...  211.242170         8.106       True\n",
              "2      1  19/02/2010        39.93  ...  211.289143         8.106      False\n",
              "3      1  26/02/2010        46.63  ...  211.319643         8.106      False\n",
              "4      1  05/03/2010        46.50  ...  211.350143         8.106      False\n",
              "\n",
              "[5 rows x 12 columns]"
            ]
          },
          "metadata": {
            "tags": []
          },
          "execution_count": 7
        }
      ]
    },
    {
      "cell_type": "markdown",
      "metadata": {
        "id": "64SOJxjFWhAm"
      },
      "source": [
        "# Analysing the features dataframe"
      ]
    },
    {
      "cell_type": "code",
      "metadata": {
        "colab": {
          "base_uri": "https://localhost:8080/"
        },
        "id": "g0AR_uZBQBRb",
        "outputId": "5058700e-11b6-46c8-a822-3eac81838466"
      },
      "source": [
        "features.info()"
      ],
      "execution_count": null,
      "outputs": [
        {
          "output_type": "stream",
          "text": [
            "<class 'pandas.core.frame.DataFrame'>\n",
            "RangeIndex: 8190 entries, 0 to 8189\n",
            "Data columns (total 12 columns):\n",
            " #   Column        Non-Null Count  Dtype  \n",
            "---  ------        --------------  -----  \n",
            " 0   Store         8190 non-null   int64  \n",
            " 1   Date          8190 non-null   object \n",
            " 2   Temperature   8190 non-null   float64\n",
            " 3   Fuel_Price    8190 non-null   float64\n",
            " 4   MarkDown1     4032 non-null   float64\n",
            " 5   MarkDown2     2921 non-null   float64\n",
            " 6   MarkDown3     3613 non-null   float64\n",
            " 7   MarkDown4     3464 non-null   float64\n",
            " 8   MarkDown5     4050 non-null   float64\n",
            " 9   CPI           7605 non-null   float64\n",
            " 10  Unemployment  7605 non-null   float64\n",
            " 11  IsHoliday     8190 non-null   bool   \n",
            "dtypes: bool(1), float64(9), int64(1), object(1)\n",
            "memory usage: 712.0+ KB\n"
          ],
          "name": "stdout"
        }
      ]
    },
    {
      "cell_type": "code",
      "metadata": {
        "colab": {
          "base_uri": "https://localhost:8080/"
        },
        "id": "ttLIL_Y8QBV2",
        "outputId": "08216ab3-854a-426d-d1e0-18da8c97f662"
      },
      "source": [
        "print('Percentage of null values is ',\"{:.3f}\".format(100*features.isna().sum().sum()/features.size),'%')"
      ],
      "execution_count": null,
      "outputs": [
        {
          "output_type": "stream",
          "text": [
            "Percentage of null values is  24.461 %\n"
          ],
          "name": "stdout"
        }
      ]
    },
    {
      "cell_type": "code",
      "metadata": {
        "colab": {
          "base_uri": "https://localhost:8080/",
          "height": 297
        },
        "id": "ag1eauODWzBs",
        "outputId": "60de1ce8-80ed-48bb-f389-5cf67b8d1641"
      },
      "source": [
        "features.describe()"
      ],
      "execution_count": null,
      "outputs": [
        {
          "output_type": "execute_result",
          "data": {
            "text/html": [
              "<div>\n",
              "<style scoped>\n",
              "    .dataframe tbody tr th:only-of-type {\n",
              "        vertical-align: middle;\n",
              "    }\n",
              "\n",
              "    .dataframe tbody tr th {\n",
              "        vertical-align: top;\n",
              "    }\n",
              "\n",
              "    .dataframe thead th {\n",
              "        text-align: right;\n",
              "    }\n",
              "</style>\n",
              "<table border=\"1\" class=\"dataframe\">\n",
              "  <thead>\n",
              "    <tr style=\"text-align: right;\">\n",
              "      <th></th>\n",
              "      <th>Store</th>\n",
              "      <th>Temperature</th>\n",
              "      <th>Fuel_Price</th>\n",
              "      <th>MarkDown1</th>\n",
              "      <th>MarkDown2</th>\n",
              "      <th>MarkDown3</th>\n",
              "      <th>MarkDown4</th>\n",
              "      <th>MarkDown5</th>\n",
              "      <th>CPI</th>\n",
              "      <th>Unemployment</th>\n",
              "    </tr>\n",
              "  </thead>\n",
              "  <tbody>\n",
              "    <tr>\n",
              "      <th>count</th>\n",
              "      <td>8190.000000</td>\n",
              "      <td>8190.000000</td>\n",
              "      <td>8190.000000</td>\n",
              "      <td>4032.000000</td>\n",
              "      <td>2921.000000</td>\n",
              "      <td>3613.000000</td>\n",
              "      <td>3464.000000</td>\n",
              "      <td>4050.000000</td>\n",
              "      <td>7605.000000</td>\n",
              "      <td>7605.000000</td>\n",
              "    </tr>\n",
              "    <tr>\n",
              "      <th>mean</th>\n",
              "      <td>23.000000</td>\n",
              "      <td>59.356198</td>\n",
              "      <td>3.405992</td>\n",
              "      <td>7032.371786</td>\n",
              "      <td>3384.176594</td>\n",
              "      <td>1760.100180</td>\n",
              "      <td>3292.935886</td>\n",
              "      <td>4132.216422</td>\n",
              "      <td>172.460809</td>\n",
              "      <td>7.826821</td>\n",
              "    </tr>\n",
              "    <tr>\n",
              "      <th>std</th>\n",
              "      <td>12.987966</td>\n",
              "      <td>18.678607</td>\n",
              "      <td>0.431337</td>\n",
              "      <td>9262.747448</td>\n",
              "      <td>8793.583016</td>\n",
              "      <td>11276.462208</td>\n",
              "      <td>6792.329861</td>\n",
              "      <td>13086.690278</td>\n",
              "      <td>39.738346</td>\n",
              "      <td>1.877259</td>\n",
              "    </tr>\n",
              "    <tr>\n",
              "      <th>min</th>\n",
              "      <td>1.000000</td>\n",
              "      <td>-7.290000</td>\n",
              "      <td>2.472000</td>\n",
              "      <td>-2781.450000</td>\n",
              "      <td>-265.760000</td>\n",
              "      <td>-179.260000</td>\n",
              "      <td>0.220000</td>\n",
              "      <td>-185.170000</td>\n",
              "      <td>126.064000</td>\n",
              "      <td>3.684000</td>\n",
              "    </tr>\n",
              "    <tr>\n",
              "      <th>25%</th>\n",
              "      <td>12.000000</td>\n",
              "      <td>45.902500</td>\n",
              "      <td>3.041000</td>\n",
              "      <td>1577.532500</td>\n",
              "      <td>68.880000</td>\n",
              "      <td>6.600000</td>\n",
              "      <td>304.687500</td>\n",
              "      <td>1440.827500</td>\n",
              "      <td>132.364839</td>\n",
              "      <td>6.634000</td>\n",
              "    </tr>\n",
              "    <tr>\n",
              "      <th>50%</th>\n",
              "      <td>23.000000</td>\n",
              "      <td>60.710000</td>\n",
              "      <td>3.513000</td>\n",
              "      <td>4743.580000</td>\n",
              "      <td>364.570000</td>\n",
              "      <td>36.260000</td>\n",
              "      <td>1176.425000</td>\n",
              "      <td>2727.135000</td>\n",
              "      <td>182.764003</td>\n",
              "      <td>7.806000</td>\n",
              "    </tr>\n",
              "    <tr>\n",
              "      <th>75%</th>\n",
              "      <td>34.000000</td>\n",
              "      <td>73.880000</td>\n",
              "      <td>3.743000</td>\n",
              "      <td>8923.310000</td>\n",
              "      <td>2153.350000</td>\n",
              "      <td>163.150000</td>\n",
              "      <td>3310.007500</td>\n",
              "      <td>4832.555000</td>\n",
              "      <td>213.932412</td>\n",
              "      <td>8.567000</td>\n",
              "    </tr>\n",
              "    <tr>\n",
              "      <th>max</th>\n",
              "      <td>45.000000</td>\n",
              "      <td>101.950000</td>\n",
              "      <td>4.468000</td>\n",
              "      <td>103184.980000</td>\n",
              "      <td>104519.540000</td>\n",
              "      <td>149483.310000</td>\n",
              "      <td>67474.850000</td>\n",
              "      <td>771448.100000</td>\n",
              "      <td>228.976456</td>\n",
              "      <td>14.313000</td>\n",
              "    </tr>\n",
              "  </tbody>\n",
              "</table>\n",
              "</div>"
            ],
            "text/plain": [
              "             Store  Temperature  ...          CPI  Unemployment\n",
              "count  8190.000000  8190.000000  ...  7605.000000   7605.000000\n",
              "mean     23.000000    59.356198  ...   172.460809      7.826821\n",
              "std      12.987966    18.678607  ...    39.738346      1.877259\n",
              "min       1.000000    -7.290000  ...   126.064000      3.684000\n",
              "25%      12.000000    45.902500  ...   132.364839      6.634000\n",
              "50%      23.000000    60.710000  ...   182.764003      7.806000\n",
              "75%      34.000000    73.880000  ...   213.932412      8.567000\n",
              "max      45.000000   101.950000  ...   228.976456     14.313000\n",
              "\n",
              "[8 rows x 10 columns]"
            ]
          },
          "metadata": {
            "tags": []
          },
          "execution_count": 10
        }
      ]
    },
    {
      "cell_type": "code",
      "metadata": {
        "colab": {
          "base_uri": "https://localhost:8080/"
        },
        "id": "VBP6rfNCWzL0",
        "outputId": "8a0f9714-e3d9-4e31-cebb-369e5ea12ac4"
      },
      "source": [
        "# Value counts of IsHoliday\n",
        "features['IsHoliday'].value_counts()"
      ],
      "execution_count": null,
      "outputs": [
        {
          "output_type": "execute_result",
          "data": {
            "text/plain": [
              "False    7605\n",
              "True      585\n",
              "Name: IsHoliday, dtype: int64"
            ]
          },
          "metadata": {
            "tags": []
          },
          "execution_count": 11
        }
      ]
    },
    {
      "cell_type": "code",
      "metadata": {
        "colab": {
          "base_uri": "https://localhost:8080/",
          "height": 204
        },
        "id": "e3GllCGbWzOO",
        "outputId": "b5ea6517-7f68-47c3-8699-ac50821e6db1"
      },
      "source": [
        "# Converting date into datetime format\n",
        "features['Date'] = to_datetime(features['Date'])\n",
        "features.head(5)"
      ],
      "execution_count": null,
      "outputs": [
        {
          "output_type": "execute_result",
          "data": {
            "text/html": [
              "<div>\n",
              "<style scoped>\n",
              "    .dataframe tbody tr th:only-of-type {\n",
              "        vertical-align: middle;\n",
              "    }\n",
              "\n",
              "    .dataframe tbody tr th {\n",
              "        vertical-align: top;\n",
              "    }\n",
              "\n",
              "    .dataframe thead th {\n",
              "        text-align: right;\n",
              "    }\n",
              "</style>\n",
              "<table border=\"1\" class=\"dataframe\">\n",
              "  <thead>\n",
              "    <tr style=\"text-align: right;\">\n",
              "      <th></th>\n",
              "      <th>Store</th>\n",
              "      <th>Date</th>\n",
              "      <th>Temperature</th>\n",
              "      <th>Fuel_Price</th>\n",
              "      <th>MarkDown1</th>\n",
              "      <th>MarkDown2</th>\n",
              "      <th>MarkDown3</th>\n",
              "      <th>MarkDown4</th>\n",
              "      <th>MarkDown5</th>\n",
              "      <th>CPI</th>\n",
              "      <th>Unemployment</th>\n",
              "      <th>IsHoliday</th>\n",
              "    </tr>\n",
              "  </thead>\n",
              "  <tbody>\n",
              "    <tr>\n",
              "      <th>0</th>\n",
              "      <td>1</td>\n",
              "      <td>2010-05-02</td>\n",
              "      <td>42.31</td>\n",
              "      <td>2.572</td>\n",
              "      <td>NaN</td>\n",
              "      <td>NaN</td>\n",
              "      <td>NaN</td>\n",
              "      <td>NaN</td>\n",
              "      <td>NaN</td>\n",
              "      <td>211.096358</td>\n",
              "      <td>8.106</td>\n",
              "      <td>False</td>\n",
              "    </tr>\n",
              "    <tr>\n",
              "      <th>1</th>\n",
              "      <td>1</td>\n",
              "      <td>2010-12-02</td>\n",
              "      <td>38.51</td>\n",
              "      <td>2.548</td>\n",
              "      <td>NaN</td>\n",
              "      <td>NaN</td>\n",
              "      <td>NaN</td>\n",
              "      <td>NaN</td>\n",
              "      <td>NaN</td>\n",
              "      <td>211.242170</td>\n",
              "      <td>8.106</td>\n",
              "      <td>True</td>\n",
              "    </tr>\n",
              "    <tr>\n",
              "      <th>2</th>\n",
              "      <td>1</td>\n",
              "      <td>2010-02-19</td>\n",
              "      <td>39.93</td>\n",
              "      <td>2.514</td>\n",
              "      <td>NaN</td>\n",
              "      <td>NaN</td>\n",
              "      <td>NaN</td>\n",
              "      <td>NaN</td>\n",
              "      <td>NaN</td>\n",
              "      <td>211.289143</td>\n",
              "      <td>8.106</td>\n",
              "      <td>False</td>\n",
              "    </tr>\n",
              "    <tr>\n",
              "      <th>3</th>\n",
              "      <td>1</td>\n",
              "      <td>2010-02-26</td>\n",
              "      <td>46.63</td>\n",
              "      <td>2.561</td>\n",
              "      <td>NaN</td>\n",
              "      <td>NaN</td>\n",
              "      <td>NaN</td>\n",
              "      <td>NaN</td>\n",
              "      <td>NaN</td>\n",
              "      <td>211.319643</td>\n",
              "      <td>8.106</td>\n",
              "      <td>False</td>\n",
              "    </tr>\n",
              "    <tr>\n",
              "      <th>4</th>\n",
              "      <td>1</td>\n",
              "      <td>2010-05-03</td>\n",
              "      <td>46.50</td>\n",
              "      <td>2.625</td>\n",
              "      <td>NaN</td>\n",
              "      <td>NaN</td>\n",
              "      <td>NaN</td>\n",
              "      <td>NaN</td>\n",
              "      <td>NaN</td>\n",
              "      <td>211.350143</td>\n",
              "      <td>8.106</td>\n",
              "      <td>False</td>\n",
              "    </tr>\n",
              "  </tbody>\n",
              "</table>\n",
              "</div>"
            ],
            "text/plain": [
              "   Store       Date  Temperature  ...         CPI  Unemployment  IsHoliday\n",
              "0      1 2010-05-02        42.31  ...  211.096358         8.106      False\n",
              "1      1 2010-12-02        38.51  ...  211.242170         8.106       True\n",
              "2      1 2010-02-19        39.93  ...  211.289143         8.106      False\n",
              "3      1 2010-02-26        46.63  ...  211.319643         8.106      False\n",
              "4      1 2010-05-03        46.50  ...  211.350143         8.106      False\n",
              "\n",
              "[5 rows x 12 columns]"
            ]
          },
          "metadata": {
            "tags": []
          },
          "execution_count": 12
        }
      ]
    },
    {
      "cell_type": "markdown",
      "metadata": {
        "id": "IRs0bpx4XH_M"
      },
      "source": [
        "# Analysing the sales dataframe"
      ]
    },
    {
      "cell_type": "code",
      "metadata": {
        "colab": {
          "base_uri": "https://localhost:8080/"
        },
        "id": "n6syQphlWzSg",
        "outputId": "09f497d8-be03-49f2-cfa0-ac6f937928f5"
      },
      "source": [
        "sales.info()"
      ],
      "execution_count": null,
      "outputs": [
        {
          "output_type": "stream",
          "text": [
            "<class 'pandas.core.frame.DataFrame'>\n",
            "RangeIndex: 421570 entries, 0 to 421569\n",
            "Data columns (total 5 columns):\n",
            " #   Column        Non-Null Count   Dtype  \n",
            "---  ------        --------------   -----  \n",
            " 0   Store         421570 non-null  int64  \n",
            " 1   Dept          421570 non-null  int64  \n",
            " 2   Date          421570 non-null  object \n",
            " 3   Weekly_Sales  421570 non-null  float64\n",
            " 4   IsHoliday     421570 non-null  bool   \n",
            "dtypes: bool(1), float64(1), int64(2), object(1)\n",
            "memory usage: 13.3+ MB\n"
          ],
          "name": "stdout"
        }
      ]
    },
    {
      "cell_type": "code",
      "metadata": {
        "colab": {
          "base_uri": "https://localhost:8080/"
        },
        "id": "5C5HFQhoWzUP",
        "outputId": "b2934647-2026-428d-bab2-6af1d992033a"
      },
      "source": [
        "print('Percentage of null values is ',\"{:.3f}\".format(100*sales.isna().sum().sum()/sales.size),'%')"
      ],
      "execution_count": null,
      "outputs": [
        {
          "output_type": "stream",
          "text": [
            "Percentage of null values is  0.000 %\n"
          ],
          "name": "stdout"
        }
      ]
    },
    {
      "cell_type": "code",
      "metadata": {
        "colab": {
          "base_uri": "https://localhost:8080/",
          "height": 297
        },
        "id": "96smYyUZWzYt",
        "outputId": "9a9029be-2df8-4ceb-c761-bf4662f7a873"
      },
      "source": [
        "sales.describe()"
      ],
      "execution_count": null,
      "outputs": [
        {
          "output_type": "execute_result",
          "data": {
            "text/html": [
              "<div>\n",
              "<style scoped>\n",
              "    .dataframe tbody tr th:only-of-type {\n",
              "        vertical-align: middle;\n",
              "    }\n",
              "\n",
              "    .dataframe tbody tr th {\n",
              "        vertical-align: top;\n",
              "    }\n",
              "\n",
              "    .dataframe thead th {\n",
              "        text-align: right;\n",
              "    }\n",
              "</style>\n",
              "<table border=\"1\" class=\"dataframe\">\n",
              "  <thead>\n",
              "    <tr style=\"text-align: right;\">\n",
              "      <th></th>\n",
              "      <th>Store</th>\n",
              "      <th>Dept</th>\n",
              "      <th>Weekly_Sales</th>\n",
              "    </tr>\n",
              "  </thead>\n",
              "  <tbody>\n",
              "    <tr>\n",
              "      <th>count</th>\n",
              "      <td>421570.000000</td>\n",
              "      <td>421570.000000</td>\n",
              "      <td>421570.000000</td>\n",
              "    </tr>\n",
              "    <tr>\n",
              "      <th>mean</th>\n",
              "      <td>22.200546</td>\n",
              "      <td>44.260317</td>\n",
              "      <td>15981.258123</td>\n",
              "    </tr>\n",
              "    <tr>\n",
              "      <th>std</th>\n",
              "      <td>12.785297</td>\n",
              "      <td>30.492054</td>\n",
              "      <td>22711.183519</td>\n",
              "    </tr>\n",
              "    <tr>\n",
              "      <th>min</th>\n",
              "      <td>1.000000</td>\n",
              "      <td>1.000000</td>\n",
              "      <td>-4988.940000</td>\n",
              "    </tr>\n",
              "    <tr>\n",
              "      <th>25%</th>\n",
              "      <td>11.000000</td>\n",
              "      <td>18.000000</td>\n",
              "      <td>2079.650000</td>\n",
              "    </tr>\n",
              "    <tr>\n",
              "      <th>50%</th>\n",
              "      <td>22.000000</td>\n",
              "      <td>37.000000</td>\n",
              "      <td>7612.030000</td>\n",
              "    </tr>\n",
              "    <tr>\n",
              "      <th>75%</th>\n",
              "      <td>33.000000</td>\n",
              "      <td>74.000000</td>\n",
              "      <td>20205.852500</td>\n",
              "    </tr>\n",
              "    <tr>\n",
              "      <th>max</th>\n",
              "      <td>45.000000</td>\n",
              "      <td>99.000000</td>\n",
              "      <td>693099.360000</td>\n",
              "    </tr>\n",
              "  </tbody>\n",
              "</table>\n",
              "</div>"
            ],
            "text/plain": [
              "               Store           Dept   Weekly_Sales\n",
              "count  421570.000000  421570.000000  421570.000000\n",
              "mean       22.200546      44.260317   15981.258123\n",
              "std        12.785297      30.492054   22711.183519\n",
              "min         1.000000       1.000000   -4988.940000\n",
              "25%        11.000000      18.000000    2079.650000\n",
              "50%        22.000000      37.000000    7612.030000\n",
              "75%        33.000000      74.000000   20205.852500\n",
              "max        45.000000      99.000000  693099.360000"
            ]
          },
          "metadata": {
            "tags": []
          },
          "execution_count": 15
        }
      ]
    },
    {
      "cell_type": "code",
      "metadata": {
        "colab": {
          "base_uri": "https://localhost:8080/",
          "height": 204
        },
        "id": "vxVW6FdRWzap",
        "outputId": "f1ace1a4-112e-4449-e65f-11360a734734"
      },
      "source": [
        "# Converting date into datetime format and adding new columns for year, month and day\n",
        "sales['Date'] = to_datetime(sales['Date'])\n",
        "sales['Year'] = sales['Date'].dt.year\n",
        "sales['Month'] = sales['Date'].dt.month_name()\n",
        "sales['Day'] = sales['Date'].dt.day_name()\n",
        "\n",
        "sales.head(5)"
      ],
      "execution_count": null,
      "outputs": [
        {
          "output_type": "execute_result",
          "data": {
            "text/html": [
              "<div>\n",
              "<style scoped>\n",
              "    .dataframe tbody tr th:only-of-type {\n",
              "        vertical-align: middle;\n",
              "    }\n",
              "\n",
              "    .dataframe tbody tr th {\n",
              "        vertical-align: top;\n",
              "    }\n",
              "\n",
              "    .dataframe thead th {\n",
              "        text-align: right;\n",
              "    }\n",
              "</style>\n",
              "<table border=\"1\" class=\"dataframe\">\n",
              "  <thead>\n",
              "    <tr style=\"text-align: right;\">\n",
              "      <th></th>\n",
              "      <th>Store</th>\n",
              "      <th>Dept</th>\n",
              "      <th>Date</th>\n",
              "      <th>Weekly_Sales</th>\n",
              "      <th>IsHoliday</th>\n",
              "      <th>Year</th>\n",
              "      <th>Month</th>\n",
              "      <th>Day</th>\n",
              "    </tr>\n",
              "  </thead>\n",
              "  <tbody>\n",
              "    <tr>\n",
              "      <th>0</th>\n",
              "      <td>1</td>\n",
              "      <td>1</td>\n",
              "      <td>2010-05-02</td>\n",
              "      <td>24924.50</td>\n",
              "      <td>False</td>\n",
              "      <td>2010</td>\n",
              "      <td>May</td>\n",
              "      <td>Sunday</td>\n",
              "    </tr>\n",
              "    <tr>\n",
              "      <th>1</th>\n",
              "      <td>1</td>\n",
              "      <td>1</td>\n",
              "      <td>2010-12-02</td>\n",
              "      <td>46039.49</td>\n",
              "      <td>True</td>\n",
              "      <td>2010</td>\n",
              "      <td>December</td>\n",
              "      <td>Thursday</td>\n",
              "    </tr>\n",
              "    <tr>\n",
              "      <th>2</th>\n",
              "      <td>1</td>\n",
              "      <td>1</td>\n",
              "      <td>2010-02-19</td>\n",
              "      <td>41595.55</td>\n",
              "      <td>False</td>\n",
              "      <td>2010</td>\n",
              "      <td>February</td>\n",
              "      <td>Friday</td>\n",
              "    </tr>\n",
              "    <tr>\n",
              "      <th>3</th>\n",
              "      <td>1</td>\n",
              "      <td>1</td>\n",
              "      <td>2010-02-26</td>\n",
              "      <td>19403.54</td>\n",
              "      <td>False</td>\n",
              "      <td>2010</td>\n",
              "      <td>February</td>\n",
              "      <td>Friday</td>\n",
              "    </tr>\n",
              "    <tr>\n",
              "      <th>4</th>\n",
              "      <td>1</td>\n",
              "      <td>1</td>\n",
              "      <td>2010-05-03</td>\n",
              "      <td>21827.90</td>\n",
              "      <td>False</td>\n",
              "      <td>2010</td>\n",
              "      <td>May</td>\n",
              "      <td>Monday</td>\n",
              "    </tr>\n",
              "  </tbody>\n",
              "</table>\n",
              "</div>"
            ],
            "text/plain": [
              "   Store  Dept       Date  Weekly_Sales  IsHoliday  Year     Month       Day\n",
              "0      1     1 2010-05-02      24924.50      False  2010       May    Sunday\n",
              "1      1     1 2010-12-02      46039.49       True  2010  December  Thursday\n",
              "2      1     1 2010-02-19      41595.55      False  2010  February    Friday\n",
              "3      1     1 2010-02-26      19403.54      False  2010  February    Friday\n",
              "4      1     1 2010-05-03      21827.90      False  2010       May    Monday"
            ]
          },
          "metadata": {
            "tags": []
          },
          "execution_count": 16
        }
      ]
    },
    {
      "cell_type": "code",
      "metadata": {
        "colab": {
          "base_uri": "https://localhost:8080/",
          "height": 591
        },
        "id": "Il3aLJ5DWze1",
        "outputId": "0e52fd80-0176-45b2-b49c-f0aabaced125"
      },
      "source": [
        "# Weekly sales trend by month\n",
        "print(sales.groupby('Month')['Weekly_Sales'].mean())\n",
        "sales.groupby('Month')['Weekly_Sales'].mean().plot.bar()"
      ],
      "execution_count": null,
      "outputs": [
        {
          "output_type": "stream",
          "text": [
            "Month\n",
            "April        15638.149799\n",
            "August       16012.023938\n",
            "December     18342.245834\n",
            "February     16026.823127\n",
            "January      14503.308110\n",
            "July         15563.149206\n",
            "June         16258.141930\n",
            "March        15631.676728\n",
            "May          15850.122787\n",
            "November     17271.744814\n",
            "October      15728.044488\n",
            "September    15378.844836\n",
            "Name: Weekly_Sales, dtype: float64\n"
          ],
          "name": "stdout"
        },
        {
          "output_type": "execute_result",
          "data": {
            "text/plain": [
              "<matplotlib.axes._subplots.AxesSubplot at 0x7fe676a80550>"
            ]
          },
          "metadata": {
            "tags": []
          },
          "execution_count": 17
        },
        {
          "output_type": "display_data",
          "data": {
            "image/png": "[encoded data removed]",
            "text/plain": [
              "<Figure size 432x288 with 1 Axes>"
            ]
          },
          "metadata": {
            "tags": [],
            "needs_background": "light"
          }
        }
      ]
    },
    {
      "cell_type": "code",
      "metadata": {
        "colab": {
          "base_uri": "https://localhost:8080/",
          "height": 509
        },
        "id": "oaJnoB8DWzgp",
        "outputId": "33f62860-b7e0-4b25-8eb4-c752a6eded8c"
      },
      "source": [
        "# Weekly sales trend by day\n",
        "print(sales.groupby('Day')['Weekly_Sales'].mean())\n",
        "sales.groupby('Day')['Weekly_Sales'].mean().plot.bar()"
      ],
      "execution_count": null,
      "outputs": [
        {
          "output_type": "stream",
          "text": [
            "Day\n",
            "Friday       15853.395696\n",
            "Monday       16512.368691\n",
            "Saturday     16009.901017\n",
            "Sunday       16111.223090\n",
            "Thursday     16146.358537\n",
            "Tuesday      16412.654937\n",
            "Wednesday    15748.737228\n",
            "Name: Weekly_Sales, dtype: float64\n"
          ],
          "name": "stdout"
        },
        {
          "output_type": "execute_result",
          "data": {
            "text/plain": [
              "<matplotlib.axes._subplots.AxesSubplot at 0x7fe676980550>"
            ]
          },
          "metadata": {
            "tags": []
          },
          "execution_count": 18
        },
        {
          "output_type": "display_data",
          "data": {
            "image/png": "[encoded data removed]",
            "text/plain": [
              "<Figure size 432x288 with 1 Axes>"
            ]
          },
          "metadata": {
            "tags": [],
            "needs_background": "light"
          }
        }
      ]
    },
    {
      "cell_type": "markdown",
      "metadata": {
        "id": "LHw5iWGAXoNW"
      },
      "source": [
        "# Analysing the stores dataframe"
      ]
    },
    {
      "cell_type": "code",
      "metadata": {
        "colab": {
          "base_uri": "https://localhost:8080/"
        },
        "id": "a97vb1mAWzlV",
        "outputId": "d2c8dec2-e37e-4355-f00c-0c0cd2410c7d"
      },
      "source": [
        "stores.info()"
      ],
      "execution_count": null,
      "outputs": [
        {
          "output_type": "stream",
          "text": [
            "<class 'pandas.core.frame.DataFrame'>\n",
            "RangeIndex: 45 entries, 0 to 44\n",
            "Data columns (total 3 columns):\n",
            " #   Column  Non-Null Count  Dtype \n",
            "---  ------  --------------  ----- \n",
            " 0   Store   45 non-null     int64 \n",
            " 1   Type    45 non-null     object\n",
            " 2   Size    45 non-null     int64 \n",
            "dtypes: int64(2), object(1)\n",
            "memory usage: 1.2+ KB\n"
          ],
          "name": "stdout"
        }
      ]
    },
    {
      "cell_type": "code",
      "metadata": {
        "colab": {
          "base_uri": "https://localhost:8080/"
        },
        "id": "M557porxWznF",
        "outputId": "e3722cc8-d6bf-46b9-dc81-b5c670107339"
      },
      "source": [
        "print('Percentage of null values is ',\"{:.3f}\".format(100*stores.isna().sum().sum()/stores.size),'%')"
      ],
      "execution_count": null,
      "outputs": [
        {
          "output_type": "stream",
          "text": [
            "Percentage of null values is  0.000 %\n"
          ],
          "name": "stdout"
        }
      ]
    },
    {
      "cell_type": "code",
      "metadata": {
        "colab": {
          "base_uri": "https://localhost:8080/",
          "height": 297
        },
        "id": "s94GtWbVWzrV",
        "outputId": "877dd98f-cee2-4a85-f52d-246f76af5c5a"
      },
      "source": [
        "stores.describe()"
      ],
      "execution_count": null,
      "outputs": [
        {
          "output_type": "execute_result",
          "data": {
            "text/html": [
              "<div>\n",
              "<style scoped>\n",
              "    .dataframe tbody tr th:only-of-type {\n",
              "        vertical-align: middle;\n",
              "    }\n",
              "\n",
              "    .dataframe tbody tr th {\n",
              "        vertical-align: top;\n",
              "    }\n",
              "\n",
              "    .dataframe thead th {\n",
              "        text-align: right;\n",
              "    }\n",
              "</style>\n",
              "<table border=\"1\" class=\"dataframe\">\n",
              "  <thead>\n",
              "    <tr style=\"text-align: right;\">\n",
              "      <th></th>\n",
              "      <th>Store</th>\n",
              "      <th>Size</th>\n",
              "    </tr>\n",
              "  </thead>\n",
              "  <tbody>\n",
              "    <tr>\n",
              "      <th>count</th>\n",
              "      <td>45.000000</td>\n",
              "      <td>45.000000</td>\n",
              "    </tr>\n",
              "    <tr>\n",
              "      <th>mean</th>\n",
              "      <td>23.000000</td>\n",
              "      <td>130287.600000</td>\n",
              "    </tr>\n",
              "    <tr>\n",
              "      <th>std</th>\n",
              "      <td>13.133926</td>\n",
              "      <td>63825.271991</td>\n",
              "    </tr>\n",
              "    <tr>\n",
              "      <th>min</th>\n",
              "      <td>1.000000</td>\n",
              "      <td>34875.000000</td>\n",
              "    </tr>\n",
              "    <tr>\n",
              "      <th>25%</th>\n",
              "      <td>12.000000</td>\n",
              "      <td>70713.000000</td>\n",
              "    </tr>\n",
              "    <tr>\n",
              "      <th>50%</th>\n",
              "      <td>23.000000</td>\n",
              "      <td>126512.000000</td>\n",
              "    </tr>\n",
              "    <tr>\n",
              "      <th>75%</th>\n",
              "      <td>34.000000</td>\n",
              "      <td>202307.000000</td>\n",
              "    </tr>\n",
              "    <tr>\n",
              "      <th>max</th>\n",
              "      <td>45.000000</td>\n",
              "      <td>219622.000000</td>\n",
              "    </tr>\n",
              "  </tbody>\n",
              "</table>\n",
              "</div>"
            ],
            "text/plain": [
              "           Store           Size\n",
              "count  45.000000      45.000000\n",
              "mean   23.000000  130287.600000\n",
              "std    13.133926   63825.271991\n",
              "min     1.000000   34875.000000\n",
              "25%    12.000000   70713.000000\n",
              "50%    23.000000  126512.000000\n",
              "75%    34.000000  202307.000000\n",
              "max    45.000000  219622.000000"
            ]
          },
          "metadata": {
            "tags": []
          },
          "execution_count": 21
        }
      ]
    },
    {
      "cell_type": "markdown",
      "metadata": {
        "id": "2eiZbWvKX5BT"
      },
      "source": [
        "# Data preparation"
      ]
    },
    {
      "cell_type": "code",
      "metadata": {
        "colab": {
          "base_uri": "https://localhost:8080/"
        },
        "id": "nhjYLisiWzuN",
        "outputId": "9a8e8b54-c970-491a-9cfb-5c2391967113"
      },
      "source": [
        "#Merging sales and stores dataframe\n",
        "df = merge(sales,stores,on='Store',how='left')\n",
        "df.shape"
      ],
      "execution_count": null,
      "outputs": [
        {
          "output_type": "execute_result",
          "data": {
            "text/plain": [
              "(421570, 10)"
            ]
          },
          "metadata": {
            "tags": []
          },
          "execution_count": 22
        }
      ]
    },
    {
      "cell_type": "code",
      "metadata": {
        "colab": {
          "base_uri": "https://localhost:8080/",
          "height": 326
        },
        "id": "aHdMKy7XXzvu",
        "outputId": "065cd0cb-6846-4409-d48b-08e87fdd3b49"
      },
      "source": [
        "#Merge features into the above dataframe\n",
        "df = merge(df,features,on=['Store','Date','IsHoliday'])\n",
        "print(df.shape)\n",
        "\n",
        "# Converting all column names to lowercase for uniformity\n",
        "df.columns = df.columns.str.lower()\n",
        "df.head(5)"
      ],
      "execution_count": null,
      "outputs": [
        {
          "output_type": "stream",
          "text": [
            "(421570, 19)\n"
          ],
          "name": "stdout"
        },
        {
          "output_type": "execute_result",
          "data": {
            "text/html": [
              "<div>\n",
              "<style scoped>\n",
              "    .dataframe tbody tr th:only-of-type {\n",
              "        vertical-align: middle;\n",
              "    }\n",
              "\n",
              "    .dataframe tbody tr th {\n",
              "        vertical-align: top;\n",
              "    }\n",
              "\n",
              "    .dataframe thead th {\n",
              "        text-align: right;\n",
              "    }\n",
              "</style>\n",
              "<table border=\"1\" class=\"dataframe\">\n",
              "  <thead>\n",
              "    <tr style=\"text-align: right;\">\n",
              "      <th></th>\n",
              "      <th>store</th>\n",
              "      <th>dept</th>\n",
              "      <th>date</th>\n",
              "      <th>weekly_sales</th>\n",
              "      <th>isholiday</th>\n",
              "      <th>year</th>\n",
              "      <th>month</th>\n",
              "      <th>day</th>\n",
              "      <th>type</th>\n",
              "      <th>size</th>\n",
              "      <th>temperature</th>\n",
              "      <th>fuel_price</th>\n",
              "      <th>markdown1</th>\n",
              "      <th>markdown2</th>\n",
              "      <th>markdown3</th>\n",
              "      <th>markdown4</th>\n",
              "      <th>markdown5</th>\n",
              "      <th>cpi</th>\n",
              "      <th>unemployment</th>\n",
              "    </tr>\n",
              "  </thead>\n",
              "  <tbody>\n",
              "    <tr>\n",
              "      <th>0</th>\n",
              "      <td>1</td>\n",
              "      <td>1</td>\n",
              "      <td>2010-05-02</td>\n",
              "      <td>24924.50</td>\n",
              "      <td>False</td>\n",
              "      <td>2010</td>\n",
              "      <td>May</td>\n",
              "      <td>Sunday</td>\n",
              "      <td>A</td>\n",
              "      <td>151315</td>\n",
              "      <td>42.31</td>\n",
              "      <td>2.572</td>\n",
              "      <td>NaN</td>\n",
              "      <td>NaN</td>\n",
              "      <td>NaN</td>\n",
              "      <td>NaN</td>\n",
              "      <td>NaN</td>\n",
              "      <td>211.096358</td>\n",
              "      <td>8.106</td>\n",
              "    </tr>\n",
              "    <tr>\n",
              "      <th>1</th>\n",
              "      <td>1</td>\n",
              "      <td>2</td>\n",
              "      <td>2010-05-02</td>\n",
              "      <td>50605.27</td>\n",
              "      <td>False</td>\n",
              "      <td>2010</td>\n",
              "      <td>May</td>\n",
              "      <td>Sunday</td>\n",
              "      <td>A</td>\n",
              "      <td>151315</td>\n",
              "      <td>42.31</td>\n",
              "      <td>2.572</td>\n",
              "      <td>NaN</td>\n",
              "      <td>NaN</td>\n",
              "      <td>NaN</td>\n",
              "      <td>NaN</td>\n",
              "      <td>NaN</td>\n",
              "      <td>211.096358</td>\n",
              "      <td>8.106</td>\n",
              "    </tr>\n",
              "    <tr>\n",
              "      <th>2</th>\n",
              "      <td>1</td>\n",
              "      <td>3</td>\n",
              "      <td>2010-05-02</td>\n",
              "      <td>13740.12</td>\n",
              "      <td>False</td>\n",
              "      <td>2010</td>\n",
              "      <td>May</td>\n",
              "      <td>Sunday</td>\n",
              "      <td>A</td>\n",
              "      <td>151315</td>\n",
              "      <td>42.31</td>\n",
              "      <td>2.572</td>\n",
              "      <td>NaN</td>\n",
              "      <td>NaN</td>\n",
              "      <td>NaN</td>\n",
              "      <td>NaN</td>\n",
              "      <td>NaN</td>\n",
              "      <td>211.096358</td>\n",
              "      <td>8.106</td>\n",
              "    </tr>\n",
              "    <tr>\n",
              "      <th>3</th>\n",
              "      <td>1</td>\n",
              "      <td>4</td>\n",
              "      <td>2010-05-02</td>\n",
              "      <td>39954.04</td>\n",
              "      <td>False</td>\n",
              "      <td>2010</td>\n",
              "      <td>May</td>\n",
              "      <td>Sunday</td>\n",
              "      <td>A</td>\n",
              "      <td>151315</td>\n",
              "      <td>42.31</td>\n",
              "      <td>2.572</td>\n",
              "      <td>NaN</td>\n",
              "      <td>NaN</td>\n",
              "      <td>NaN</td>\n",
              "      <td>NaN</td>\n",
              "      <td>NaN</td>\n",
              "      <td>211.096358</td>\n",
              "      <td>8.106</td>\n",
              "    </tr>\n",
              "    <tr>\n",
              "      <th>4</th>\n",
              "      <td>1</td>\n",
              "      <td>5</td>\n",
              "      <td>2010-05-02</td>\n",
              "      <td>32229.38</td>\n",
              "      <td>False</td>\n",
              "      <td>2010</td>\n",
              "      <td>May</td>\n",
              "      <td>Sunday</td>\n",
              "      <td>A</td>\n",
              "      <td>151315</td>\n",
              "      <td>42.31</td>\n",
              "      <td>2.572</td>\n",
              "      <td>NaN</td>\n",
              "      <td>NaN</td>\n",
              "      <td>NaN</td>\n",
              "      <td>NaN</td>\n",
              "      <td>NaN</td>\n",
              "      <td>211.096358</td>\n",
              "      <td>8.106</td>\n",
              "    </tr>\n",
              "  </tbody>\n",
              "</table>\n",
              "</div>"
            ],
            "text/plain": [
              "   store  dept       date  ...  markdown5         cpi  unemployment\n",
              "0      1     1 2010-05-02  ...        NaN  211.096358         8.106\n",
              "1      1     2 2010-05-02  ...        NaN  211.096358         8.106\n",
              "2      1     3 2010-05-02  ...        NaN  211.096358         8.106\n",
              "3      1     4 2010-05-02  ...        NaN  211.096358         8.106\n",
              "4      1     5 2010-05-02  ...        NaN  211.096358         8.106\n",
              "\n",
              "[5 rows x 19 columns]"
            ]
          },
          "metadata": {
            "tags": []
          },
          "execution_count": 23
        }
      ]
    },
    {
      "cell_type": "code",
      "metadata": {
        "colab": {
          "base_uri": "https://localhost:8080/"
        },
        "id": "igK3JFPGXzxo",
        "outputId": "058c427c-145e-4256-c078-27bcac182489"
      },
      "source": [
        "# Dropping all null values in markdown columns\n",
        "df.dropna(axis=0,subset=['markdown1','markdown2','markdown3','markdown4','markdown5'],inplace=True)\n",
        "df.shape"
      ],
      "execution_count": null,
      "outputs": [
        {
          "output_type": "execute_result",
          "data": {
            "text/plain": [
              "(97056, 19)"
            ]
          },
          "metadata": {
            "tags": []
          },
          "execution_count": 24
        }
      ]
    },
    {
      "cell_type": "code",
      "metadata": {
        "colab": {
          "base_uri": "https://localhost:8080/",
          "height": 628
        },
        "id": "zv7agGegXz1w",
        "outputId": "6d8adb7f-7422-4334-c097-e54f13097555"
      },
      "source": [
        "# Maximum sales by each store\n",
        "df.groupby('store', as_index=False)['weekly_sales'].max().plot.bar(x='store',y='weekly_sales',figsize=(15,10),rot=0)"
      ],
      "execution_count": null,
      "outputs": [
        {
          "output_type": "execute_result",
          "data": {
            "text/plain": [
              "<matplotlib.axes._subplots.AxesSubplot at 0x7fe676415c90>"
            ]
          },
          "metadata": {
            "tags": []
          },
          "execution_count": 25
        },
        {
          "output_type": "display_data",
          "data": {
            "image/png": "[encoded data removed]",
            "text/plain": [
              "<Figure size 1080x720 with 1 Axes>"
            ]
          },
          "metadata": {
            "tags": [],
            "needs_background": "light"
          }
        }
      ]
    },
    {
      "cell_type": "code",
      "metadata": {
        "colab": {
          "base_uri": "https://localhost:8080/",
          "height": 900
        },
        "id": "aZ-OyHxYXz30",
        "outputId": "be11205e-0126-4c1c-d2bf-33603eb3d5c8"
      },
      "source": [
        "# Maximum sales by each dept\n",
        "df.groupby('dept', as_index=False)['weekly_sales'].max().plot.bar(x='dept',y='weekly_sales',figsize=(20,15),rot=0)\n",
        ""
      ],
      "execution_count": null,
      "outputs": [
        {
          "output_type": "execute_result",
          "data": {
            "text/plain": [
              "<matplotlib.axes._subplots.AxesSubplot at 0x7fe675088490>"
            ]
          },
          "metadata": {
            "tags": []
          },
          "execution_count": 26
        },
        {
          "output_type": "display_data",
          "data": {
            "image/png": "[encoded data removed]",
            "text/plain": [
              "<Figure size 1440x1080 with 1 Axes>"
            ]
          },
          "metadata": {
            "tags": [],
            "needs_background": "light"
          }
        }
      ]
    },
    {
      "cell_type": "code",
      "metadata": {
        "colab": {
          "base_uri": "https://localhost:8080/",
          "height": 309
        },
        "id": "qGP1fUbHXz7l",
        "outputId": "ff4a2def-4559-4776-93db-fdea16a87e78"
      },
      "source": [
        "# Converting month and day to number form and creating Dummy Variables for object types\n",
        "df['month'] = df['date'].dt.month\n",
        "df['day'] = df['date'].dt.weekday\n",
        "df['isholiday'] = LabelEncoder().fit_transform(df['isholiday'])\n",
        "df = get_dummies(df,columns=['type'],prefix=['type'])\n",
        "df.head(5)"
      ],
      "execution_count": null,
      "outputs": [
        {
          "output_type": "execute_result",
          "data": {
            "text/html": [
              "<div>\n",
              "<style scoped>\n",
              "    .dataframe tbody tr th:only-of-type {\n",
              "        vertical-align: middle;\n",
              "    }\n",
              "\n",
              "    .dataframe tbody tr th {\n",
              "        vertical-align: top;\n",
              "    }\n",
              "\n",
              "    .dataframe thead th {\n",
              "        text-align: right;\n",
              "    }\n",
              "</style>\n",
              "<table border=\"1\" class=\"dataframe\">\n",
              "  <thead>\n",
              "    <tr style=\"text-align: right;\">\n",
              "      <th></th>\n",
              "      <th>store</th>\n",
              "      <th>dept</th>\n",
              "      <th>date</th>\n",
              "      <th>weekly_sales</th>\n",
              "      <th>isholiday</th>\n",
              "      <th>year</th>\n",
              "      <th>month</th>\n",
              "      <th>day</th>\n",
              "      <th>size</th>\n",
              "      <th>temperature</th>\n",
              "      <th>fuel_price</th>\n",
              "      <th>markdown1</th>\n",
              "      <th>markdown2</th>\n",
              "      <th>markdown3</th>\n",
              "      <th>markdown4</th>\n",
              "      <th>markdown5</th>\n",
              "      <th>cpi</th>\n",
              "      <th>unemployment</th>\n",
              "      <th>type_A</th>\n",
              "      <th>type_B</th>\n",
              "      <th>type_C</th>\n",
              "    </tr>\n",
              "  </thead>\n",
              "  <tbody>\n",
              "    <tr>\n",
              "      <th>6587</th>\n",
              "      <td>1</td>\n",
              "      <td>1</td>\n",
              "      <td>2011-11-11</td>\n",
              "      <td>18689.54</td>\n",
              "      <td>0</td>\n",
              "      <td>2011</td>\n",
              "      <td>11</td>\n",
              "      <td>4</td>\n",
              "      <td>151315</td>\n",
              "      <td>59.11</td>\n",
              "      <td>3.297</td>\n",
              "      <td>10382.9</td>\n",
              "      <td>6115.67</td>\n",
              "      <td>215.07</td>\n",
              "      <td>2406.62</td>\n",
              "      <td>6551.42</td>\n",
              "      <td>217.998085</td>\n",
              "      <td>7.866</td>\n",
              "      <td>1</td>\n",
              "      <td>0</td>\n",
              "      <td>0</td>\n",
              "    </tr>\n",
              "    <tr>\n",
              "      <th>6588</th>\n",
              "      <td>1</td>\n",
              "      <td>2</td>\n",
              "      <td>2011-11-11</td>\n",
              "      <td>44936.47</td>\n",
              "      <td>0</td>\n",
              "      <td>2011</td>\n",
              "      <td>11</td>\n",
              "      <td>4</td>\n",
              "      <td>151315</td>\n",
              "      <td>59.11</td>\n",
              "      <td>3.297</td>\n",
              "      <td>10382.9</td>\n",
              "      <td>6115.67</td>\n",
              "      <td>215.07</td>\n",
              "      <td>2406.62</td>\n",
              "      <td>6551.42</td>\n",
              "      <td>217.998085</td>\n",
              "      <td>7.866</td>\n",
              "      <td>1</td>\n",
              "      <td>0</td>\n",
              "      <td>0</td>\n",
              "    </tr>\n",
              "    <tr>\n",
              "      <th>6589</th>\n",
              "      <td>1</td>\n",
              "      <td>3</td>\n",
              "      <td>2011-11-11</td>\n",
              "      <td>9959.64</td>\n",
              "      <td>0</td>\n",
              "      <td>2011</td>\n",
              "      <td>11</td>\n",
              "      <td>4</td>\n",
              "      <td>151315</td>\n",
              "      <td>59.11</td>\n",
              "      <td>3.297</td>\n",
              "      <td>10382.9</td>\n",
              "      <td>6115.67</td>\n",
              "      <td>215.07</td>\n",
              "      <td>2406.62</td>\n",
              "      <td>6551.42</td>\n",
              "      <td>217.998085</td>\n",
              "      <td>7.866</td>\n",
              "      <td>1</td>\n",
              "      <td>0</td>\n",
              "      <td>0</td>\n",
              "    </tr>\n",
              "    <tr>\n",
              "      <th>6590</th>\n",
              "      <td>1</td>\n",
              "      <td>4</td>\n",
              "      <td>2011-11-11</td>\n",
              "      <td>36826.52</td>\n",
              "      <td>0</td>\n",
              "      <td>2011</td>\n",
              "      <td>11</td>\n",
              "      <td>4</td>\n",
              "      <td>151315</td>\n",
              "      <td>59.11</td>\n",
              "      <td>3.297</td>\n",
              "      <td>10382.9</td>\n",
              "      <td>6115.67</td>\n",
              "      <td>215.07</td>\n",
              "      <td>2406.62</td>\n",
              "      <td>6551.42</td>\n",
              "      <td>217.998085</td>\n",
              "      <td>7.866</td>\n",
              "      <td>1</td>\n",
              "      <td>0</td>\n",
              "      <td>0</td>\n",
              "    </tr>\n",
              "    <tr>\n",
              "      <th>6591</th>\n",
              "      <td>1</td>\n",
              "      <td>5</td>\n",
              "      <td>2011-11-11</td>\n",
              "      <td>31002.65</td>\n",
              "      <td>0</td>\n",
              "      <td>2011</td>\n",
              "      <td>11</td>\n",
              "      <td>4</td>\n",
              "      <td>151315</td>\n",
              "      <td>59.11</td>\n",
              "      <td>3.297</td>\n",
              "      <td>10382.9</td>\n",
              "      <td>6115.67</td>\n",
              "      <td>215.07</td>\n",
              "      <td>2406.62</td>\n",
              "      <td>6551.42</td>\n",
              "      <td>217.998085</td>\n",
              "      <td>7.866</td>\n",
              "      <td>1</td>\n",
              "      <td>0</td>\n",
              "      <td>0</td>\n",
              "    </tr>\n",
              "  </tbody>\n",
              "</table>\n",
              "</div>"
            ],
            "text/plain": [
              "      store  dept       date  ...  type_A  type_B  type_C\n",
              "6587      1     1 2011-11-11  ...       1       0       0\n",
              "6588      1     2 2011-11-11  ...       1       0       0\n",
              "6589      1     3 2011-11-11  ...       1       0       0\n",
              "6590      1     4 2011-11-11  ...       1       0       0\n",
              "6591      1     5 2011-11-11  ...       1       0       0\n",
              "\n",
              "[5 rows x 21 columns]"
            ]
          },
          "metadata": {
            "tags": []
          },
          "execution_count": 27
        }
      ]
    },
    {
      "cell_type": "code",
      "metadata": {
        "colab": {
          "base_uri": "https://localhost:8080/",
          "height": 224
        },
        "id": "OCo67BMNXz9a",
        "outputId": "ee488a92-dbd6-451c-f4c1-d87b0d22241d"
      },
      "source": [
        "# Dropping irrelevant features\n",
        "df.drop(columns=['date','type_C'],inplace=True)\n",
        "df.head(5)"
      ],
      "execution_count": null,
      "outputs": [
        {
          "output_type": "execute_result",
          "data": {
            "text/html": [
              "<div>\n",
              "<style scoped>\n",
              "    .dataframe tbody tr th:only-of-type {\n",
              "        vertical-align: middle;\n",
              "    }\n",
              "\n",
              "    .dataframe tbody tr th {\n",
              "        vertical-align: top;\n",
              "    }\n",
              "\n",
              "    .dataframe thead th {\n",
              "        text-align: right;\n",
              "    }\n",
              "</style>\n",
              "<table border=\"1\" class=\"dataframe\">\n",
              "  <thead>\n",
              "    <tr style=\"text-align: right;\">\n",
              "      <th></th>\n",
              "      <th>store</th>\n",
              "      <th>dept</th>\n",
              "      <th>weekly_sales</th>\n",
              "      <th>isholiday</th>\n",
              "      <th>year</th>\n",
              "      <th>month</th>\n",
              "      <th>day</th>\n",
              "      <th>size</th>\n",
              "      <th>temperature</th>\n",
              "      <th>fuel_price</th>\n",
              "      <th>markdown1</th>\n",
              "      <th>markdown2</th>\n",
              "      <th>markdown3</th>\n",
              "      <th>markdown4</th>\n",
              "      <th>markdown5</th>\n",
              "      <th>cpi</th>\n",
              "      <th>unemployment</th>\n",
              "      <th>type_A</th>\n",
              "      <th>type_B</th>\n",
              "    </tr>\n",
              "  </thead>\n",
              "  <tbody>\n",
              "    <tr>\n",
              "      <th>6587</th>\n",
              "      <td>1</td>\n",
              "      <td>1</td>\n",
              "      <td>18689.54</td>\n",
              "      <td>0</td>\n",
              "      <td>2011</td>\n",
              "      <td>11</td>\n",
              "      <td>4</td>\n",
              "      <td>151315</td>\n",
              "      <td>59.11</td>\n",
              "      <td>3.297</td>\n",
              "      <td>10382.9</td>\n",
              "      <td>6115.67</td>\n",
              "      <td>215.07</td>\n",
              "      <td>2406.62</td>\n",
              "      <td>6551.42</td>\n",
              "      <td>217.998085</td>\n",
              "      <td>7.866</td>\n",
              "      <td>1</td>\n",
              "      <td>0</td>\n",
              "    </tr>\n",
              "    <tr>\n",
              "      <th>6588</th>\n",
              "      <td>1</td>\n",
              "      <td>2</td>\n",
              "      <td>44936.47</td>\n",
              "      <td>0</td>\n",
              "      <td>2011</td>\n",
              "      <td>11</td>\n",
              "      <td>4</td>\n",
              "      <td>151315</td>\n",
              "      <td>59.11</td>\n",
              "      <td>3.297</td>\n",
              "      <td>10382.9</td>\n",
              "      <td>6115.67</td>\n",
              "      <td>215.07</td>\n",
              "      <td>2406.62</td>\n",
              "      <td>6551.42</td>\n",
              "      <td>217.998085</td>\n",
              "      <td>7.866</td>\n",
              "      <td>1</td>\n",
              "      <td>0</td>\n",
              "    </tr>\n",
              "    <tr>\n",
              "      <th>6589</th>\n",
              "      <td>1</td>\n",
              "      <td>3</td>\n",
              "      <td>9959.64</td>\n",
              "      <td>0</td>\n",
              "      <td>2011</td>\n",
              "      <td>11</td>\n",
              "      <td>4</td>\n",
              "      <td>151315</td>\n",
              "      <td>59.11</td>\n",
              "      <td>3.297</td>\n",
              "      <td>10382.9</td>\n",
              "      <td>6115.67</td>\n",
              "      <td>215.07</td>\n",
              "      <td>2406.62</td>\n",
              "      <td>6551.42</td>\n",
              "      <td>217.998085</td>\n",
              "      <td>7.866</td>\n",
              "      <td>1</td>\n",
              "      <td>0</td>\n",
              "    </tr>\n",
              "    <tr>\n",
              "      <th>6590</th>\n",
              "      <td>1</td>\n",
              "      <td>4</td>\n",
              "      <td>36826.52</td>\n",
              "      <td>0</td>\n",
              "      <td>2011</td>\n",
              "      <td>11</td>\n",
              "      <td>4</td>\n",
              "      <td>151315</td>\n",
              "      <td>59.11</td>\n",
              "      <td>3.297</td>\n",
              "      <td>10382.9</td>\n",
              "      <td>6115.67</td>\n",
              "      <td>215.07</td>\n",
              "      <td>2406.62</td>\n",
              "      <td>6551.42</td>\n",
              "      <td>217.998085</td>\n",
              "      <td>7.866</td>\n",
              "      <td>1</td>\n",
              "      <td>0</td>\n",
              "    </tr>\n",
              "    <tr>\n",
              "      <th>6591</th>\n",
              "      <td>1</td>\n",
              "      <td>5</td>\n",
              "      <td>31002.65</td>\n",
              "      <td>0</td>\n",
              "      <td>2011</td>\n",
              "      <td>11</td>\n",
              "      <td>4</td>\n",
              "      <td>151315</td>\n",
              "      <td>59.11</td>\n",
              "      <td>3.297</td>\n",
              "      <td>10382.9</td>\n",
              "      <td>6115.67</td>\n",
              "      <td>215.07</td>\n",
              "      <td>2406.62</td>\n",
              "      <td>6551.42</td>\n",
              "      <td>217.998085</td>\n",
              "      <td>7.866</td>\n",
              "      <td>1</td>\n",
              "      <td>0</td>\n",
              "    </tr>\n",
              "  </tbody>\n",
              "</table>\n",
              "</div>"
            ],
            "text/plain": [
              "      store  dept  weekly_sales  ...  unemployment  type_A  type_B\n",
              "6587      1     1      18689.54  ...         7.866       1       0\n",
              "6588      1     2      44936.47  ...         7.866       1       0\n",
              "6589      1     3       9959.64  ...         7.866       1       0\n",
              "6590      1     4      36826.52  ...         7.866       1       0\n",
              "6591      1     5      31002.65  ...         7.866       1       0\n",
              "\n",
              "[5 rows x 19 columns]"
            ]
          },
          "metadata": {
            "tags": []
          },
          "execution_count": 28
        }
      ]
    },
    {
      "cell_type": "code",
      "metadata": {
        "colab": {
          "base_uri": "https://localhost:8080/"
        },
        "id": "b9v1zShpX0Bf",
        "outputId": "52b010ea-bdfd-481e-8291-ed8db93e5bd2"
      },
      "source": [
        "# Removing instances where weekly sales < 100\n",
        "df = df[df['weekly_sales'] > 100]\n",
        "df.shape"
      ],
      "execution_count": null,
      "outputs": [
        {
          "output_type": "execute_result",
          "data": {
            "text/plain": [
              "(93071, 19)"
            ]
          },
          "metadata": {
            "tags": []
          },
          "execution_count": 29
        }
      ]
    },
    {
      "cell_type": "code",
      "metadata": {
        "colab": {
          "base_uri": "https://localhost:8080/"
        },
        "id": "jmhG9JMBX0Dm",
        "outputId": "a869faf9-8df0-4243-d8e8-aa636f460b2f"
      },
      "source": [
        "# Splitting the variables into independent X and dependent y sets\n",
        "X = df.drop(columns='weekly_sales')\n",
        "y = df['weekly_sales']\n",
        "print('shape of X: ',X.shape,'\\nshape of y: ',y.shape)"
      ],
      "execution_count": null,
      "outputs": [
        {
          "output_type": "stream",
          "text": [
            "shape of X:  (93071, 18) \n",
            "shape of y:  (93071,)\n"
          ],
          "name": "stdout"
        }
      ]
    },
    {
      "cell_type": "code",
      "metadata": {
        "colab": {
          "base_uri": "https://localhost:8080/"
        },
        "id": "aaFUKlbTX0Ho",
        "outputId": "41036367-3971-4cf4-aebb-2529f6337631"
      },
      "source": [
        "# Splitting data into train and test sets\n",
        "X_train, X_test, y_train, y_test = train_test_split(X, y, test_size=0.2, random_state=42)\n",
        "print('shape of X_train: ',X_train.shape,'\\nshape of y_train: ',y_train.shape)\n",
        "print('shape of X_test: ',X_test.shape,'\\nshape of y_test: ',y_test.shape)"
      ],
      "execution_count": null,
      "outputs": [
        {
          "output_type": "stream",
          "text": [
            "shape of X_train:  (74456, 18) \n",
            "shape of y_train:  (74456,)\n",
            "shape of X_test:  (18615, 18) \n",
            "shape of y_test:  (18615,)\n"
          ],
          "name": "stdout"
        }
      ]
    },
    {
      "cell_type": "code",
      "metadata": {
        "id": "PjcLeafQX0Ja"
      },
      "source": [
        "# Standardizing the X data using StandardScaler()\n",
        "scl = StandardScaler().fit(X_train)\n",
        "X_train = DataFrame(scl.transform(X_train),columns=X_train.columns,index=X_train.index)\n",
        "X_test = DataFrame(scl.transform(X_test),columns=X_test.columns,index=X_test.index)"
      ],
      "execution_count": null,
      "outputs": []
    },
    {
      "cell_type": "markdown",
      "metadata": {
        "id": "_9j-nNB5ZKS9"
      },
      "source": [
        "# Model Training and Evaluation"
      ]
    },
    {
      "cell_type": "code",
      "metadata": {
        "id": "tLwr1iJVX0N0"
      },
      "source": [
        "# Creating a deep neural network\n",
        "dnn = Sequential()\n",
        "# Input layer\n",
        "dnn.add(Dense(activation='relu',input_dim=18,units=10,kernel_initializer='uniform'))\n",
        "# Hidden layers\n",
        "dnn.add(Dense(10,activation='relu',kernel_initializer='uniform'))\n",
        "dnn.add(Dense(10,activation='relu',kernel_initializer='uniform'))\n",
        "dnn.add(Dense(6,activation='relu',kernel_initializer='uniform'))\n",
        "dnn.add(Dense(6,activation='relu',kernel_initializer='uniform'))\n",
        "# Output layer\n",
        "dnn.add(Dense(1,kernel_initializer='uniform'))"
      ],
      "execution_count": null,
      "outputs": []
    },
    {
      "cell_type": "code",
      "metadata": {
        "colab": {
          "base_uri": "https://localhost:8080/"
        },
        "id": "Wa23xZwfZCqw",
        "outputId": "c1104c25-0c51-40b4-c9d3-c9b08098e1a4"
      },
      "source": [
        "# Compiling the model\n",
        "dnn.compile(optimizer='adam',loss='mse',metrics=['mae'])\n",
        "dnn.summary()"
      ],
      "execution_count": null,
      "outputs": [
        {
          "output_type": "stream",
          "text": [
            "Model: \"sequential\"\n",
            "_________________________________________________________________\n",
            "Layer (type)                 Output Shape              Param #   \n",
            "=================================================================\n",
            "dense (Dense)                (None, 10)                190       \n",
            "_________________________________________________________________\n",
            "dense_1 (Dense)              (None, 10)                110       \n",
            "_________________________________________________________________\n",
            "dense_2 (Dense)              (None, 10)                110       \n",
            "_________________________________________________________________\n",
            "dense_3 (Dense)              (None, 6)                 66        \n",
            "_________________________________________________________________\n",
            "dense_4 (Dense)              (None, 6)                 42        \n",
            "_________________________________________________________________\n",
            "dense_5 (Dense)              (None, 1)                 7         \n",
            "=================================================================\n",
            "Total params: 525\n",
            "Trainable params: 525\n",
            "Non-trainable params: 0\n",
            "_________________________________________________________________\n"
          ],
          "name": "stdout"
        }
      ]
    },
    {
      "cell_type": "code",
      "metadata": {
        "colab": {
          "base_uri": "https://localhost:8080/"
        },
        "id": "dc9MnynyZC6P",
        "outputId": "5e5bfc91-b9fd-45ed-89fc-b3076c11be67"
      },
      "source": [
        "# Model Training\n",
        "dnn.fit(X_train,y_train,validation_data=(X_test,y_test),epochs=100,batch_size=64)"
      ],
      "execution_count": null,
      "outputs": [
        {
          "output_type": "stream",
          "text": [
            "Epoch 1/100\n",
            "1164/1164 [==============================] - 3s 2ms/step - loss: 708555776.0000 - mae: 16671.3281 - val_loss: 565604800.0000 - val_mae: 15928.7148\n",
            "Epoch 2/100\n",
            "1164/1164 [==============================] - 2s 2ms/step - loss: 568242496.0000 - mae: 16162.6582 - val_loss: 557354688.0000 - val_mae: 16048.3447\n",
            "Epoch 3/100\n",
            "1164/1164 [==============================] - 2s 2ms/step - loss: 560837056.0000 - mae: 16099.8525 - val_loss: 551786368.0000 - val_mae: 15928.3262\n",
            "Epoch 4/100\n",
            "1164/1164 [==============================] - 2s 2ms/step - loss: 554747200.0000 - mae: 16027.0898 - val_loss: 546160256.0000 - val_mae: 15733.2783\n",
            "Epoch 5/100\n",
            "1164/1164 [==============================] - 2s 2ms/step - loss: 548758400.0000 - mae: 15917.9814 - val_loss: 539212480.0000 - val_mae: 15713.9629\n",
            "Epoch 6/100\n",
            "1164/1164 [==============================] - 2s 2ms/step - loss: 537647936.0000 - mae: 15723.7490 - val_loss: 525940416.0000 - val_mae: 15360.9072\n",
            "Epoch 7/100\n",
            "1164/1164 [==============================] - 2s 2ms/step - loss: 523914528.0000 - mae: 15426.4648 - val_loss: 513624704.0000 - val_mae: 15065.6514\n",
            "Epoch 8/100\n",
            "1164/1164 [==============================] - 2s 2ms/step - loss: 513096896.0000 - mae: 15100.3916 - val_loss: 504808192.0000 - val_mae: 14807.0215\n",
            "Epoch 9/100\n",
            "1164/1164 [==============================] - 2s 2ms/step - loss: 506040064.0000 - mae: 14801.2432 - val_loss: 498618144.0000 - val_mae: 14616.4277\n",
            "Epoch 10/100\n",
            "1164/1164 [==============================] - 2s 2ms/step - loss: 501124224.0000 - mae: 14571.4648 - val_loss: 494517504.0000 - val_mae: 14467.7012\n",
            "Epoch 11/100\n",
            "1164/1164 [==============================] - 2s 2ms/step - loss: 497784672.0000 - mae: 14406.7725 - val_loss: 491941728.0000 - val_mae: 14206.6514\n",
            "Epoch 12/100\n",
            "1164/1164 [==============================] - 2s 2ms/step - loss: 494580928.0000 - mae: 14297.0557 - val_loss: 488601824.0000 - val_mae: 14175.3535\n",
            "Epoch 13/100\n",
            "1164/1164 [==============================] - 2s 2ms/step - loss: 492122400.0000 - mae: 14206.8848 - val_loss: 486517568.0000 - val_mae: 14152.2949\n",
            "Epoch 14/100\n",
            "1164/1164 [==============================] - 2s 2ms/step - loss: 490013856.0000 - mae: 14126.2920 - val_loss: 484642816.0000 - val_mae: 14017.7754\n",
            "Epoch 15/100\n",
            "1164/1164 [==============================] - 2s 2ms/step - loss: 488374144.0000 - mae: 14068.2510 - val_loss: 482885440.0000 - val_mae: 13968.4297\n",
            "Epoch 16/100\n",
            "1164/1164 [==============================] - 2s 2ms/step - loss: 486416192.0000 - mae: 14003.8418 - val_loss: 481132416.0000 - val_mae: 13924.6328\n",
            "Epoch 17/100\n",
            "1164/1164 [==============================] - 2s 2ms/step - loss: 484954336.0000 - mae: 13962.0850 - val_loss: 479414528.0000 - val_mae: 13886.1768\n",
            "Epoch 18/100\n",
            "1164/1164 [==============================] - 2s 2ms/step - loss: 483152672.0000 - mae: 13932.0107 - val_loss: 478411168.0000 - val_mae: 13672.6250\n",
            "Epoch 19/100\n",
            "1164/1164 [==============================] - 2s 2ms/step - loss: 481690784.0000 - mae: 13882.8857 - val_loss: 476589920.0000 - val_mae: 13745.3926\n",
            "Epoch 20/100\n",
            "1164/1164 [==============================] - 2s 2ms/step - loss: 480156384.0000 - mae: 13848.4023 - val_loss: 474993728.0000 - val_mae: 13646.2783\n",
            "Epoch 21/100\n",
            "1164/1164 [==============================] - 2s 2ms/step - loss: 478513664.0000 - mae: 13830.2168 - val_loss: 473272608.0000 - val_mae: 13691.7109\n",
            "Epoch 22/100\n",
            "1164/1164 [==============================] - 2s 2ms/step - loss: 476941984.0000 - mae: 13818.5771 - val_loss: 471526240.0000 - val_mae: 13657.4453\n",
            "Epoch 23/100\n",
            "1164/1164 [==============================] - 2s 2ms/step - loss: 475211104.0000 - mae: 13782.9570 - val_loss: 470715104.0000 - val_mae: 13607.4453\n",
            "Epoch 24/100\n",
            "1164/1164 [==============================] - 2s 2ms/step - loss: 473463680.0000 - mae: 13775.2715 - val_loss: 468146560.0000 - val_mae: 13606.6465\n",
            "Epoch 25/100\n",
            "1164/1164 [==============================] - 2s 2ms/step - loss: 471275424.0000 - mae: 13716.8906 - val_loss: 465167808.0000 - val_mae: 13734.3193\n",
            "Epoch 26/100\n",
            "1164/1164 [==============================] - 2s 2ms/step - loss: 468899712.0000 - mae: 13701.2578 - val_loss: 462180384.0000 - val_mae: 13643.7764\n",
            "Epoch 27/100\n",
            "1164/1164 [==============================] - 2s 2ms/step - loss: 466022624.0000 - mae: 13683.7012 - val_loss: 459965504.0000 - val_mae: 13622.4961\n",
            "Epoch 28/100\n",
            "1164/1164 [==============================] - 2s 2ms/step - loss: 463827424.0000 - mae: 13642.7061 - val_loss: 458424928.0000 - val_mae: 13465.7070\n",
            "Epoch 29/100\n",
            "1164/1164 [==============================] - 2s 2ms/step - loss: 461673920.0000 - mae: 13604.1553 - val_loss: 456410720.0000 - val_mae: 13503.7236\n",
            "Epoch 30/100\n",
            "1164/1164 [==============================] - 2s 2ms/step - loss: 459740768.0000 - mae: 13564.5449 - val_loss: 454284064.0000 - val_mae: 13663.2412\n",
            "Epoch 31/100\n",
            "1164/1164 [==============================] - 2s 2ms/step - loss: 458015584.0000 - mae: 13553.3340 - val_loss: 452537184.0000 - val_mae: 13484.7129\n",
            "Epoch 32/100\n",
            "1164/1164 [==============================] - 2s 2ms/step - loss: 456581600.0000 - mae: 13520.8672 - val_loss: 451636736.0000 - val_mae: 13597.6270\n",
            "Epoch 33/100\n",
            "1164/1164 [==============================] - 2s 2ms/step - loss: 455188736.0000 - mae: 13495.8633 - val_loss: 450763872.0000 - val_mae: 13445.5420\n",
            "Epoch 34/100\n",
            "1164/1164 [==============================] - 2s 2ms/step - loss: 453990112.0000 - mae: 13471.6709 - val_loss: 449271872.0000 - val_mae: 13573.2949\n",
            "Epoch 35/100\n",
            "1164/1164 [==============================] - 2s 2ms/step - loss: 452868896.0000 - mae: 13458.4326 - val_loss: 447999424.0000 - val_mae: 13508.6221\n",
            "Epoch 36/100\n",
            "1164/1164 [==============================] - 2s 2ms/step - loss: 451645952.0000 - mae: 13441.3770 - val_loss: 447504704.0000 - val_mae: 13334.1787\n",
            "Epoch 37/100\n",
            "1164/1164 [==============================] - 2s 2ms/step - loss: 450567616.0000 - mae: 13404.3770 - val_loss: 446511360.0000 - val_mae: 13399.1299\n",
            "Epoch 38/100\n",
            "1164/1164 [==============================] - 2s 2ms/step - loss: 449681024.0000 - mae: 13392.3262 - val_loss: 444973920.0000 - val_mae: 13419.4775\n",
            "Epoch 39/100\n",
            "1164/1164 [==============================] - 2s 2ms/step - loss: 448786400.0000 - mae: 13380.4648 - val_loss: 444547904.0000 - val_mae: 13233.1777\n",
            "Epoch 40/100\n",
            "1164/1164 [==============================] - 2s 2ms/step - loss: 447757184.0000 - mae: 13346.9541 - val_loss: 443173632.0000 - val_mae: 13313.1230\n",
            "Epoch 41/100\n",
            "1164/1164 [==============================] - 2s 2ms/step - loss: 446799616.0000 - mae: 13330.4971 - val_loss: 442129856.0000 - val_mae: 13366.6348\n",
            "Epoch 42/100\n",
            "1164/1164 [==============================] - 2s 2ms/step - loss: 445369088.0000 - mae: 13309.1865 - val_loss: 441157280.0000 - val_mae: 13318.0117\n",
            "Epoch 43/100\n",
            "1164/1164 [==============================] - 2s 2ms/step - loss: 444615520.0000 - mae: 13290.2871 - val_loss: 440285024.0000 - val_mae: 13292.3672\n",
            "Epoch 44/100\n",
            "1164/1164 [==============================] - 2s 2ms/step - loss: 443330496.0000 - mae: 13257.8701 - val_loss: 438839520.0000 - val_mae: 13229.4697\n",
            "Epoch 45/100\n",
            "1164/1164 [==============================] - 2s 2ms/step - loss: 442078080.0000 - mae: 13248.1904 - val_loss: 438126656.0000 - val_mae: 13155.3838\n",
            "Epoch 46/100\n",
            "1164/1164 [==============================] - 2s 2ms/step - loss: 440859936.0000 - mae: 13209.0781 - val_loss: 436198528.0000 - val_mae: 13214.6553\n",
            "Epoch 47/100\n",
            "1164/1164 [==============================] - 2s 2ms/step - loss: 439379712.0000 - mae: 13205.7773 - val_loss: 436218208.0000 - val_mae: 13009.4883\n",
            "Epoch 48/100\n",
            "1164/1164 [==============================] - 2s 2ms/step - loss: 438144832.0000 - mae: 13173.1172 - val_loss: 434360352.0000 - val_mae: 13032.0830\n",
            "Epoch 49/100\n",
            "1164/1164 [==============================] - 2s 2ms/step - loss: 437106848.0000 - mae: 13146.3174 - val_loss: 432337600.0000 - val_mae: 13177.3203\n",
            "Epoch 50/100\n",
            "1164/1164 [==============================] - 2s 2ms/step - loss: 435659872.0000 - mae: 13135.1123 - val_loss: 431930368.0000 - val_mae: 13020.9092\n",
            "Epoch 51/100\n",
            "1164/1164 [==============================] - 2s 2ms/step - loss: 434156576.0000 - mae: 13095.5459 - val_loss: 430450688.0000 - val_mae: 13054.0898\n",
            "Epoch 52/100\n",
            "1164/1164 [==============================] - 2s 2ms/step - loss: 433132000.0000 - mae: 13068.7676 - val_loss: 428173824.0000 - val_mae: 12965.9561\n",
            "Epoch 53/100\n",
            "1164/1164 [==============================] - 2s 2ms/step - loss: 431510112.0000 - mae: 13037.7334 - val_loss: 427077632.0000 - val_mae: 12941.6289\n",
            "Epoch 54/100\n",
            "1164/1164 [==============================] - 2s 2ms/step - loss: 430075968.0000 - mae: 13003.6865 - val_loss: 424698272.0000 - val_mae: 12918.5908\n",
            "Epoch 55/100\n",
            "1164/1164 [==============================] - 2s 2ms/step - loss: 427938112.0000 - mae: 12971.3174 - val_loss: 423861728.0000 - val_mae: 12922.5762\n",
            "Epoch 56/100\n",
            "1164/1164 [==============================] - 2s 2ms/step - loss: 426601600.0000 - mae: 12928.0635 - val_loss: 421567904.0000 - val_mae: 12938.7314\n",
            "Epoch 57/100\n",
            "1164/1164 [==============================] - 2s 2ms/step - loss: 424478016.0000 - mae: 12901.5332 - val_loss: 419671776.0000 - val_mae: 12908.5225\n",
            "Epoch 58/100\n",
            "1164/1164 [==============================] - 2s 2ms/step - loss: 422479072.0000 - mae: 12857.3262 - val_loss: 418861184.0000 - val_mae: 12752.2100\n",
            "Epoch 59/100\n",
            "1164/1164 [==============================] - 2s 2ms/step - loss: 420954048.0000 - mae: 12813.3789 - val_loss: 417155008.0000 - val_mae: 12637.2891\n",
            "Epoch 60/100\n",
            "1164/1164 [==============================] - 2s 2ms/step - loss: 419123008.0000 - mae: 12764.9375 - val_loss: 413664960.0000 - val_mae: 12733.9053\n",
            "Epoch 61/100\n",
            "1164/1164 [==============================] - 2s 2ms/step - loss: 417124960.0000 - mae: 12711.3896 - val_loss: 412936128.0000 - val_mae: 12686.8750\n",
            "Epoch 62/100\n",
            "1164/1164 [==============================] - 2s 2ms/step - loss: 415601792.0000 - mae: 12664.7725 - val_loss: 411719424.0000 - val_mae: 12712.0078\n",
            "Epoch 63/100\n",
            "1164/1164 [==============================] - 2s 2ms/step - loss: 413426880.0000 - mae: 12611.4619 - val_loss: 409626912.0000 - val_mae: 12560.3584\n",
            "Epoch 64/100\n",
            "1164/1164 [==============================] - 2s 2ms/step - loss: 411484160.0000 - mae: 12564.7754 - val_loss: 406437600.0000 - val_mae: 12486.0996\n",
            "Epoch 65/100\n",
            "1164/1164 [==============================] - 2s 2ms/step - loss: 409501920.0000 - mae: 12494.5391 - val_loss: 403867968.0000 - val_mae: 12463.1582\n",
            "Epoch 66/100\n",
            "1164/1164 [==============================] - 2s 2ms/step - loss: 407304800.0000 - mae: 12428.8252 - val_loss: 402157568.0000 - val_mae: 12499.7598\n",
            "Epoch 67/100\n",
            "1164/1164 [==============================] - 2s 2ms/step - loss: 404879296.0000 - mae: 12361.3535 - val_loss: 402346592.0000 - val_mae: 12411.0850\n",
            "Epoch 68/100\n",
            "1164/1164 [==============================] - 2s 2ms/step - loss: 403124512.0000 - mae: 12321.4023 - val_loss: 396803168.0000 - val_mae: 12225.4072\n",
            "Epoch 69/100\n",
            "1164/1164 [==============================] - 2s 2ms/step - loss: 401080704.0000 - mae: 12261.3584 - val_loss: 394175392.0000 - val_mae: 12148.5137\n",
            "Epoch 70/100\n",
            "1164/1164 [==============================] - 2s 2ms/step - loss: 399206176.0000 - mae: 12218.7598 - val_loss: 392683136.0000 - val_mae: 12173.9980\n",
            "Epoch 71/100\n",
            "1164/1164 [==============================] - 2s 2ms/step - loss: 397304544.0000 - mae: 12151.7119 - val_loss: 392377088.0000 - val_mae: 12175.6807\n",
            "Epoch 72/100\n",
            "1164/1164 [==============================] - 2s 2ms/step - loss: 395826272.0000 - mae: 12114.1396 - val_loss: 388527776.0000 - val_mae: 12012.6143\n",
            "Epoch 73/100\n",
            "1164/1164 [==============================] - 2s 2ms/step - loss: 394188192.0000 - mae: 12056.1367 - val_loss: 388325600.0000 - val_mae: 12114.8975\n",
            "Epoch 74/100\n",
            "1164/1164 [==============================] - 2s 2ms/step - loss: 392958912.0000 - mae: 12038.3408 - val_loss: 386530048.0000 - val_mae: 11904.2285\n",
            "Epoch 75/100\n",
            "1164/1164 [==============================] - 2s 2ms/step - loss: 391492288.0000 - mae: 11983.1846 - val_loss: 386911392.0000 - val_mae: 11839.5156\n",
            "Epoch 76/100\n",
            "1164/1164 [==============================] - 2s 2ms/step - loss: 390519296.0000 - mae: 11943.1621 - val_loss: 386168928.0000 - val_mae: 11915.7422\n",
            "Epoch 77/100\n",
            "1164/1164 [==============================] - 2s 2ms/step - loss: 389452128.0000 - mae: 11918.3623 - val_loss: 385441344.0000 - val_mae: 11828.7432\n",
            "Epoch 78/100\n",
            "1164/1164 [==============================] - 2s 2ms/step - loss: 388659328.0000 - mae: 11889.1377 - val_loss: 382749408.0000 - val_mae: 11690.3037\n",
            "Epoch 79/100\n",
            "1164/1164 [==============================] - 2s 2ms/step - loss: 388100576.0000 - mae: 11868.7051 - val_loss: 381045152.0000 - val_mae: 11775.5498\n",
            "Epoch 80/100\n",
            "1164/1164 [==============================] - 2s 2ms/step - loss: 386954048.0000 - mae: 11841.7520 - val_loss: 383424288.0000 - val_mae: 11744.5771\n",
            "Epoch 81/100\n",
            "1164/1164 [==============================] - 2s 2ms/step - loss: 387171424.0000 - mae: 11837.7510 - val_loss: 381846016.0000 - val_mae: 11705.4590\n",
            "Epoch 82/100\n",
            "1164/1164 [==============================] - 2s 2ms/step - loss: 386449888.0000 - mae: 11820.3506 - val_loss: 382472096.0000 - val_mae: 11577.2451\n",
            "Epoch 83/100\n",
            "1164/1164 [==============================] - 2s 2ms/step - loss: 385333280.0000 - mae: 11794.4102 - val_loss: 381173248.0000 - val_mae: 11626.8564\n",
            "Epoch 84/100\n",
            "1164/1164 [==============================] - 2s 2ms/step - loss: 385278688.0000 - mae: 11790.4355 - val_loss: 380685120.0000 - val_mae: 11530.8789\n",
            "Epoch 85/100\n",
            "1164/1164 [==============================] - 2s 2ms/step - loss: 385009632.0000 - mae: 11774.0176 - val_loss: 378867200.0000 - val_mae: 11526.6953\n",
            "Epoch 86/100\n",
            "1164/1164 [==============================] - 2s 2ms/step - loss: 384246336.0000 - mae: 11763.7275 - val_loss: 378772096.0000 - val_mae: 11680.6953\n",
            "Epoch 87/100\n",
            "1164/1164 [==============================] - 2s 2ms/step - loss: 383565920.0000 - mae: 11745.0303 - val_loss: 380510272.0000 - val_mae: 11758.2812\n",
            "Epoch 88/100\n",
            "1164/1164 [==============================] - 2s 2ms/step - loss: 384325376.0000 - mae: 11761.1016 - val_loss: 379033984.0000 - val_mae: 11823.8008\n",
            "Epoch 89/100\n",
            "1164/1164 [==============================] - 2s 2ms/step - loss: 383530176.0000 - mae: 11743.1553 - val_loss: 380521728.0000 - val_mae: 11605.2725\n",
            "Epoch 90/100\n",
            "1164/1164 [==============================] - 2s 2ms/step - loss: 383382112.0000 - mae: 11721.0078 - val_loss: 378516544.0000 - val_mae: 11643.2178\n",
            "Epoch 91/100\n",
            "1164/1164 [==============================] - 2s 2ms/step - loss: 383014048.0000 - mae: 11721.4961 - val_loss: 378913472.0000 - val_mae: 11741.3418\n",
            "Epoch 92/100\n",
            "1164/1164 [==============================] - 2s 2ms/step - loss: 382742368.0000 - mae: 11709.8896 - val_loss: 381196256.0000 - val_mae: 11695.0156\n",
            "Epoch 93/100\n",
            "1164/1164 [==============================] - 2s 2ms/step - loss: 382621760.0000 - mae: 11705.4004 - val_loss: 377905440.0000 - val_mae: 11662.1260\n",
            "Epoch 94/100\n",
            "1164/1164 [==============================] - 2s 2ms/step - loss: 382023392.0000 - mae: 11680.7568 - val_loss: 379559648.0000 - val_mae: 11851.3584\n",
            "Epoch 95/100\n",
            "1164/1164 [==============================] - 2s 2ms/step - loss: 382242688.0000 - mae: 11704.3320 - val_loss: 378105568.0000 - val_mae: 11597.6797\n",
            "Epoch 96/100\n",
            "1164/1164 [==============================] - 2s 2ms/step - loss: 381941088.0000 - mae: 11679.8262 - val_loss: 379609824.0000 - val_mae: 11677.0068\n",
            "Epoch 97/100\n",
            "1164/1164 [==============================] - 2s 2ms/step - loss: 381824256.0000 - mae: 11670.0088 - val_loss: 378241856.0000 - val_mae: 11557.6807\n",
            "Epoch 98/100\n",
            "1164/1164 [==============================] - 2s 2ms/step - loss: 380951648.0000 - mae: 11651.9756 - val_loss: 379062208.0000 - val_mae: 11606.6250\n",
            "Epoch 99/100\n",
            "1164/1164 [==============================] - 2s 2ms/step - loss: 381421984.0000 - mae: 11662.3467 - val_loss: 377355808.0000 - val_mae: 11641.3193\n",
            "Epoch 100/100\n",
            "1164/1164 [==============================] - 2s 2ms/step - loss: 381551136.0000 - mae: 11658.4287 - val_loss: 377241472.0000 - val_mae: 11537.0098\n"
          ],
          "name": "stdout"
        },
        {
          "output_type": "execute_result",
          "data": {
            "text/plain": [
              "<tensorflow.python.keras.callbacks.History at 0x7fe670c95ad0>"
            ]
          },
          "metadata": {
            "tags": []
          },
          "execution_count": 35
        }
      ]
    },
    {
      "cell_type": "code",
      "metadata": {
        "id": "wiDgdG1tZC8Q"
      },
      "source": [
        "# Trying Dropout and Batch normalization:\n",
        "# Creating a deep neural network\n",
        "dnn = Sequential()\n",
        "# Input layer\n",
        "dnn.add(Dense(activation='relu',input_dim=18,units=10,kernel_initializer='uniform'))\n",
        "# Hidden layers\n",
        "dnn.add(Dense(10,activation='relu',kernel_initializer='uniform'))\n",
        "dnn.add(Dropout(0.1))\n",
        "dnn.add(Dense(10,activation='relu',kernel_initializer='uniform'))\n",
        "dnn.add(BatchNormalization())\n",
        "dnn.add(Dense(6,activation='relu',kernel_initializer='uniform'))\n",
        "dnn.add(Dense(6,activation='relu',kernel_initializer='uniform'))\n",
        "# Output layer\n",
        "dnn.add(Dense(1,kernel_initializer='uniform'))"
      ],
      "execution_count": null,
      "outputs": []
    },
    {
      "cell_type": "code",
      "metadata": {
        "colab": {
          "base_uri": "https://localhost:8080/"
        },
        "id": "ln91ZxARZDAr",
        "outputId": "a8098a1f-4570-45f9-d406-9e100c2319e3"
      },
      "source": [
        "# Compiling the model\n",
        "dnn.compile(optimizer='adam',loss='mse',metrics=['mae'])\n",
        "dnn.summary()"
      ],
      "execution_count": null,
      "outputs": [
        {
          "output_type": "stream",
          "text": [
            "Model: \"sequential_1\"\n",
            "_________________________________________________________________\n",
            "Layer (type)                 Output Shape              Param #   \n",
            "=================================================================\n",
            "dense_6 (Dense)              (None, 10)                190       \n",
            "_________________________________________________________________\n",
            "dense_7 (Dense)              (None, 10)                110       \n",
            "_________________________________________________________________\n",
            "dropout (Dropout)            (None, 10)                0         \n",
            "_________________________________________________________________\n",
            "dense_8 (Dense)              (None, 10)                110       \n",
            "_________________________________________________________________\n",
            "batch_normalization (BatchNo (None, 10)                40        \n",
            "_________________________________________________________________\n",
            "dense_9 (Dense)              (None, 6)                 66        \n",
            "_________________________________________________________________\n",
            "dense_10 (Dense)             (None, 6)                 42        \n",
            "_________________________________________________________________\n",
            "dense_11 (Dense)             (None, 1)                 7         \n",
            "=================================================================\n",
            "Total params: 565\n",
            "Trainable params: 545\n",
            "Non-trainable params: 20\n",
            "_________________________________________________________________\n"
          ],
          "name": "stdout"
        }
      ]
    },
    {
      "cell_type": "code",
      "metadata": {
        "colab": {
          "base_uri": "https://localhost:8080/"
        },
        "id": "WCq0OFatZDCg",
        "outputId": "f587ab86-6abe-43c6-95e2-a6b349d3b040"
      },
      "source": [
        "# Model Training\n",
        "dnn.fit(X_train,y_train,validation_data=(X_test,y_test),epochs=100,batch_size=64)"
      ],
      "execution_count": null,
      "outputs": [
        {
          "output_type": "stream",
          "text": [
            "Epoch 1/100\n",
            "1164/1164 [==============================] - 3s 2ms/step - loss: 920449664.0000 - mae: 17742.2559 - val_loss: 750274944.0000 - val_mae: 15087.5469\n",
            "Epoch 2/100\n",
            "1164/1164 [==============================] - 2s 2ms/step - loss: 532218464.0000 - mae: 13436.8672 - val_loss: 460160576.0000 - val_mae: 13620.2383\n",
            "Epoch 3/100\n",
            "1164/1164 [==============================] - 2s 2ms/step - loss: 476287552.0000 - mae: 13731.8594 - val_loss: 457382784.0000 - val_mae: 13450.6035\n",
            "Epoch 4/100\n",
            "1164/1164 [==============================] - 2s 2ms/step - loss: 472794336.0000 - mae: 13721.2197 - val_loss: 456611200.0000 - val_mae: 13688.0645\n",
            "Epoch 5/100\n",
            "1164/1164 [==============================] - 2s 2ms/step - loss: 470283200.0000 - mae: 13724.6797 - val_loss: 453422848.0000 - val_mae: 13517.2080\n",
            "Epoch 6/100\n",
            "1164/1164 [==============================] - 2s 2ms/step - loss: 468120736.0000 - mae: 13688.1914 - val_loss: 449775424.0000 - val_mae: 13654.3896\n",
            "Epoch 7/100\n",
            "1164/1164 [==============================] - 2s 2ms/step - loss: 462967904.0000 - mae: 13648.4102 - val_loss: 444069600.0000 - val_mae: 13201.5381\n",
            "Epoch 8/100\n",
            "1164/1164 [==============================] - 2s 2ms/step - loss: 456625600.0000 - mae: 13610.9648 - val_loss: 437966720.0000 - val_mae: 13326.8994\n",
            "Epoch 9/100\n",
            "1164/1164 [==============================] - 2s 2ms/step - loss: 447555520.0000 - mae: 13526.2158 - val_loss: 428370336.0000 - val_mae: 13380.4775\n",
            "Epoch 10/100\n",
            "1164/1164 [==============================] - 2s 2ms/step - loss: 441051264.0000 - mae: 13449.3564 - val_loss: 421819424.0000 - val_mae: 12449.9590\n",
            "Epoch 11/100\n",
            "1164/1164 [==============================] - 2s 2ms/step - loss: 436872352.0000 - mae: 13376.9453 - val_loss: 425693344.0000 - val_mae: 13615.3633\n",
            "Epoch 12/100\n",
            "1164/1164 [==============================] - 2s 2ms/step - loss: 429185632.0000 - mae: 13245.0537 - val_loss: 409185312.0000 - val_mae: 13004.0498\n",
            "Epoch 13/100\n",
            "1164/1164 [==============================] - 2s 2ms/step - loss: 423413952.0000 - mae: 13118.2930 - val_loss: 413199488.0000 - val_mae: 12531.4072\n",
            "Epoch 14/100\n",
            "1164/1164 [==============================] - 2s 2ms/step - loss: 419535072.0000 - mae: 13073.5234 - val_loss: 397048288.0000 - val_mae: 12613.1338\n",
            "Epoch 15/100\n",
            "1164/1164 [==============================] - 2s 2ms/step - loss: 416396800.0000 - mae: 12994.8760 - val_loss: 409451872.0000 - val_mae: 11918.5381\n",
            "Epoch 16/100\n",
            "1164/1164 [==============================] - 2s 2ms/step - loss: 412841344.0000 - mae: 12875.7051 - val_loss: 412780896.0000 - val_mae: 14479.5938\n",
            "Epoch 17/100\n",
            "1164/1164 [==============================] - 2s 2ms/step - loss: 409542912.0000 - mae: 12868.2764 - val_loss: 398346816.0000 - val_mae: 13054.8760\n",
            "Epoch 18/100\n",
            "1164/1164 [==============================] - 2s 2ms/step - loss: 408638944.0000 - mae: 12848.0156 - val_loss: 395462912.0000 - val_mae: 12473.6309\n",
            "Epoch 19/100\n",
            "1164/1164 [==============================] - 2s 2ms/step - loss: 406833312.0000 - mae: 12805.1787 - val_loss: 407346400.0000 - val_mae: 11510.7393\n",
            "Epoch 20/100\n",
            "1164/1164 [==============================] - 2s 2ms/step - loss: 406025952.0000 - mae: 12763.1895 - val_loss: 385932448.0000 - val_mae: 12081.9033\n",
            "Epoch 21/100\n",
            "1164/1164 [==============================] - 2s 2ms/step - loss: 404311968.0000 - mae: 12727.6699 - val_loss: 394671712.0000 - val_mae: 12209.5674\n",
            "Epoch 22/100\n",
            "1164/1164 [==============================] - 2s 2ms/step - loss: 401029088.0000 - mae: 12671.3086 - val_loss: 383834848.0000 - val_mae: 13124.5830\n",
            "Epoch 23/100\n",
            "1164/1164 [==============================] - 2s 2ms/step - loss: 399807232.0000 - mae: 12687.1836 - val_loss: 392610592.0000 - val_mae: 11907.0020\n",
            "Epoch 24/100\n",
            "1164/1164 [==============================] - 2s 2ms/step - loss: 399411648.0000 - mae: 12631.8457 - val_loss: 406281376.0000 - val_mae: 11651.3242\n",
            "Epoch 25/100\n",
            "1164/1164 [==============================] - 2s 2ms/step - loss: 396644512.0000 - mae: 12613.3994 - val_loss: 387969952.0000 - val_mae: 13341.5869\n",
            "Epoch 26/100\n",
            "1164/1164 [==============================] - 2s 2ms/step - loss: 394695840.0000 - mae: 12575.7393 - val_loss: 388881888.0000 - val_mae: 13367.2305\n",
            "Epoch 27/100\n",
            "1164/1164 [==============================] - 2s 2ms/step - loss: 392864832.0000 - mae: 12581.0371 - val_loss: 372247104.0000 - val_mae: 12012.8926\n",
            "Epoch 28/100\n",
            "1164/1164 [==============================] - 2s 2ms/step - loss: 394728704.0000 - mae: 12553.8262 - val_loss: 383765472.0000 - val_mae: 11826.0684\n",
            "Epoch 29/100\n",
            "1164/1164 [==============================] - 2s 2ms/step - loss: 390475328.0000 - mae: 12514.6123 - val_loss: 373092928.0000 - val_mae: 12567.7939\n",
            "Epoch 30/100\n",
            "1164/1164 [==============================] - 2s 2ms/step - loss: 388792640.0000 - mae: 12467.7891 - val_loss: 374943008.0000 - val_mae: 11743.4531\n",
            "Epoch 31/100\n",
            "1164/1164 [==============================] - 2s 2ms/step - loss: 388552992.0000 - mae: 12486.9922 - val_loss: 366437344.0000 - val_mae: 11820.5791\n",
            "Epoch 32/100\n",
            "1164/1164 [==============================] - 2s 2ms/step - loss: 388559968.0000 - mae: 12488.7334 - val_loss: 370915488.0000 - val_mae: 11880.7734\n",
            "Epoch 33/100\n",
            "1164/1164 [==============================] - 2s 2ms/step - loss: 384415104.0000 - mae: 12418.0410 - val_loss: 373719360.0000 - val_mae: 12589.2959\n",
            "Epoch 34/100\n",
            "1164/1164 [==============================] - 2s 2ms/step - loss: 384041088.0000 - mae: 12419.7715 - val_loss: 365587136.0000 - val_mae: 12293.9131\n",
            "Epoch 35/100\n",
            "1164/1164 [==============================] - 2s 2ms/step - loss: 383232064.0000 - mae: 12404.7354 - val_loss: 365174336.0000 - val_mae: 12583.1543\n",
            "Epoch 36/100\n",
            "1164/1164 [==============================] - 2s 2ms/step - loss: 383325920.0000 - mae: 12388.3105 - val_loss: 364144000.0000 - val_mae: 12120.4814\n",
            "Epoch 37/100\n",
            "1164/1164 [==============================] - 2s 2ms/step - loss: 381221408.0000 - mae: 12347.4473 - val_loss: 380498688.0000 - val_mae: 13001.8916\n",
            "Epoch 38/100\n",
            "1164/1164 [==============================] - 2s 2ms/step - loss: 381155488.0000 - mae: 12380.1455 - val_loss: 364953696.0000 - val_mae: 12320.9131\n",
            "Epoch 39/100\n",
            "1164/1164 [==============================] - 2s 2ms/step - loss: 380225984.0000 - mae: 12351.7314 - val_loss: 362473728.0000 - val_mae: 11697.9170\n",
            "Epoch 40/100\n",
            "1164/1164 [==============================] - 2s 2ms/step - loss: 379188000.0000 - mae: 12334.3604 - val_loss: 372549088.0000 - val_mae: 11194.0605\n",
            "Epoch 41/100\n",
            "1164/1164 [==============================] - 2s 2ms/step - loss: 379536512.0000 - mae: 12355.2334 - val_loss: 376447072.0000 - val_mae: 11527.1680\n",
            "Epoch 42/100\n",
            "1164/1164 [==============================] - 2s 2ms/step - loss: 377870208.0000 - mae: 12286.4355 - val_loss: 364889248.0000 - val_mae: 12450.8770\n",
            "Epoch 43/100\n",
            "1164/1164 [==============================] - 2s 2ms/step - loss: 378386336.0000 - mae: 12327.4258 - val_loss: 360668576.0000 - val_mae: 12582.3867\n",
            "Epoch 44/100\n",
            "1164/1164 [==============================] - 2s 2ms/step - loss: 376873312.0000 - mae: 12292.2510 - val_loss: 360447168.0000 - val_mae: 12159.0498\n",
            "Epoch 45/100\n",
            "1164/1164 [==============================] - 2s 2ms/step - loss: 378557056.0000 - mae: 12333.7832 - val_loss: 365192096.0000 - val_mae: 12182.1172\n",
            "Epoch 46/100\n",
            "1164/1164 [==============================] - 2s 2ms/step - loss: 375365536.0000 - mae: 12257.8857 - val_loss: 361109248.0000 - val_mae: 11945.3213\n",
            "Epoch 47/100\n",
            "1164/1164 [==============================] - 2s 2ms/step - loss: 376083872.0000 - mae: 12265.2266 - val_loss: 355860704.0000 - val_mae: 12049.1699\n",
            "Epoch 48/100\n",
            "1164/1164 [==============================] - 2s 2ms/step - loss: 375847936.0000 - mae: 12259.1406 - val_loss: 361028128.0000 - val_mae: 12470.1953\n",
            "Epoch 49/100\n",
            "1164/1164 [==============================] - 2s 2ms/step - loss: 374537568.0000 - mae: 12245.0986 - val_loss: 362165888.0000 - val_mae: 11801.9365\n",
            "Epoch 50/100\n",
            "1164/1164 [==============================] - 2s 2ms/step - loss: 374692544.0000 - mae: 12277.7510 - val_loss: 362333056.0000 - val_mae: 11200.8066\n",
            "Epoch 51/100\n",
            "1164/1164 [==============================] - 2s 2ms/step - loss: 375793632.0000 - mae: 12242.3574 - val_loss: 357421408.0000 - val_mae: 12057.9766\n",
            "Epoch 52/100\n",
            "1164/1164 [==============================] - 2s 2ms/step - loss: 373156832.0000 - mae: 12187.6309 - val_loss: 357921856.0000 - val_mae: 12181.0068\n",
            "Epoch 53/100\n",
            "1164/1164 [==============================] - 2s 2ms/step - loss: 375200256.0000 - mae: 12224.4639 - val_loss: 361015776.0000 - val_mae: 12376.5791\n",
            "Epoch 54/100\n",
            "1164/1164 [==============================] - 2s 2ms/step - loss: 376371968.0000 - mae: 12262.7051 - val_loss: 354554272.0000 - val_mae: 12392.5449\n",
            "Epoch 55/100\n",
            "1164/1164 [==============================] - 2s 2ms/step - loss: 372058432.0000 - mae: 12205.5625 - val_loss: 355617952.0000 - val_mae: 12312.0850\n",
            "Epoch 56/100\n",
            "1164/1164 [==============================] - 2s 2ms/step - loss: 372680064.0000 - mae: 12222.3848 - val_loss: 375338528.0000 - val_mae: 12208.4297\n",
            "Epoch 57/100\n",
            "1164/1164 [==============================] - 2s 2ms/step - loss: 373547872.0000 - mae: 12192.9072 - val_loss: 358745696.0000 - val_mae: 12806.9609\n",
            "Epoch 58/100\n",
            "1164/1164 [==============================] - 2s 2ms/step - loss: 373657120.0000 - mae: 12217.6758 - val_loss: 365501728.0000 - val_mae: 11828.9404\n",
            "Epoch 59/100\n",
            "1164/1164 [==============================] - 2s 2ms/step - loss: 370411392.0000 - mae: 12156.0068 - val_loss: 353163104.0000 - val_mae: 12132.5146\n",
            "Epoch 60/100\n",
            "1164/1164 [==============================] - 2s 2ms/step - loss: 371100544.0000 - mae: 12186.1064 - val_loss: 352317952.0000 - val_mae: 11497.9492\n",
            "Epoch 61/100\n",
            "1164/1164 [==============================] - 2s 2ms/step - loss: 371126016.0000 - mae: 12156.5957 - val_loss: 351402496.0000 - val_mae: 11958.9512\n",
            "Epoch 62/100\n",
            "1164/1164 [==============================] - 2s 2ms/step - loss: 371695392.0000 - mae: 12165.8799 - val_loss: 345018976.0000 - val_mae: 11931.0430\n",
            "Epoch 63/100\n",
            "1164/1164 [==============================] - 2s 2ms/step - loss: 369621792.0000 - mae: 12129.3379 - val_loss: 348608672.0000 - val_mae: 12253.8184\n",
            "Epoch 64/100\n",
            "1164/1164 [==============================] - 2s 2ms/step - loss: 368685984.0000 - mae: 12113.4893 - val_loss: 353218784.0000 - val_mae: 12055.7393\n",
            "Epoch 65/100\n",
            "1164/1164 [==============================] - 2s 2ms/step - loss: 366714048.0000 - mae: 12139.8047 - val_loss: 355545888.0000 - val_mae: 11663.2578\n",
            "Epoch 66/100\n",
            "1164/1164 [==============================] - 2s 2ms/step - loss: 368378048.0000 - mae: 12129.0400 - val_loss: 372508928.0000 - val_mae: 13622.4473\n",
            "Epoch 67/100\n",
            "1164/1164 [==============================] - 2s 2ms/step - loss: 368050752.0000 - mae: 12120.3604 - val_loss: 355892192.0000 - val_mae: 12564.3398\n",
            "Epoch 68/100\n",
            "1164/1164 [==============================] - 2s 2ms/step - loss: 367250080.0000 - mae: 12157.1328 - val_loss: 353758336.0000 - val_mae: 12555.3828\n",
            "Epoch 69/100\n",
            "1164/1164 [==============================] - 2s 2ms/step - loss: 365942144.0000 - mae: 12112.5293 - val_loss: 354099104.0000 - val_mae: 12443.3633\n",
            "Epoch 70/100\n",
            "1164/1164 [==============================] - 2s 2ms/step - loss: 369999744.0000 - mae: 12192.3633 - val_loss: 347641472.0000 - val_mae: 11336.7285\n",
            "Epoch 71/100\n",
            "1164/1164 [==============================] - 2s 2ms/step - loss: 364871392.0000 - mae: 12104.0723 - val_loss: 345612896.0000 - val_mae: 11336.5420\n",
            "Epoch 72/100\n",
            "1164/1164 [==============================] - 2s 2ms/step - loss: 369106976.0000 - mae: 12116.2295 - val_loss: 350418304.0000 - val_mae: 11868.7109\n",
            "Epoch 73/100\n",
            "1164/1164 [==============================] - 2s 2ms/step - loss: 365055136.0000 - mae: 12127.4316 - val_loss: 349284832.0000 - val_mae: 11660.1143\n",
            "Epoch 74/100\n",
            "1164/1164 [==============================] - 2s 2ms/step - loss: 362982496.0000 - mae: 12075.0527 - val_loss: 350348480.0000 - val_mae: 12088.1689\n",
            "Epoch 75/100\n",
            "1164/1164 [==============================] - 2s 2ms/step - loss: 365529024.0000 - mae: 12086.0371 - val_loss: 350059616.0000 - val_mae: 12176.5488\n",
            "Epoch 76/100\n",
            "1164/1164 [==============================] - 2s 2ms/step - loss: 364105792.0000 - mae: 12089.9355 - val_loss: 346597856.0000 - val_mae: 11996.1475\n",
            "Epoch 77/100\n",
            "1164/1164 [==============================] - 2s 2ms/step - loss: 363855872.0000 - mae: 12074.8340 - val_loss: 344487936.0000 - val_mae: 11932.4668\n",
            "Epoch 78/100\n",
            "1164/1164 [==============================] - 2s 2ms/step - loss: 359073888.0000 - mae: 12060.9268 - val_loss: 346978528.0000 - val_mae: 11769.3994\n",
            "Epoch 79/100\n",
            "1164/1164 [==============================] - 2s 2ms/step - loss: 361544064.0000 - mae: 12059.3320 - val_loss: 348014400.0000 - val_mae: 11884.5010\n",
            "Epoch 80/100\n",
            "1164/1164 [==============================] - 2s 2ms/step - loss: 364214592.0000 - mae: 12085.4219 - val_loss: 356513472.0000 - val_mae: 12895.7500\n",
            "Epoch 81/100\n",
            "1164/1164 [==============================] - 2s 2ms/step - loss: 359125664.0000 - mae: 12026.1016 - val_loss: 348021600.0000 - val_mae: 11934.0264\n",
            "Epoch 82/100\n",
            "1164/1164 [==============================] - 2s 2ms/step - loss: 357884832.0000 - mae: 12003.4492 - val_loss: 343067040.0000 - val_mae: 11804.0244\n",
            "Epoch 83/100\n",
            "1164/1164 [==============================] - 2s 2ms/step - loss: 359227712.0000 - mae: 12049.1934 - val_loss: 360015328.0000 - val_mae: 11914.6045\n",
            "Epoch 84/100\n",
            "1164/1164 [==============================] - 2s 2ms/step - loss: 360827136.0000 - mae: 12041.6680 - val_loss: 338806048.0000 - val_mae: 12126.0137\n",
            "Epoch 85/100\n",
            "1164/1164 [==============================] - 2s 2ms/step - loss: 359956768.0000 - mae: 12054.2744 - val_loss: 350988000.0000 - val_mae: 12800.0898\n",
            "Epoch 86/100\n",
            "1164/1164 [==============================] - 2s 2ms/step - loss: 358188896.0000 - mae: 12026.7295 - val_loss: 345792832.0000 - val_mae: 11453.4961\n",
            "Epoch 87/100\n",
            "1164/1164 [==============================] - 2s 2ms/step - loss: 358145248.0000 - mae: 12056.9258 - val_loss: 341747520.0000 - val_mae: 11667.5781\n",
            "Epoch 88/100\n",
            "1164/1164 [==============================] - 2s 2ms/step - loss: 357839552.0000 - mae: 12031.0801 - val_loss: 343758688.0000 - val_mae: 11921.8779\n",
            "Epoch 89/100\n",
            "1164/1164 [==============================] - 2s 2ms/step - loss: 357352512.0000 - mae: 12008.5703 - val_loss: 340846784.0000 - val_mae: 11780.0703\n",
            "Epoch 90/100\n",
            "1164/1164 [==============================] - 2s 2ms/step - loss: 360617696.0000 - mae: 12030.8232 - val_loss: 352927136.0000 - val_mae: 11862.6270\n",
            "Epoch 91/100\n",
            "1164/1164 [==============================] - 2s 2ms/step - loss: 357410016.0000 - mae: 11993.8896 - val_loss: 345666208.0000 - val_mae: 12493.8350\n",
            "Epoch 92/100\n",
            "1164/1164 [==============================] - 2s 2ms/step - loss: 358054016.0000 - mae: 12013.9600 - val_loss: 340159520.0000 - val_mae: 12025.3906\n",
            "Epoch 93/100\n",
            "1164/1164 [==============================] - 2s 2ms/step - loss: 355428896.0000 - mae: 11998.1973 - val_loss: 345729536.0000 - val_mae: 11747.3555\n",
            "Epoch 94/100\n",
            "1164/1164 [==============================] - 2s 2ms/step - loss: 357574368.0000 - mae: 12008.3574 - val_loss: 340504448.0000 - val_mae: 11308.5869\n",
            "Epoch 95/100\n",
            "1164/1164 [==============================] - 2s 2ms/step - loss: 352821856.0000 - mae: 11933.4688 - val_loss: 340436352.0000 - val_mae: 12162.8613\n",
            "Epoch 96/100\n",
            "1164/1164 [==============================] - 2s 2ms/step - loss: 357481024.0000 - mae: 12046.1074 - val_loss: 353609120.0000 - val_mae: 12369.9326\n",
            "Epoch 97/100\n",
            "1164/1164 [==============================] - 2s 2ms/step - loss: 354437856.0000 - mae: 11980.5811 - val_loss: 357124608.0000 - val_mae: 12506.7393\n",
            "Epoch 98/100\n",
            "1164/1164 [==============================] - 2s 2ms/step - loss: 355904992.0000 - mae: 11972.7773 - val_loss: 344388704.0000 - val_mae: 11691.4688\n",
            "Epoch 99/100\n",
            "1164/1164 [==============================] - 2s 2ms/step - loss: 356407584.0000 - mae: 12006.7959 - val_loss: 351044288.0000 - val_mae: 12725.4258\n",
            "Epoch 100/100\n",
            "1164/1164 [==============================] - 2s 2ms/step - loss: 355041536.0000 - mae: 11970.0146 - val_loss: 350201120.0000 - val_mae: 12441.9023\n"
          ],
          "name": "stdout"
        },
        {
          "output_type": "execute_result",
          "data": {
            "text/plain": [
              "<tensorflow.python.keras.callbacks.History at 0x7fe66d4baed0>"
            ]
          },
          "metadata": {
            "tags": []
          },
          "execution_count": 38
        }
      ]
    },
    {
      "cell_type": "code",
      "metadata": {
        "id": "KJ-cc6soZDGl"
      },
      "source": [],
      "execution_count": null,
      "outputs": []
    },
    {
      "cell_type": "code",
      "metadata": {
        "id": "h5cXryg_X0Q1"
      },
      "source": [],
      "execution_count": null,
      "outputs": []
    }
  ]
}