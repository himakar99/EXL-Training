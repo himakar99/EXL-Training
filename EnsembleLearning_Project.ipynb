{
  "cells": [
    {
      "cell_type": "code",
      "execution_count": null,
      "metadata": {
        "id": "rbfb1cf71AmT"
      },
      "outputs": [],
      "source": [
        "import numpy as np\n",
        "import pandas as pd\n",
        "import scipy.stats as stats\n",
        "import matplotlib.pyplot as plt\n",
        "import seaborn as sns\n",
        "\n",
        "import warnings\n",
        "warnings.filterwarnings(\"ignore\")"
      ]
    },
    {
      "cell_type": "code",
      "execution_count": null,
      "metadata": {
        "colab": {
          "base_uri": "https://localhost:8080/",
          "height": 405
        },
        "id": "gR4PcX243ORl",
        "outputId": "bb90d9c9-93fd-4b71-c1f6-ffdf7adb971f"
      },
      "outputs": [
        {
          "data": {
            "text/html": [
              "<div>\n",
              "<style scoped>\n",
              "    .dataframe tbody tr th:only-of-type {\n",
              "        vertical-align: middle;\n",
              "    }\n",
              "\n",
              "    .dataframe tbody tr th {\n",
              "        vertical-align: top;\n",
              "    }\n",
              "\n",
              "    .dataframe thead th {\n",
              "        text-align: right;\n",
              "    }\n",
              "</style>\n",
              "<table border=\"1\" class=\"dataframe\">\n",
              "  <thead>\n",
              "    <tr style=\"text-align: right;\">\n",
              "      <th></th>\n",
              "      <th>App</th>\n",
              "      <th>Category</th>\n",
              "      <th>Rating</th>\n",
              "      <th>Reviews</th>\n",
              "      <th>Size</th>\n",
              "      <th>Installs</th>\n",
              "      <th>Type</th>\n",
              "      <th>Price</th>\n",
              "      <th>Content Rating</th>\n",
              "      <th>Genres</th>\n",
              "      <th>Last Updated</th>\n",
              "      <th>Current Ver</th>\n",
              "      <th>Android Ver</th>\n",
              "    </tr>\n",
              "  </thead>\n",
              "  <tbody>\n",
              "    <tr>\n",
              "      <th>0</th>\n",
              "      <td>Photo Editor &amp; Candy Camera &amp; Grid &amp; ScrapBook</td>\n",
              "      <td>ART_AND_DESIGN</td>\n",
              "      <td>4.1</td>\n",
              "      <td>159</td>\n",
              "      <td>19M</td>\n",
              "      <td>10,000+</td>\n",
              "      <td>Free</td>\n",
              "      <td>0</td>\n",
              "      <td>Everyone</td>\n",
              "      <td>Art &amp; Design</td>\n",
              "      <td>January 7, 2018</td>\n",
              "      <td>1.0.0</td>\n",
              "      <td>4.0.3 and up</td>\n",
              "    </tr>\n",
              "    <tr>\n",
              "      <th>1</th>\n",
              "      <td>Coloring book moana</td>\n",
              "      <td>ART_AND_DESIGN</td>\n",
              "      <td>3.9</td>\n",
              "      <td>967</td>\n",
              "      <td>14M</td>\n",
              "      <td>500,000+</td>\n",
              "      <td>Free</td>\n",
              "      <td>0</td>\n",
              "      <td>Everyone</td>\n",
              "      <td>Art &amp; Design;Pretend Play</td>\n",
              "      <td>January 15, 2018</td>\n",
              "      <td>2.0.0</td>\n",
              "      <td>4.0.3 and up</td>\n",
              "    </tr>\n",
              "    <tr>\n",
              "      <th>2</th>\n",
              "      <td>U Launcher Lite – FREE Live Cool Themes, Hide ...</td>\n",
              "      <td>ART_AND_DESIGN</td>\n",
              "      <td>4.7</td>\n",
              "      <td>87510</td>\n",
              "      <td>8.7M</td>\n",
              "      <td>5,000,000+</td>\n",
              "      <td>Free</td>\n",
              "      <td>0</td>\n",
              "      <td>Everyone</td>\n",
              "      <td>Art &amp; Design</td>\n",
              "      <td>August 1, 2018</td>\n",
              "      <td>1.2.4</td>\n",
              "      <td>4.0.3 and up</td>\n",
              "    </tr>\n",
              "  </tbody>\n",
              "</table>\n",
              "</div>"
            ],
            "text/plain": [
              "                                                 App        Category  Rating  \\\n",
              "0     Photo Editor & Candy Camera & Grid & ScrapBook  ART_AND_DESIGN     4.1   \n",
              "1                                Coloring book moana  ART_AND_DESIGN     3.9   \n",
              "2  U Launcher Lite – FREE Live Cool Themes, Hide ...  ART_AND_DESIGN     4.7   \n",
              "\n",
              "  Reviews  Size    Installs  Type Price Content Rating  \\\n",
              "0     159   19M     10,000+  Free     0       Everyone   \n",
              "1     967   14M    500,000+  Free     0       Everyone   \n",
              "2   87510  8.7M  5,000,000+  Free     0       Everyone   \n",
              "\n",
              "                      Genres      Last Updated Current Ver   Android Ver  \n",
              "0               Art & Design   January 7, 2018       1.0.0  4.0.3 and up  \n",
              "1  Art & Design;Pretend Play  January 15, 2018       2.0.0  4.0.3 and up  \n",
              "2               Art & Design    August 1, 2018       1.2.4  4.0.3 and up  "
            ]
          },
          "execution_count": 2,
          "metadata": {},
          "output_type": "execute_result"
        }
      ],
      "source": [
        "df= pd.read_csv(\"Apps_data.csv\")\n",
        "df.head(3)"
      ]
    },
    {
      "cell_type": "code",
      "execution_count": null,
      "metadata": {
        "colab": {
          "base_uri": "https://localhost:8080/",
          "height": 444
        },
        "id": "YWNAiQ8Q-9y2",
        "outputId": "35ee0992-c0ae-4618-edf5-7587cf5045ee"
      },
      "outputs": [
        {
          "name": "stdout",
          "output_type": "stream",
          "text": [
            "<class 'pandas.core.frame.DataFrame'>\n",
            "RangeIndex: 10841 entries, 0 to 10840\n",
            "Data columns (total 13 columns):\n",
            " #   Column          Non-Null Count  Dtype  \n",
            "---  ------          --------------  -----  \n",
            " 0   App             10841 non-null  object \n",
            " 1   Category        10841 non-null  object \n",
            " 2   Rating          9367 non-null   float64\n",
            " 3   Reviews         10841 non-null  object \n",
            " 4   Size            10841 non-null  object \n",
            " 5   Installs        10841 non-null  object \n",
            " 6   Type            10840 non-null  object \n",
            " 7   Price           10841 non-null  object \n",
            " 8   Content Rating  10840 non-null  object \n",
            " 9   Genres          10841 non-null  object \n",
            " 10  Last Updated    10841 non-null  object \n",
            " 11  Current Ver     10833 non-null  object \n",
            " 12  Android Ver     10838 non-null  object \n",
            "dtypes: float64(1), object(12)\n",
            "memory usage: 1.1+ MB\n",
            "******************************\n"
          ]
        },
        {
          "data": {
            "text/html": [
              "<div>\n",
              "<style scoped>\n",
              "    .dataframe tbody tr th:only-of-type {\n",
              "        vertical-align: middle;\n",
              "    }\n",
              "\n",
              "    .dataframe tbody tr th {\n",
              "        vertical-align: top;\n",
              "    }\n",
              "\n",
              "    .dataframe thead th {\n",
              "        text-align: right;\n",
              "    }\n",
              "</style>\n",
              "<table border=\"1\" class=\"dataframe\">\n",
              "  <thead>\n",
              "    <tr style=\"text-align: right;\">\n",
              "      <th></th>\n",
              "      <th>count</th>\n",
              "      <th>mean</th>\n",
              "      <th>std</th>\n",
              "      <th>min</th>\n",
              "      <th>25%</th>\n",
              "      <th>50%</th>\n",
              "      <th>75%</th>\n",
              "      <th>max</th>\n",
              "    </tr>\n",
              "  </thead>\n",
              "  <tbody>\n",
              "    <tr>\n",
              "      <th>Rating</th>\n",
              "      <td>9367.0</td>\n",
              "      <td>4.193338</td>\n",
              "      <td>0.537431</td>\n",
              "      <td>1.0</td>\n",
              "      <td>4.0</td>\n",
              "      <td>4.3</td>\n",
              "      <td>4.5</td>\n",
              "      <td>19.0</td>\n",
              "    </tr>\n",
              "  </tbody>\n",
              "</table>\n",
              "</div>"
            ],
            "text/plain": [
              "         count      mean       std  min  25%  50%  75%   max\n",
              "Rating  9367.0  4.193338  0.537431  1.0  4.0  4.3  4.5  19.0"
            ]
          },
          "execution_count": 3,
          "metadata": {},
          "output_type": "execute_result"
        }
      ],
      "source": [
        "# Reviews should be made numeric data type.\n",
        "# Type, Content Rating can be converted to numeric data\n",
        "# Rating, Type, Content Rating, Current Ver and Android Ver have Null Values\n",
        "df.info()\n",
        "print(\"*\"*30)\n",
        "df.describe().T"
      ]
    },
    {
      "cell_type": "code",
      "execution_count": null,
      "metadata": {
        "colab": {
          "base_uri": "https://localhost:8080/",
          "height": 977
        },
        "id": "lTzfj3Fl_J2L",
        "outputId": "d623eda3-7b57-4be0-9c12-12f04ff26e3b"
      },
      "outputs": [
        {
          "data": {
            "text/html": [
              "<div>\n",
              "<style scoped>\n",
              "    .dataframe tbody tr th:only-of-type {\n",
              "        vertical-align: middle;\n",
              "    }\n",
              "\n",
              "    .dataframe tbody tr th {\n",
              "        vertical-align: top;\n",
              "    }\n",
              "\n",
              "    .dataframe thead th {\n",
              "        text-align: right;\n",
              "    }\n",
              "</style>\n",
              "<table border=\"1\" class=\"dataframe\">\n",
              "  <thead>\n",
              "    <tr style=\"text-align: right;\">\n",
              "      <th></th>\n",
              "      <th>App</th>\n",
              "      <th>Category</th>\n",
              "      <th>Rating</th>\n",
              "      <th>Reviews</th>\n",
              "      <th>Size</th>\n",
              "      <th>Installs</th>\n",
              "      <th>Type</th>\n",
              "      <th>Price</th>\n",
              "      <th>Content Rating</th>\n",
              "      <th>Genres</th>\n",
              "      <th>Last Updated</th>\n",
              "      <th>Current Ver</th>\n",
              "      <th>Android Ver</th>\n",
              "    </tr>\n",
              "  </thead>\n",
              "  <tbody>\n",
              "    <tr>\n",
              "      <th>1407</th>\n",
              "      <td>10 Best Foods for You</td>\n",
              "      <td>HEALTH_AND_FITNESS</td>\n",
              "      <td>4.0</td>\n",
              "      <td>2490</td>\n",
              "      <td>3.8M</td>\n",
              "      <td>500,000+</td>\n",
              "      <td>Free</td>\n",
              "      <td>0</td>\n",
              "      <td>Everyone 10+</td>\n",
              "      <td>Health &amp; Fitness</td>\n",
              "      <td>February 17, 2017</td>\n",
              "      <td>1.9</td>\n",
              "      <td>2.3.3 and up</td>\n",
              "    </tr>\n",
              "    <tr>\n",
              "      <th>2543</th>\n",
              "      <td>1800 Contacts - Lens Store</td>\n",
              "      <td>MEDICAL</td>\n",
              "      <td>4.7</td>\n",
              "      <td>23160</td>\n",
              "      <td>26M</td>\n",
              "      <td>1,000,000+</td>\n",
              "      <td>Free</td>\n",
              "      <td>0</td>\n",
              "      <td>Everyone</td>\n",
              "      <td>Medical</td>\n",
              "      <td>July 27, 2018</td>\n",
              "      <td>7.4.1</td>\n",
              "      <td>5.0 and up</td>\n",
              "    </tr>\n",
              "    <tr>\n",
              "      <th>2385</th>\n",
              "      <td>2017 EMRA Antibiotic Guide</td>\n",
              "      <td>MEDICAL</td>\n",
              "      <td>4.4</td>\n",
              "      <td>12</td>\n",
              "      <td>3.8M</td>\n",
              "      <td>1,000+</td>\n",
              "      <td>Paid</td>\n",
              "      <td>$16.99</td>\n",
              "      <td>Everyone</td>\n",
              "      <td>Medical</td>\n",
              "      <td>January 27, 2017</td>\n",
              "      <td>1.0.5</td>\n",
              "      <td>4.0.3 and up</td>\n",
              "    </tr>\n",
              "    <tr>\n",
              "      <th>1434</th>\n",
              "      <td>21-Day Meditation Experience</td>\n",
              "      <td>HEALTH_AND_FITNESS</td>\n",
              "      <td>4.4</td>\n",
              "      <td>11506</td>\n",
              "      <td>15M</td>\n",
              "      <td>100,000+</td>\n",
              "      <td>Free</td>\n",
              "      <td>0</td>\n",
              "      <td>Everyone</td>\n",
              "      <td>Health &amp; Fitness</td>\n",
              "      <td>August 2, 2018</td>\n",
              "      <td>3.0.0</td>\n",
              "      <td>4.1 and up</td>\n",
              "    </tr>\n",
              "    <tr>\n",
              "      <th>7035</th>\n",
              "      <td>420 BZ Budeze Delivery</td>\n",
              "      <td>MEDICAL</td>\n",
              "      <td>5.0</td>\n",
              "      <td>2</td>\n",
              "      <td>11M</td>\n",
              "      <td>100+</td>\n",
              "      <td>Free</td>\n",
              "      <td>0</td>\n",
              "      <td>Mature 17+</td>\n",
              "      <td>Medical</td>\n",
              "      <td>June 6, 2018</td>\n",
              "      <td>1.0.1</td>\n",
              "      <td>4.1 and up</td>\n",
              "    </tr>\n",
              "    <tr>\n",
              "      <th>...</th>\n",
              "      <td>...</td>\n",
              "      <td>...</td>\n",
              "      <td>...</td>\n",
              "      <td>...</td>\n",
              "      <td>...</td>\n",
              "      <td>...</td>\n",
              "      <td>...</td>\n",
              "      <td>...</td>\n",
              "      <td>...</td>\n",
              "      <td>...</td>\n",
              "      <td>...</td>\n",
              "      <td>...</td>\n",
              "      <td>...</td>\n",
              "    </tr>\n",
              "    <tr>\n",
              "      <th>3014</th>\n",
              "      <td>theScore: Live Sports Scores, News, Stats &amp; Vi...</td>\n",
              "      <td>SPORTS</td>\n",
              "      <td>4.4</td>\n",
              "      <td>133825</td>\n",
              "      <td>34M</td>\n",
              "      <td>10,000,000+</td>\n",
              "      <td>Free</td>\n",
              "      <td>0</td>\n",
              "      <td>Everyone 10+</td>\n",
              "      <td>Sports</td>\n",
              "      <td>July 25, 2018</td>\n",
              "      <td>6.17.2</td>\n",
              "      <td>4.4 and up</td>\n",
              "    </tr>\n",
              "    <tr>\n",
              "      <th>3063</th>\n",
              "      <td>theScore: Live Sports Scores, News, Stats &amp; Vi...</td>\n",
              "      <td>SPORTS</td>\n",
              "      <td>4.4</td>\n",
              "      <td>133833</td>\n",
              "      <td>34M</td>\n",
              "      <td>10,000,000+</td>\n",
              "      <td>Free</td>\n",
              "      <td>0</td>\n",
              "      <td>Everyone 10+</td>\n",
              "      <td>Sports</td>\n",
              "      <td>July 25, 2018</td>\n",
              "      <td>6.17.2</td>\n",
              "      <td>4.4 and up</td>\n",
              "    </tr>\n",
              "    <tr>\n",
              "      <th>3085</th>\n",
              "      <td>theScore: Live Sports Scores, News, Stats &amp; Vi...</td>\n",
              "      <td>SPORTS</td>\n",
              "      <td>4.4</td>\n",
              "      <td>133833</td>\n",
              "      <td>34M</td>\n",
              "      <td>10,000,000+</td>\n",
              "      <td>Free</td>\n",
              "      <td>0</td>\n",
              "      <td>Everyone 10+</td>\n",
              "      <td>Sports</td>\n",
              "      <td>July 25, 2018</td>\n",
              "      <td>6.17.2</td>\n",
              "      <td>4.4 and up</td>\n",
              "    </tr>\n",
              "    <tr>\n",
              "      <th>3202</th>\n",
              "      <td>trivago: Hotels &amp; Travel</td>\n",
              "      <td>TRAVEL_AND_LOCAL</td>\n",
              "      <td>4.2</td>\n",
              "      <td>219848</td>\n",
              "      <td>Varies with device</td>\n",
              "      <td>50,000,000+</td>\n",
              "      <td>Free</td>\n",
              "      <td>0</td>\n",
              "      <td>Everyone</td>\n",
              "      <td>Travel &amp; Local</td>\n",
              "      <td>August 2, 2018</td>\n",
              "      <td>Varies with device</td>\n",
              "      <td>Varies with device</td>\n",
              "    </tr>\n",
              "    <tr>\n",
              "      <th>3118</th>\n",
              "      <td>trivago: Hotels &amp; Travel</td>\n",
              "      <td>TRAVEL_AND_LOCAL</td>\n",
              "      <td>4.2</td>\n",
              "      <td>219848</td>\n",
              "      <td>Varies with device</td>\n",
              "      <td>50,000,000+</td>\n",
              "      <td>Free</td>\n",
              "      <td>0</td>\n",
              "      <td>Everyone</td>\n",
              "      <td>Travel &amp; Local</td>\n",
              "      <td>August 2, 2018</td>\n",
              "      <td>Varies with device</td>\n",
              "      <td>Varies with device</td>\n",
              "    </tr>\n",
              "  </tbody>\n",
              "</table>\n",
              "<p>483 rows × 13 columns</p>\n",
              "</div>"
            ],
            "text/plain": [
              "                                                    App            Category  \\\n",
              "1407                              10 Best Foods for You  HEALTH_AND_FITNESS   \n",
              "2543                         1800 Contacts - Lens Store             MEDICAL   \n",
              "2385                         2017 EMRA Antibiotic Guide             MEDICAL   \n",
              "1434                       21-Day Meditation Experience  HEALTH_AND_FITNESS   \n",
              "7035                             420 BZ Budeze Delivery             MEDICAL   \n",
              "...                                                 ...                 ...   \n",
              "3014  theScore: Live Sports Scores, News, Stats & Vi...              SPORTS   \n",
              "3063  theScore: Live Sports Scores, News, Stats & Vi...              SPORTS   \n",
              "3085  theScore: Live Sports Scores, News, Stats & Vi...              SPORTS   \n",
              "3202                           trivago: Hotels & Travel    TRAVEL_AND_LOCAL   \n",
              "3118                           trivago: Hotels & Travel    TRAVEL_AND_LOCAL   \n",
              "\n",
              "      Rating Reviews                Size     Installs  Type   Price  \\\n",
              "1407     4.0    2490                3.8M     500,000+  Free       0   \n",
              "2543     4.7   23160                 26M   1,000,000+  Free       0   \n",
              "2385     4.4      12                3.8M       1,000+  Paid  $16.99   \n",
              "1434     4.4   11506                 15M     100,000+  Free       0   \n",
              "7035     5.0       2                 11M         100+  Free       0   \n",
              "...      ...     ...                 ...          ...   ...     ...   \n",
              "3014     4.4  133825                 34M  10,000,000+  Free       0   \n",
              "3063     4.4  133833                 34M  10,000,000+  Free       0   \n",
              "3085     4.4  133833                 34M  10,000,000+  Free       0   \n",
              "3202     4.2  219848  Varies with device  50,000,000+  Free       0   \n",
              "3118     4.2  219848  Varies with device  50,000,000+  Free       0   \n",
              "\n",
              "     Content Rating            Genres       Last Updated         Current Ver  \\\n",
              "1407   Everyone 10+  Health & Fitness  February 17, 2017                 1.9   \n",
              "2543       Everyone           Medical      July 27, 2018               7.4.1   \n",
              "2385       Everyone           Medical   January 27, 2017               1.0.5   \n",
              "1434       Everyone  Health & Fitness     August 2, 2018               3.0.0   \n",
              "7035     Mature 17+           Medical       June 6, 2018               1.0.1   \n",
              "...             ...               ...                ...                 ...   \n",
              "3014   Everyone 10+            Sports      July 25, 2018              6.17.2   \n",
              "3063   Everyone 10+            Sports      July 25, 2018              6.17.2   \n",
              "3085   Everyone 10+            Sports      July 25, 2018              6.17.2   \n",
              "3202       Everyone    Travel & Local     August 2, 2018  Varies with device   \n",
              "3118       Everyone    Travel & Local     August 2, 2018  Varies with device   \n",
              "\n",
              "             Android Ver  \n",
              "1407        2.3.3 and up  \n",
              "2543          5.0 and up  \n",
              "2385        4.0.3 and up  \n",
              "1434          4.1 and up  \n",
              "7035          4.1 and up  \n",
              "...                  ...  \n",
              "3014          4.4 and up  \n",
              "3063          4.4 and up  \n",
              "3085          4.4 and up  \n",
              "3202  Varies with device  \n",
              "3118  Varies with device  \n",
              "\n",
              "[483 rows x 13 columns]"
            ]
          },
          "execution_count": 4,
          "metadata": {},
          "output_type": "execute_result"
        }
      ],
      "source": [
        "duplicate= df[df.duplicated()]\n",
        "duplicate.sort_values(\"App\")\n",
        "#There are 483 rows which are duplicate"
      ]
    },
    {
      "cell_type": "code",
      "execution_count": null,
      "metadata": {
        "colab": {
          "base_uri": "https://localhost:8080/"
        },
        "id": "A_fdeUVcOnjY",
        "outputId": "224ba9a6-c5ff-4062-d4af-1f300c360d00"
      },
      "outputs": [
        {
          "data": {
            "text/plain": [
              "(10358, 13)"
            ]
          },
          "execution_count": 5,
          "metadata": {},
          "output_type": "execute_result"
        }
      ],
      "source": [
        "df.drop_duplicates(keep=\"first\", inplace=True)\n",
        "df.shape"
      ]
    },
    {
      "cell_type": "code",
      "execution_count": null,
      "metadata": {
        "colab": {
          "base_uri": "https://localhost:8080/"
        },
        "id": "WhG0Ws6IARk8",
        "outputId": "1865d26b-0e71-4ec1-e970-c353766b8515"
      },
      "outputs": [
        {
          "data": {
            "text/plain": [
              "FAMILY                 1943\n",
              "GAME                   1121\n",
              "TOOLS                   843\n",
              "BUSINESS                427\n",
              "MEDICAL                 408\n",
              "PRODUCTIVITY            407\n",
              "PERSONALIZATION         388\n",
              "LIFESTYLE               373\n",
              "COMMUNICATION           366\n",
              "FINANCE                 360\n",
              "SPORTS                  351\n",
              "PHOTOGRAPHY             322\n",
              "HEALTH_AND_FITNESS      306\n",
              "SOCIAL                  280\n",
              "NEWS_AND_MAGAZINES      264\n",
              "TRAVEL_AND_LOCAL        237\n",
              "BOOKS_AND_REFERENCE     230\n",
              "SHOPPING                224\n",
              "DATING                  196\n",
              "VIDEO_PLAYERS           175\n",
              "MAPS_AND_NAVIGATION     137\n",
              "EDUCATION               130\n",
              "FOOD_AND_DRINK          124\n",
              "ENTERTAINMENT           111\n",
              "LIBRARIES_AND_DEMO       85\n",
              "AUTO_AND_VEHICLES        85\n",
              "WEATHER                  82\n",
              "HOUSE_AND_HOME           80\n",
              "ART_AND_DESIGN           65\n",
              "EVENTS                   64\n",
              "PARENTING                60\n",
              "COMICS                   60\n",
              "BEAUTY                   53\n",
              "1.9                       1\n",
              "Name: Category, dtype: int64"
            ]
          },
          "execution_count": 6,
          "metadata": {},
          "output_type": "execute_result"
        }
      ],
      "source": [
        "df[\"Category\"].value_counts()"
      ]
    },
    {
      "cell_type": "code",
      "execution_count": null,
      "metadata": {
        "colab": {
          "base_uri": "https://localhost:8080/"
        },
        "id": "31ShZt7aCQDP",
        "outputId": "1edddbac-81c2-42b6-a08f-945b656c0e5d"
      },
      "outputs": [
        {
          "data": {
            "text/plain": [
              "(10357, 13)"
            ]
          },
          "execution_count": 7,
          "metadata": {},
          "output_type": "execute_result"
        }
      ],
      "source": [
        "#Dropping the 1.9 Category as it is only 1 value\n",
        "df= df[df[\"Category\"]!=\"1.9\"]\n",
        "df.shape"
      ]
    },
    {
      "cell_type": "code",
      "execution_count": null,
      "metadata": {
        "colab": {
          "base_uri": "https://localhost:8080/"
        },
        "id": "IvxDVIX0CxrS",
        "outputId": "6ac81d29-3d11-4c3c-fcc8-71a0dfe51080"
      },
      "outputs": [
        {
          "data": {
            "text/plain": [
              "FAMILY                 1943\n",
              "GAME                   1121\n",
              "TOOLS                   843\n",
              "BUSINESS                427\n",
              "MEDICAL                 408\n",
              "PRODUCTIVITY            407\n",
              "PERSONALIZATION         388\n",
              "LIFESTYLE               373\n",
              "COMMUNICATION           366\n",
              "FINANCE                 360\n",
              "SPORTS                  351\n",
              "PHOTOGRAPHY             322\n",
              "HEALTH_AND_FITNESS      306\n",
              "SOCIAL                  280\n",
              "NEWS_AND_MAGAZINES      264\n",
              "TRAVEL_AND_LOCAL        237\n",
              "BOOKS_AND_REFERENCE     230\n",
              "SHOPPING                224\n",
              "DATING                  196\n",
              "VIDEO_PLAYERS           175\n",
              "MAPS_AND_NAVIGATION     137\n",
              "EDUCATION               130\n",
              "FOOD_AND_DRINK          124\n",
              "ENTERTAINMENT           111\n",
              "LIBRARIES_AND_DEMO       85\n",
              "AUTO_AND_VEHICLES        85\n",
              "WEATHER                  82\n",
              "HOUSE_AND_HOME           80\n",
              "ART_AND_DESIGN           65\n",
              "EVENTS                   64\n",
              "PARENTING                60\n",
              "COMICS                   60\n",
              "BEAUTY                   53\n",
              "Name: Category, dtype: int64"
            ]
          },
          "execution_count": 8,
          "metadata": {},
          "output_type": "execute_result"
        }
      ],
      "source": [
        "#Category with highest number of apps\n",
        "df[\"Category\"].value_counts()"
      ]
    },
    {
      "cell_type": "code",
      "execution_count": null,
      "metadata": {
        "colab": {
          "base_uri": "https://localhost:8080/",
          "height": 833
        },
        "id": "JgyEmUxxErqr",
        "outputId": "155d327d-2163-4856-983f-6750b3e66480"
      },
      "outputs": [
        {
          "data": {
            "text/html": [
              "<div>\n",
              "<style scoped>\n",
              "    .dataframe tbody tr th:only-of-type {\n",
              "        vertical-align: middle;\n",
              "    }\n",
              "\n",
              "    .dataframe tbody tr th {\n",
              "        vertical-align: top;\n",
              "    }\n",
              "\n",
              "    .dataframe thead th {\n",
              "        text-align: right;\n",
              "    }\n",
              "</style>\n",
              "<table border=\"1\" class=\"dataframe\">\n",
              "  <thead>\n",
              "    <tr style=\"text-align: right;\">\n",
              "      <th></th>\n",
              "      <th>App</th>\n",
              "      <th>Category</th>\n",
              "      <th>Rating</th>\n",
              "      <th>Reviews</th>\n",
              "      <th>Size</th>\n",
              "      <th>Installs</th>\n",
              "      <th>Type</th>\n",
              "      <th>Price</th>\n",
              "      <th>Content Rating</th>\n",
              "      <th>Genres</th>\n",
              "      <th>Last Updated</th>\n",
              "      <th>Current Ver</th>\n",
              "      <th>Android Ver</th>\n",
              "      <th>Rating_cat</th>\n",
              "    </tr>\n",
              "  </thead>\n",
              "  <tbody>\n",
              "    <tr>\n",
              "      <th>0</th>\n",
              "      <td>Photo Editor &amp; Candy Camera &amp; Grid &amp; ScrapBook</td>\n",
              "      <td>ART_AND_DESIGN</td>\n",
              "      <td>4.1</td>\n",
              "      <td>159</td>\n",
              "      <td>19M</td>\n",
              "      <td>10,000+</td>\n",
              "      <td>Free</td>\n",
              "      <td>0</td>\n",
              "      <td>Everyone</td>\n",
              "      <td>Art &amp; Design</td>\n",
              "      <td>January 7, 2018</td>\n",
              "      <td>1.0.0</td>\n",
              "      <td>4.0.3 and up</td>\n",
              "      <td>High</td>\n",
              "    </tr>\n",
              "    <tr>\n",
              "      <th>1</th>\n",
              "      <td>Coloring book moana</td>\n",
              "      <td>ART_AND_DESIGN</td>\n",
              "      <td>3.9</td>\n",
              "      <td>967</td>\n",
              "      <td>14M</td>\n",
              "      <td>500,000+</td>\n",
              "      <td>Free</td>\n",
              "      <td>0</td>\n",
              "      <td>Everyone</td>\n",
              "      <td>Art &amp; Design;Pretend Play</td>\n",
              "      <td>January 15, 2018</td>\n",
              "      <td>2.0.0</td>\n",
              "      <td>4.0.3 and up</td>\n",
              "      <td>High</td>\n",
              "    </tr>\n",
              "    <tr>\n",
              "      <th>2</th>\n",
              "      <td>U Launcher Lite – FREE Live Cool Themes, Hide ...</td>\n",
              "      <td>ART_AND_DESIGN</td>\n",
              "      <td>4.7</td>\n",
              "      <td>87510</td>\n",
              "      <td>8.7M</td>\n",
              "      <td>5,000,000+</td>\n",
              "      <td>Free</td>\n",
              "      <td>0</td>\n",
              "      <td>Everyone</td>\n",
              "      <td>Art &amp; Design</td>\n",
              "      <td>August 1, 2018</td>\n",
              "      <td>1.2.4</td>\n",
              "      <td>4.0.3 and up</td>\n",
              "      <td>High</td>\n",
              "    </tr>\n",
              "    <tr>\n",
              "      <th>3</th>\n",
              "      <td>Sketch - Draw &amp; Paint</td>\n",
              "      <td>ART_AND_DESIGN</td>\n",
              "      <td>4.5</td>\n",
              "      <td>215644</td>\n",
              "      <td>25M</td>\n",
              "      <td>50,000,000+</td>\n",
              "      <td>Free</td>\n",
              "      <td>0</td>\n",
              "      <td>Teen</td>\n",
              "      <td>Art &amp; Design</td>\n",
              "      <td>June 8, 2018</td>\n",
              "      <td>Varies with device</td>\n",
              "      <td>4.2 and up</td>\n",
              "      <td>High</td>\n",
              "    </tr>\n",
              "    <tr>\n",
              "      <th>4</th>\n",
              "      <td>Pixel Draw - Number Art Coloring Book</td>\n",
              "      <td>ART_AND_DESIGN</td>\n",
              "      <td>4.3</td>\n",
              "      <td>967</td>\n",
              "      <td>2.8M</td>\n",
              "      <td>100,000+</td>\n",
              "      <td>Free</td>\n",
              "      <td>0</td>\n",
              "      <td>Everyone</td>\n",
              "      <td>Art &amp; Design;Creativity</td>\n",
              "      <td>June 20, 2018</td>\n",
              "      <td>1.1</td>\n",
              "      <td>4.4 and up</td>\n",
              "      <td>High</td>\n",
              "    </tr>\n",
              "  </tbody>\n",
              "</table>\n",
              "</div>"
            ],
            "text/plain": [
              "                                                 App        Category  Rating  \\\n",
              "0     Photo Editor & Candy Camera & Grid & ScrapBook  ART_AND_DESIGN     4.1   \n",
              "1                                Coloring book moana  ART_AND_DESIGN     3.9   \n",
              "2  U Launcher Lite – FREE Live Cool Themes, Hide ...  ART_AND_DESIGN     4.7   \n",
              "3                              Sketch - Draw & Paint  ART_AND_DESIGN     4.5   \n",
              "4              Pixel Draw - Number Art Coloring Book  ART_AND_DESIGN     4.3   \n",
              "\n",
              "  Reviews  Size     Installs  Type Price Content Rating  \\\n",
              "0     159   19M      10,000+  Free     0       Everyone   \n",
              "1     967   14M     500,000+  Free     0       Everyone   \n",
              "2   87510  8.7M   5,000,000+  Free     0       Everyone   \n",
              "3  215644   25M  50,000,000+  Free     0           Teen   \n",
              "4     967  2.8M     100,000+  Free     0       Everyone   \n",
              "\n",
              "                      Genres      Last Updated         Current Ver  \\\n",
              "0               Art & Design   January 7, 2018               1.0.0   \n",
              "1  Art & Design;Pretend Play  January 15, 2018               2.0.0   \n",
              "2               Art & Design    August 1, 2018               1.2.4   \n",
              "3               Art & Design      June 8, 2018  Varies with device   \n",
              "4    Art & Design;Creativity     June 20, 2018                 1.1   \n",
              "\n",
              "    Android Ver Rating_cat  \n",
              "0  4.0.3 and up       High  \n",
              "1  4.0.3 and up       High  \n",
              "2  4.0.3 and up       High  \n",
              "3    4.2 and up       High  \n",
              "4    4.4 and up       High  "
            ]
          },
          "execution_count": 9,
          "metadata": {},
          "output_type": "execute_result"
        },
        {
          "data": {
            "image/png": "[encoded data removed]",
            "text/plain": [
              "<Figure size 432x288 with 1 Axes>"
            ]
          },
          "metadata": {
            "needs_background": "light"
          },
          "output_type": "display_data"
        }
      ],
      "source": [
        "#Distribution of Rating Column\n",
        "sns.distplot(df[\"Rating\"])\n",
        "df[\"Rating_cat\"]=df[\"Rating\"].apply( lambda x: \"High\" if x>=3.5 else \"Low\")\n",
        "df.head()"
      ]
    },
    {
      "cell_type": "code",
      "execution_count": null,
      "metadata": {
        "colab": {
          "base_uri": "https://localhost:8080/"
        },
        "id": "eY7JyGBKFYex",
        "outputId": "26a231c8-975a-4adb-886a-6f619ac07697"
      },
      "outputs": [
        {
          "name": "stdout",
          "output_type": "stream",
          "text": [
            "int64\n",
            "0\n"
          ]
        }
      ],
      "source": [
        "#Converting the review column into numeric data type and checking for null values\n",
        "df[\"Reviews\"]= pd.to_numeric(df[\"Reviews\"])\n",
        "print(df[\"Reviews\"].dtypes)\n",
        "print(df[\"Reviews\"].isnull().sum())"
      ]
    },
    {
      "cell_type": "code",
      "execution_count": null,
      "metadata": {
        "colab": {
          "base_uri": "https://localhost:8080/",
          "height": 205
        },
        "id": "oJkXMRaVGCkp",
        "outputId": "3823116c-54f1-45b8-c869-a9f3c796f536"
      },
      "outputs": [
        {
          "data": {
            "text/html": [
              "<div>\n",
              "<style scoped>\n",
              "    .dataframe tbody tr th:only-of-type {\n",
              "        vertical-align: middle;\n",
              "    }\n",
              "\n",
              "    .dataframe tbody tr th {\n",
              "        vertical-align: top;\n",
              "    }\n",
              "\n",
              "    .dataframe thead th {\n",
              "        text-align: right;\n",
              "    }\n",
              "</style>\n",
              "<table border=\"1\" class=\"dataframe\">\n",
              "  <thead>\n",
              "    <tr style=\"text-align: right;\">\n",
              "      <th></th>\n",
              "      <th>App</th>\n",
              "      <th>Genres</th>\n",
              "      <th>Review</th>\n",
              "    </tr>\n",
              "  </thead>\n",
              "  <tbody>\n",
              "    <tr>\n",
              "      <th>5404</th>\n",
              "      <td>Instagram</td>\n",
              "      <td>Social</td>\n",
              "      <td>199664676</td>\n",
              "    </tr>\n",
              "    <tr>\n",
              "      <th>4333</th>\n",
              "      <td>Facebook</td>\n",
              "      <td>Social</td>\n",
              "      <td>156286514</td>\n",
              "    </tr>\n",
              "    <tr>\n",
              "      <th>8087</th>\n",
              "      <td>Subway Surfers</td>\n",
              "      <td>Arcade</td>\n",
              "      <td>138606606</td>\n",
              "    </tr>\n",
              "    <tr>\n",
              "      <th>9050</th>\n",
              "      <td>WhatsApp Messenger</td>\n",
              "      <td>Communication</td>\n",
              "      <td>138228988</td>\n",
              "    </tr>\n",
              "    <tr>\n",
              "      <th>2569</th>\n",
              "      <td>Clash of Clans</td>\n",
              "      <td>Strategy</td>\n",
              "      <td>134667058</td>\n",
              "    </tr>\n",
              "  </tbody>\n",
              "</table>\n",
              "</div>"
            ],
            "text/plain": [
              "                     App         Genres     Review\n",
              "5404           Instagram         Social  199664676\n",
              "4333            Facebook         Social  156286514\n",
              "8087      Subway Surfers         Arcade  138606606\n",
              "9050  WhatsApp Messenger  Communication  138228988\n",
              "2569      Clash of Clans       Strategy  134667058"
            ]
          },
          "execution_count": 11,
          "metadata": {},
          "output_type": "execute_result"
        }
      ],
      "source": [
        "#Top 5 apps with highest number of reviews and their respective genre\n",
        "data = df.groupby([\"App\",\"Genres\"], as_index=False).agg( Review = (\"Reviews\",sum))\n",
        "data.sort_values(\"Review\", ascending=False).head()"
      ]
    },
    {
      "cell_type": "code",
      "execution_count": null,
      "metadata": {
        "colab": {
          "base_uri": "https://localhost:8080/",
          "height": 571
        },
        "id": "8o8XmpKgHPac",
        "outputId": "7169111b-809b-4aac-8843-3e7027ef054b"
      },
      "outputs": [
        {
          "data": {
            "text/html": [
              "<div>\n",
              "<style scoped>\n",
              "    .dataframe tbody tr th:only-of-type {\n",
              "        vertical-align: middle;\n",
              "    }\n",
              "\n",
              "    .dataframe tbody tr th {\n",
              "        vertical-align: top;\n",
              "    }\n",
              "\n",
              "    .dataframe thead th {\n",
              "        text-align: right;\n",
              "    }\n",
              "</style>\n",
              "<table border=\"1\" class=\"dataframe\">\n",
              "  <thead>\n",
              "    <tr style=\"text-align: right;\">\n",
              "      <th></th>\n",
              "      <th>App</th>\n",
              "      <th>Category</th>\n",
              "      <th>Rating</th>\n",
              "      <th>Reviews</th>\n",
              "      <th>Size</th>\n",
              "      <th>Installs</th>\n",
              "      <th>Type</th>\n",
              "      <th>Price</th>\n",
              "      <th>Content Rating</th>\n",
              "      <th>Genres</th>\n",
              "      <th>Last Updated</th>\n",
              "      <th>Current Ver</th>\n",
              "      <th>Android Ver</th>\n",
              "      <th>Rating_cat</th>\n",
              "    </tr>\n",
              "  </thead>\n",
              "  <tbody>\n",
              "    <tr>\n",
              "      <th>0</th>\n",
              "      <td>Photo Editor &amp; Candy Camera &amp; Grid &amp; ScrapBook</td>\n",
              "      <td>ART_AND_DESIGN</td>\n",
              "      <td>4.1</td>\n",
              "      <td>159</td>\n",
              "      <td>19000000.0</td>\n",
              "      <td>10,000+</td>\n",
              "      <td>Free</td>\n",
              "      <td>0</td>\n",
              "      <td>Everyone</td>\n",
              "      <td>Art &amp; Design</td>\n",
              "      <td>January 7, 2018</td>\n",
              "      <td>1.0.0</td>\n",
              "      <td>4.0.3 and up</td>\n",
              "      <td>High</td>\n",
              "    </tr>\n",
              "    <tr>\n",
              "      <th>1</th>\n",
              "      <td>Coloring book moana</td>\n",
              "      <td>ART_AND_DESIGN</td>\n",
              "      <td>3.9</td>\n",
              "      <td>967</td>\n",
              "      <td>14000000.0</td>\n",
              "      <td>500,000+</td>\n",
              "      <td>Free</td>\n",
              "      <td>0</td>\n",
              "      <td>Everyone</td>\n",
              "      <td>Art &amp; Design;Pretend Play</td>\n",
              "      <td>January 15, 2018</td>\n",
              "      <td>2.0.0</td>\n",
              "      <td>4.0.3 and up</td>\n",
              "      <td>High</td>\n",
              "    </tr>\n",
              "    <tr>\n",
              "      <th>2</th>\n",
              "      <td>U Launcher Lite – FREE Live Cool Themes, Hide ...</td>\n",
              "      <td>ART_AND_DESIGN</td>\n",
              "      <td>4.7</td>\n",
              "      <td>87510</td>\n",
              "      <td>8700000.0</td>\n",
              "      <td>5,000,000+</td>\n",
              "      <td>Free</td>\n",
              "      <td>0</td>\n",
              "      <td>Everyone</td>\n",
              "      <td>Art &amp; Design</td>\n",
              "      <td>August 1, 2018</td>\n",
              "      <td>1.2.4</td>\n",
              "      <td>4.0.3 and up</td>\n",
              "      <td>High</td>\n",
              "    </tr>\n",
              "    <tr>\n",
              "      <th>3</th>\n",
              "      <td>Sketch - Draw &amp; Paint</td>\n",
              "      <td>ART_AND_DESIGN</td>\n",
              "      <td>4.5</td>\n",
              "      <td>215644</td>\n",
              "      <td>25000000.0</td>\n",
              "      <td>50,000,000+</td>\n",
              "      <td>Free</td>\n",
              "      <td>0</td>\n",
              "      <td>Teen</td>\n",
              "      <td>Art &amp; Design</td>\n",
              "      <td>June 8, 2018</td>\n",
              "      <td>Varies with device</td>\n",
              "      <td>4.2 and up</td>\n",
              "      <td>High</td>\n",
              "    </tr>\n",
              "    <tr>\n",
              "      <th>4</th>\n",
              "      <td>Pixel Draw - Number Art Coloring Book</td>\n",
              "      <td>ART_AND_DESIGN</td>\n",
              "      <td>4.3</td>\n",
              "      <td>967</td>\n",
              "      <td>2800000.0</td>\n",
              "      <td>100,000+</td>\n",
              "      <td>Free</td>\n",
              "      <td>0</td>\n",
              "      <td>Everyone</td>\n",
              "      <td>Art &amp; Design;Creativity</td>\n",
              "      <td>June 20, 2018</td>\n",
              "      <td>1.1</td>\n",
              "      <td>4.4 and up</td>\n",
              "      <td>High</td>\n",
              "    </tr>\n",
              "  </tbody>\n",
              "</table>\n",
              "</div>"
            ],
            "text/plain": [
              "                                                 App        Category  Rating  \\\n",
              "0     Photo Editor & Candy Camera & Grid & ScrapBook  ART_AND_DESIGN     4.1   \n",
              "1                                Coloring book moana  ART_AND_DESIGN     3.9   \n",
              "2  U Launcher Lite – FREE Live Cool Themes, Hide ...  ART_AND_DESIGN     4.7   \n",
              "3                              Sketch - Draw & Paint  ART_AND_DESIGN     4.5   \n",
              "4              Pixel Draw - Number Art Coloring Book  ART_AND_DESIGN     4.3   \n",
              "\n",
              "   Reviews        Size     Installs  Type Price Content Rating  \\\n",
              "0      159  19000000.0      10,000+  Free     0       Everyone   \n",
              "1      967  14000000.0     500,000+  Free     0       Everyone   \n",
              "2    87510   8700000.0   5,000,000+  Free     0       Everyone   \n",
              "3   215644  25000000.0  50,000,000+  Free     0           Teen   \n",
              "4      967   2800000.0     100,000+  Free     0       Everyone   \n",
              "\n",
              "                      Genres      Last Updated         Current Ver  \\\n",
              "0               Art & Design   January 7, 2018               1.0.0   \n",
              "1  Art & Design;Pretend Play  January 15, 2018               2.0.0   \n",
              "2               Art & Design    August 1, 2018               1.2.4   \n",
              "3               Art & Design      June 8, 2018  Varies with device   \n",
              "4    Art & Design;Creativity     June 20, 2018                 1.1   \n",
              "\n",
              "    Android Ver Rating_cat  \n",
              "0  4.0.3 and up       High  \n",
              "1  4.0.3 and up       High  \n",
              "2  4.0.3 and up       High  \n",
              "3    4.2 and up       High  \n",
              "4    4.4 and up       High  "
            ]
          },
          "execution_count": 12,
          "metadata": {},
          "output_type": "execute_result"
        }
      ],
      "source": [
        "#Making size column numeric\n",
        "df[\"Size\"]=df[\"Size\"].replace(\"Varies with device\", np.NaN)\n",
        "\n",
        "df[\"M_k\"]= df[\"Size\"].str.strip().str[-1]\n",
        "df[\"Size\"]= df[\"Size\"].replace({\"M\":\"\", \"k\":\"\"}, regex= True)\n",
        "df[\"M_k\"]=df[\"M_k\"].replace({\"M\":1000000, \"k\":1000}, regex= True)\n",
        "df[\"Size\"]=df[\"Size\"].replace(\"Varies with device\", np.NaN)\n",
        "# df[\"M_k\"]=df[\"M_k\"].replace(\"e\", np.NaN)\n",
        "df[\"Size\"]=pd.to_numeric(df[\"Size\"])\n",
        "df[\"M_k\"]=pd.to_numeric(df[\"M_k\"])\n",
        "df[\"Size\"]=df[\"Size\"]*df[\"M_k\"]\n",
        "df=df.drop(\"M_k\",axis=1)\n",
        "df.head()"
      ]
    },
    {
      "cell_type": "code",
      "execution_count": null,
      "metadata": {
        "colab": {
          "base_uri": "https://localhost:8080/",
          "height": 519
        },
        "id": "K8ocV1CeQjBC",
        "outputId": "bb2b5065-1324-4f2e-90db-132247f32204"
      },
      "outputs": [
        {
          "data": {
            "text/html": [
              "<div>\n",
              "<style scoped>\n",
              "    .dataframe tbody tr th:only-of-type {\n",
              "        vertical-align: middle;\n",
              "    }\n",
              "\n",
              "    .dataframe tbody tr th {\n",
              "        vertical-align: top;\n",
              "    }\n",
              "\n",
              "    .dataframe thead th {\n",
              "        text-align: right;\n",
              "    }\n",
              "</style>\n",
              "<table border=\"1\" class=\"dataframe\">\n",
              "  <thead>\n",
              "    <tr style=\"text-align: right;\">\n",
              "      <th></th>\n",
              "      <th>App</th>\n",
              "      <th>Category</th>\n",
              "      <th>Rating</th>\n",
              "      <th>Reviews</th>\n",
              "      <th>Size</th>\n",
              "      <th>Installs</th>\n",
              "      <th>Type</th>\n",
              "      <th>Price</th>\n",
              "      <th>Content Rating</th>\n",
              "      <th>Genres</th>\n",
              "      <th>Last Updated</th>\n",
              "      <th>Current Ver</th>\n",
              "      <th>Android Ver</th>\n",
              "      <th>Rating_cat</th>\n",
              "    </tr>\n",
              "  </thead>\n",
              "  <tbody>\n",
              "    <tr>\n",
              "      <th>221</th>\n",
              "      <td>Myanmar 2D/3D</td>\n",
              "      <td>BUSINESS</td>\n",
              "      <td>4.6</td>\n",
              "      <td>822</td>\n",
              "      <td>3100000.0</td>\n",
              "      <td>100000</td>\n",
              "      <td>Free</td>\n",
              "      <td>0</td>\n",
              "      <td>Everyone</td>\n",
              "      <td>Business</td>\n",
              "      <td>June 8, 2018</td>\n",
              "      <td>1.5</td>\n",
              "      <td>4.0.3 and up</td>\n",
              "      <td>High</td>\n",
              "    </tr>\n",
              "    <tr>\n",
              "      <th>5980</th>\n",
              "      <td>BC Camera</td>\n",
              "      <td>PHOTOGRAPHY</td>\n",
              "      <td>4.2</td>\n",
              "      <td>5</td>\n",
              "      <td>5500000.0</td>\n",
              "      <td>500</td>\n",
              "      <td>Free</td>\n",
              "      <td>0</td>\n",
              "      <td>Everyone</td>\n",
              "      <td>Photography</td>\n",
              "      <td>January 10, 2018</td>\n",
              "      <td>1.0</td>\n",
              "      <td>4.0.3 and up</td>\n",
              "      <td>High</td>\n",
              "    </tr>\n",
              "    <tr>\n",
              "      <th>8793</th>\n",
              "      <td>Dr. Seuss's ABC</td>\n",
              "      <td>FAMILY</td>\n",
              "      <td>4.7</td>\n",
              "      <td>429</td>\n",
              "      <td>12000000.0</td>\n",
              "      <td>10000</td>\n",
              "      <td>Paid</td>\n",
              "      <td>$3.99</td>\n",
              "      <td>Everyone</td>\n",
              "      <td>Books &amp; Reference;Education</td>\n",
              "      <td>February 26, 2018</td>\n",
              "      <td>2.05</td>\n",
              "      <td>4.0.3 and up</td>\n",
              "      <td>High</td>\n",
              "    </tr>\n",
              "    <tr>\n",
              "      <th>8659</th>\n",
              "      <td>Cal - Google Calendar + Widget</td>\n",
              "      <td>PRODUCTIVITY</td>\n",
              "      <td>4.2</td>\n",
              "      <td>86172</td>\n",
              "      <td>13000000.0</td>\n",
              "      <td>1000000</td>\n",
              "      <td>Free</td>\n",
              "      <td>0</td>\n",
              "      <td>Everyone</td>\n",
              "      <td>Productivity</td>\n",
              "      <td>February 1, 2016</td>\n",
              "      <td>1.1.7</td>\n",
              "      <td>4.0 and up</td>\n",
              "      <td>High</td>\n",
              "    </tr>\n",
              "    <tr>\n",
              "      <th>8555</th>\n",
              "      <td>Dungeons and Dragons DM Tools</td>\n",
              "      <td>BOOKS_AND_REFERENCE</td>\n",
              "      <td>3.1</td>\n",
              "      <td>50</td>\n",
              "      <td>4900000.0</td>\n",
              "      <td>1000</td>\n",
              "      <td>Paid</td>\n",
              "      <td>$1.99</td>\n",
              "      <td>Everyone</td>\n",
              "      <td>Books &amp; Reference</td>\n",
              "      <td>February 22, 2017</td>\n",
              "      <td>2.0</td>\n",
              "      <td>2.3 and up</td>\n",
              "      <td>Low</td>\n",
              "    </tr>\n",
              "  </tbody>\n",
              "</table>\n",
              "</div>"
            ],
            "text/plain": [
              "                                 App             Category  Rating  Reviews  \\\n",
              "221                    Myanmar 2D/3D             BUSINESS     4.6      822   \n",
              "5980                       BC Camera          PHOTOGRAPHY     4.2        5   \n",
              "8793                 Dr. Seuss's ABC               FAMILY     4.7      429   \n",
              "8659  Cal - Google Calendar + Widget         PRODUCTIVITY     4.2    86172   \n",
              "8555   Dungeons and Dragons DM Tools  BOOKS_AND_REFERENCE     3.1       50   \n",
              "\n",
              "            Size  Installs  Type  Price Content Rating  \\\n",
              "221    3100000.0    100000  Free      0       Everyone   \n",
              "5980   5500000.0       500  Free      0       Everyone   \n",
              "8793  12000000.0     10000  Paid  $3.99       Everyone   \n",
              "8659  13000000.0   1000000  Free      0       Everyone   \n",
              "8555   4900000.0      1000  Paid  $1.99       Everyone   \n",
              "\n",
              "                           Genres       Last Updated Current Ver  \\\n",
              "221                      Business       June 8, 2018         1.5   \n",
              "5980                  Photography   January 10, 2018         1.0   \n",
              "8793  Books & Reference;Education  February 26, 2018        2.05   \n",
              "8659                 Productivity   February 1, 2016       1.1.7   \n",
              "8555            Books & Reference  February 22, 2017         2.0   \n",
              "\n",
              "       Android Ver Rating_cat  \n",
              "221   4.0.3 and up       High  \n",
              "5980  4.0.3 and up       High  \n",
              "8793  4.0.3 and up       High  \n",
              "8659    4.0 and up       High  \n",
              "8555    2.3 and up        Low  "
            ]
          },
          "execution_count": 13,
          "metadata": {},
          "output_type": "execute_result"
        }
      ],
      "source": [
        "#Converting Installs column into numeric data type and removing mentioned values\n",
        "df[\"Installs\"].unique()\n",
        "df[\"Installs\"]=df[\"Installs\"].replace({\",\":\"\"}, regex= True)\n",
        "df['Installs'] = df['Installs'].map(lambda x: str(x)[:-1])\n",
        "df[\"Installs\"]= df[\"Installs\"].replace(\"\",\"0\")\n",
        "df[\"Installs\"]= pd.to_numeric(df[\"Installs\"])\n",
        "df.sample(5)"
      ]
    },
    {
      "cell_type": "code",
      "execution_count": null,
      "metadata": {
        "colab": {
          "base_uri": "https://localhost:8080/"
        },
        "id": "gA7NpCANcbKD",
        "outputId": "afdc9f7d-e554-41b5-b27c-30ff8e389d8d"
      },
      "outputs": [
        {
          "name": "stdout",
          "output_type": "stream",
          "text": [
            "Free    9591\n",
            "Paid     765\n",
            "Name: Type, dtype: int64\n",
            "Percentage of Paid Apps 7.39 %\n"
          ]
        }
      ],
      "source": [
        "x= df[\"Type\"].value_counts()\n",
        "print(x)\n",
        "print( \"Percentage of Paid Apps\", round((x[1]/(x[0]+x[1]))*100,2),\"%\")"
      ]
    },
    {
      "cell_type": "code",
      "execution_count": null,
      "metadata": {
        "id": "JLX2bYP4mnuq"
      },
      "outputs": [],
      "source": [
        "#Converting price column into numeric data type\n",
        "df[\"Price\"]=df[\"Price\"].replace(\"0\",\"$0\")\n",
        "df[\"Price\"]=df[\"Price\"].str[1:]\n",
        "df[\"Price\"]= pd.to_numeric(df[\"Price\"])"
      ]
    },
    {
      "cell_type": "code",
      "execution_count": null,
      "metadata": {
        "colab": {
          "base_uri": "https://localhost:8080/",
          "height": 170
        },
        "id": "gu6k1XnMpZFO",
        "outputId": "2c9f1644-1ff2-4d67-a4ac-b9bfd011ab60"
      },
      "outputs": [
        {
          "data": {
            "text/html": [
              "<div>\n",
              "<style scoped>\n",
              "    .dataframe tbody tr th:only-of-type {\n",
              "        vertical-align: middle;\n",
              "    }\n",
              "\n",
              "    .dataframe tbody tr th {\n",
              "        vertical-align: top;\n",
              "    }\n",
              "\n",
              "    .dataframe thead th {\n",
              "        text-align: right;\n",
              "    }\n",
              "</style>\n",
              "<table border=\"1\" class=\"dataframe\">\n",
              "  <thead>\n",
              "    <tr style=\"text-align: right;\">\n",
              "      <th></th>\n",
              "      <th>App</th>\n",
              "      <th>Category</th>\n",
              "      <th>Rating</th>\n",
              "      <th>Reviews</th>\n",
              "      <th>Size</th>\n",
              "      <th>Installs</th>\n",
              "      <th>Type</th>\n",
              "      <th>Price</th>\n",
              "      <th>Content Rating</th>\n",
              "      <th>Genres</th>\n",
              "      <th>Last Updated</th>\n",
              "      <th>Current Ver</th>\n",
              "      <th>Android Ver</th>\n",
              "      <th>Rating_cat</th>\n",
              "    </tr>\n",
              "  </thead>\n",
              "  <tbody>\n",
              "    <tr>\n",
              "      <th>4367</th>\n",
              "      <td>I'm Rich - Trump Edition</td>\n",
              "      <td>LIFESTYLE</td>\n",
              "      <td>3.6</td>\n",
              "      <td>275</td>\n",
              "      <td>7300000.0</td>\n",
              "      <td>10000</td>\n",
              "      <td>Paid</td>\n",
              "      <td>400.0</td>\n",
              "      <td>Everyone</td>\n",
              "      <td>Lifestyle</td>\n",
              "      <td>May 3, 2018</td>\n",
              "      <td>1.0.1</td>\n",
              "      <td>4.1 and up</td>\n",
              "      <td>High</td>\n",
              "    </tr>\n",
              "  </tbody>\n",
              "</table>\n",
              "</div>"
            ],
            "text/plain": [
              "                           App   Category  Rating  Reviews       Size  \\\n",
              "4367  I'm Rich - Trump Edition  LIFESTYLE     3.6      275  7300000.0   \n",
              "\n",
              "      Installs  Type  Price Content Rating     Genres Last Updated  \\\n",
              "4367     10000  Paid  400.0       Everyone  Lifestyle  May 3, 2018   \n",
              "\n",
              "     Current Ver Android Ver Rating_cat  \n",
              "4367       1.0.1  4.1 and up       High  "
            ]
          },
          "execution_count": 16,
          "metadata": {},
          "output_type": "execute_result"
        }
      ],
      "source": [
        "#Most Expensive App\n",
        "df.sort_values(\"Price\", ascending=False).head(1)"
      ]
    },
    {
      "cell_type": "code",
      "execution_count": null,
      "metadata": {
        "colab": {
          "base_uri": "https://localhost:8080/"
        },
        "id": "3LOPt7c208Sj",
        "outputId": "9d306134-ded5-4edb-c83e-b0e755f82f8e"
      },
      "outputs": [
        {
          "data": {
            "text/plain": [
              "Everyone           8382\n",
              "Teen               1146\n",
              "Mature 17+          447\n",
              "Everyone 10+        377\n",
              "Adults only 18+       3\n",
              "Unrated               2\n",
              "Name: Content Rating, dtype: int64"
            ]
          },
          "execution_count": 17,
          "metadata": {},
          "output_type": "execute_result"
        }
      ],
      "source": [
        "df[\"Content Rating\"].value_counts()"
      ]
    },
    {
      "cell_type": "code",
      "execution_count": null,
      "metadata": {
        "colab": {
          "base_uri": "https://localhost:8080/",
          "height": 225
        },
        "id": "aJ89LpHBrVnn",
        "outputId": "9651fc35-cac9-45fe-d4e8-48809dc3549b"
      },
      "outputs": [
        {
          "data": {
            "text/html": [
              "<div>\n",
              "<style scoped>\n",
              "    .dataframe tbody tr th:only-of-type {\n",
              "        vertical-align: middle;\n",
              "    }\n",
              "\n",
              "    .dataframe tbody tr th {\n",
              "        vertical-align: top;\n",
              "    }\n",
              "\n",
              "    .dataframe thead th {\n",
              "        text-align: right;\n",
              "    }\n",
              "</style>\n",
              "<table border=\"1\" class=\"dataframe\">\n",
              "  <thead>\n",
              "    <tr style=\"text-align: right;\">\n",
              "      <th></th>\n",
              "      <th>Rating</th>\n",
              "      <th>Reviews</th>\n",
              "      <th>Size</th>\n",
              "      <th>Installs</th>\n",
              "      <th>Price</th>\n",
              "      <th>Rating_cat</th>\n",
              "      <th>Type_Free</th>\n",
              "      <th>Type_Paid</th>\n",
              "      <th>Category_ART_AND_DESIGN</th>\n",
              "      <th>Category_AUTO_AND_VEHICLES</th>\n",
              "      <th>...</th>\n",
              "      <th>Category_PERSONALIZATION</th>\n",
              "      <th>Category_PHOTOGRAPHY</th>\n",
              "      <th>Category_PRODUCTIVITY</th>\n",
              "      <th>Category_SHOPPING</th>\n",
              "      <th>Category_SOCIAL</th>\n",
              "      <th>Category_SPORTS</th>\n",
              "      <th>Category_TOOLS</th>\n",
              "      <th>Category_TRAVEL_AND_LOCAL</th>\n",
              "      <th>Category_VIDEO_PLAYERS</th>\n",
              "      <th>Category_WEATHER</th>\n",
              "    </tr>\n",
              "  </thead>\n",
              "  <tbody>\n",
              "    <tr>\n",
              "      <th>0</th>\n",
              "      <td>4.1</td>\n",
              "      <td>159</td>\n",
              "      <td>19000000.0</td>\n",
              "      <td>10000</td>\n",
              "      <td>0.0</td>\n",
              "      <td>1</td>\n",
              "      <td>1</td>\n",
              "      <td>0</td>\n",
              "      <td>1</td>\n",
              "      <td>0</td>\n",
              "      <td>...</td>\n",
              "      <td>0</td>\n",
              "      <td>0</td>\n",
              "      <td>0</td>\n",
              "      <td>0</td>\n",
              "      <td>0</td>\n",
              "      <td>0</td>\n",
              "      <td>0</td>\n",
              "      <td>0</td>\n",
              "      <td>0</td>\n",
              "      <td>0</td>\n",
              "    </tr>\n",
              "    <tr>\n",
              "      <th>1</th>\n",
              "      <td>3.9</td>\n",
              "      <td>967</td>\n",
              "      <td>14000000.0</td>\n",
              "      <td>500000</td>\n",
              "      <td>0.0</td>\n",
              "      <td>1</td>\n",
              "      <td>1</td>\n",
              "      <td>0</td>\n",
              "      <td>1</td>\n",
              "      <td>0</td>\n",
              "      <td>...</td>\n",
              "      <td>0</td>\n",
              "      <td>0</td>\n",
              "      <td>0</td>\n",
              "      <td>0</td>\n",
              "      <td>0</td>\n",
              "      <td>0</td>\n",
              "      <td>0</td>\n",
              "      <td>0</td>\n",
              "      <td>0</td>\n",
              "      <td>0</td>\n",
              "    </tr>\n",
              "    <tr>\n",
              "      <th>2</th>\n",
              "      <td>4.7</td>\n",
              "      <td>87510</td>\n",
              "      <td>8700000.0</td>\n",
              "      <td>5000000</td>\n",
              "      <td>0.0</td>\n",
              "      <td>1</td>\n",
              "      <td>1</td>\n",
              "      <td>0</td>\n",
              "      <td>1</td>\n",
              "      <td>0</td>\n",
              "      <td>...</td>\n",
              "      <td>0</td>\n",
              "      <td>0</td>\n",
              "      <td>0</td>\n",
              "      <td>0</td>\n",
              "      <td>0</td>\n",
              "      <td>0</td>\n",
              "      <td>0</td>\n",
              "      <td>0</td>\n",
              "      <td>0</td>\n",
              "      <td>0</td>\n",
              "    </tr>\n",
              "    <tr>\n",
              "      <th>3</th>\n",
              "      <td>4.5</td>\n",
              "      <td>215644</td>\n",
              "      <td>25000000.0</td>\n",
              "      <td>50000000</td>\n",
              "      <td>0.0</td>\n",
              "      <td>1</td>\n",
              "      <td>1</td>\n",
              "      <td>0</td>\n",
              "      <td>1</td>\n",
              "      <td>0</td>\n",
              "      <td>...</td>\n",
              "      <td>0</td>\n",
              "      <td>0</td>\n",
              "      <td>0</td>\n",
              "      <td>0</td>\n",
              "      <td>0</td>\n",
              "      <td>0</td>\n",
              "      <td>0</td>\n",
              "      <td>0</td>\n",
              "      <td>0</td>\n",
              "      <td>0</td>\n",
              "    </tr>\n",
              "    <tr>\n",
              "      <th>4</th>\n",
              "      <td>4.3</td>\n",
              "      <td>967</td>\n",
              "      <td>2800000.0</td>\n",
              "      <td>100000</td>\n",
              "      <td>0.0</td>\n",
              "      <td>1</td>\n",
              "      <td>1</td>\n",
              "      <td>0</td>\n",
              "      <td>1</td>\n",
              "      <td>0</td>\n",
              "      <td>...</td>\n",
              "      <td>0</td>\n",
              "      <td>0</td>\n",
              "      <td>0</td>\n",
              "      <td>0</td>\n",
              "      <td>0</td>\n",
              "      <td>0</td>\n",
              "      <td>0</td>\n",
              "      <td>0</td>\n",
              "      <td>0</td>\n",
              "      <td>0</td>\n",
              "    </tr>\n",
              "  </tbody>\n",
              "</table>\n",
              "<p>5 rows × 41 columns</p>\n",
              "</div>"
            ],
            "text/plain": [
              "   Rating  Reviews        Size  Installs  Price  Rating_cat  Type_Free  \\\n",
              "0     4.1      159  19000000.0     10000    0.0           1          1   \n",
              "1     3.9      967  14000000.0    500000    0.0           1          1   \n",
              "2     4.7    87510   8700000.0   5000000    0.0           1          1   \n",
              "3     4.5   215644  25000000.0  50000000    0.0           1          1   \n",
              "4     4.3      967   2800000.0    100000    0.0           1          1   \n",
              "\n",
              "   Type_Paid  Category_ART_AND_DESIGN  Category_AUTO_AND_VEHICLES  ...  \\\n",
              "0          0                        1                           0  ...   \n",
              "1          0                        1                           0  ...   \n",
              "2          0                        1                           0  ...   \n",
              "3          0                        1                           0  ...   \n",
              "4          0                        1                           0  ...   \n",
              "\n",
              "   Category_PERSONALIZATION  Category_PHOTOGRAPHY  Category_PRODUCTIVITY  \\\n",
              "0                         0                     0                      0   \n",
              "1                         0                     0                      0   \n",
              "2                         0                     0                      0   \n",
              "3                         0                     0                      0   \n",
              "4                         0                     0                      0   \n",
              "\n",
              "   Category_SHOPPING  Category_SOCIAL  Category_SPORTS  Category_TOOLS  \\\n",
              "0                  0                0                0               0   \n",
              "1                  0                0                0               0   \n",
              "2                  0                0                0               0   \n",
              "3                  0                0                0               0   \n",
              "4                  0                0                0               0   \n",
              "\n",
              "   Category_TRAVEL_AND_LOCAL  Category_VIDEO_PLAYERS  Category_WEATHER  \n",
              "0                          0                       0                 0  \n",
              "1                          0                       0                 0  \n",
              "2                          0                       0                 0  \n",
              "3                          0                       0                 0  \n",
              "4                          0                       0                 0  \n",
              "\n",
              "[5 rows x 41 columns]"
            ]
          },
          "execution_count": 18,
          "metadata": {},
          "output_type": "execute_result"
        }
      ],
      "source": [
        "#Dropping columns which can't be used for modelling\n",
        "df.drop([\"App\",\"Genres\",\"Content Rating\",\"Last Updated\", \"Android Ver\", \"Current Ver\"], axis=1,inplace=True)\n",
        "df= pd.get_dummies(df, columns=[\"Type\", \"Category\"])\n",
        "rating_cat={\"High\":1, \"Low\":0}\n",
        "df[\"Rating_cat\"]=df[\"Rating_cat\"].map(rating_cat)\n",
        "df.head()"
      ]
    },
    {
      "cell_type": "code",
      "execution_count": null,
      "metadata": {
        "id": "zPMEm3n75Bjd"
      },
      "outputs": [],
      "source": [
        "#Missing Values with Median\n",
        "df=df.fillna(df.median())"
      ]
    },
    {
      "cell_type": "code",
      "execution_count": null,
      "metadata": {
        "id": "gM_4aO2j0s2i"
      },
      "outputs": [],
      "source": [
        "from sklearn.model_selection import train_test_split\n",
        "from sklearn.metrics import accuracy_score, confusion_matrix\n",
        "from sklearn.tree import DecisionTreeClassifier\n",
        "from sklearn.ensemble import RandomForestRegressor, GradientBoostingClassifier, StackingClassifier, RandomForestClassifier\n",
        "from sklearn.linear_model import LogisticRegression"
      ]
    },
    {
      "cell_type": "code",
      "execution_count": null,
      "metadata": {
        "id": "N3Hq9gwV4QJ-"
      },
      "outputs": [],
      "source": [
        "#Creating training and test datasets\n",
        "Y=df[\"Rating_cat\"]\n",
        "X=df.drop([\"Rating_cat\"], axis=1)\n",
        "\n",
        "X_train, X_test, y_train, y_test =train_test_split(X,Y,test_size=0.3,random_state=42)"
      ]
    },
    {
      "cell_type": "code",
      "execution_count": null,
      "metadata": {
        "id": "mUtwY63K4dBb"
      },
      "outputs": [],
      "source": [
        "#Decision Tree\n",
        "dt = DecisionTreeClassifier( criterion=\"gini\", max_depth=10, max_features=15)\n",
        "dt.fit(X_train,y_train)\n",
        "y_test_pred = dt.predict(X_test)\n",
        "y_train_pred = dt.predict(X_train)"
      ]
    },
    {
      "cell_type": "code",
      "execution_count": null,
      "metadata": {
        "colab": {
          "base_uri": "https://localhost:8080/"
        },
        "id": "d6wGEGK247ho",
        "outputId": "9d200ec4-701d-4c6c-f3b6-1de7bf381587"
      },
      "outputs": [
        {
          "name": "stdout",
          "output_type": "stream",
          "text": [
            "[[ 603   38]\n",
            " [  57 2410]]\n",
            "Train score 0.9799972409987584\n",
            "Test score 0.9694337194337195\n"
          ]
        }
      ],
      "source": [
        "print(confusion_matrix(y_test,y_test_pred))\n",
        "print(\"Train score\",dt.score(X_train, y_train))\n",
        "print(\"Test score\",dt.score(X_test, y_test))"
      ]
    },
    {
      "cell_type": "code",
      "execution_count": null,
      "metadata": {
        "colab": {
          "base_uri": "https://localhost:8080/"
        },
        "id": "tcZAH5h-6BXw",
        "outputId": "d6dafa77-061c-48c7-96fc-83e074bd2e61"
      },
      "outputs": [
        {
          "data": {
            "text/plain": [
              "Rating                          0.499964\n",
              "Reviews                         0.456116\n",
              "Size                            0.017703\n",
              "Installs                        0.004853\n",
              "Price                           0.002052\n",
              "Type_Free                       0.001332\n",
              "Type_Paid                       0.000000\n",
              "Category_ART_AND_DESIGN         0.000000\n",
              "Category_AUTO_AND_VEHICLES      0.000577\n",
              "Category_BEAUTY                 0.000642\n",
              "Category_BOOKS_AND_REFERENCE    0.000000\n",
              "Category_BUSINESS               0.001259\n",
              "Category_COMICS                 0.000325\n",
              "Category_COMMUNICATION          0.000592\n",
              "Category_DATING                 0.000000\n",
              "Category_EDUCATION              0.000000\n",
              "Category_ENTERTAINMENT          0.000000\n",
              "Category_EVENTS                 0.000424\n",
              "Category_FAMILY                 0.000000\n",
              "Category_FINANCE                0.000605\n",
              "Category_FOOD_AND_DRINK         0.001212\n",
              "Category_GAME                   0.000106\n",
              "Category_HEALTH_AND_FITNESS     0.000000\n",
              "Category_HOUSE_AND_HOME         0.000000\n",
              "Category_LIBRARIES_AND_DEMO     0.001059\n",
              "Category_LIFESTYLE              0.000000\n",
              "Category_MAPS_AND_NAVIGATION    0.000268\n",
              "Category_MEDICAL                0.000317\n",
              "Category_NEWS_AND_MAGAZINES     0.000000\n",
              "Category_PARENTING              0.001977\n",
              "Category_PERSONALIZATION        0.004630\n",
              "Category_PHOTOGRAPHY            0.000000\n",
              "Category_PRODUCTIVITY           0.000000\n",
              "Category_SHOPPING               0.000000\n",
              "Category_SOCIAL                 0.000158\n",
              "Category_SPORTS                 0.000374\n",
              "Category_TOOLS                  0.003320\n",
              "Category_TRAVEL_AND_LOCAL       0.000136\n",
              "Category_VIDEO_PLAYERS          0.000000\n",
              "Category_WEATHER                0.000000\n",
              "dtype: float64"
            ]
          },
          "execution_count": 24,
          "metadata": {},
          "output_type": "execute_result"
        }
      ],
      "source": [
        "pd.Series(dt.feature_importances_, index = X_train.columns)"
      ]
    },
    {
      "cell_type": "markdown",
      "metadata": {
        "id": "KPjwVnL47bry"
      },
      "source": [
        "Random Forest Model"
      ]
    },
    {
      "cell_type": "code",
      "execution_count": null,
      "metadata": {
        "id": "40jctP6y6FVk"
      },
      "outputs": [],
      "source": [
        "#Random Forest Model\n",
        "rf = RandomForestRegressor(max_depth=8)\n",
        "rf.fit(X_train,y_train)\n",
        "y_test_pred = rf.predict(X_test)\n",
        "y_train_pred = rf.predict(X_train)"
      ]
    },
    {
      "cell_type": "code",
      "execution_count": null,
      "metadata": {
        "colab": {
          "base_uri": "https://localhost:8080/",
          "height": 345
        },
        "id": "J1lEG3wO7njf",
        "outputId": "497516bf-035f-4fb3-c562-3488d9d03c18"
      },
      "outputs": [
        {
          "name": "stdout",
          "output_type": "stream",
          "text": [
            "Train score 0.9571419489469944\n",
            "Test score 0.9429241492901314\n"
          ]
        }
      ],
      "source": [
        "print(\"Train score\",rf.score(X_train, y_train))\n",
        "print(\"Test score\",rf.score(X_test, y_test))"
      ]
    },
    {
      "cell_type": "markdown",
      "metadata": {
        "id": "Eruf64Ws8sOf"
      },
      "source": [
        "The models fits the data pretty well in the test case."
      ]
    },
    {
      "cell_type": "code",
      "execution_count": null,
      "metadata": {
        "colab": {
          "base_uri": "https://localhost:8080/"
        },
        "id": "ppoertQ37ovr",
        "outputId": "8b9fbd00-940d-4699-b4cc-d47bc938a941"
      },
      "outputs": [
        {
          "data": {
            "text/plain": [
              "Rating                          0.565714\n",
              "Reviews                         0.414944\n",
              "Size                            0.007545\n",
              "Installs                        0.002858\n",
              "Price                           0.001917\n",
              "Type_Free                       0.000029\n",
              "Type_Paid                       0.000062\n",
              "Category_ART_AND_DESIGN         0.000000\n",
              "Category_AUTO_AND_VEHICLES      0.000043\n",
              "Category_BEAUTY                 0.000428\n",
              "Category_BOOKS_AND_REFERENCE    0.000194\n",
              "Category_BUSINESS               0.000077\n",
              "Category_COMICS                 0.000048\n",
              "Category_COMMUNICATION          0.000007\n",
              "Category_DATING                 0.000240\n",
              "Category_EDUCATION              0.000000\n",
              "Category_ENTERTAINMENT          0.000000\n",
              "Category_EVENTS                 0.000232\n",
              "Category_FAMILY                 0.000474\n",
              "Category_FINANCE                0.000097\n",
              "Category_FOOD_AND_DRINK         0.000193\n",
              "Category_GAME                   0.000134\n",
              "Category_HEALTH_AND_FITNESS     0.000006\n",
              "Category_HOUSE_AND_HOME         0.000010\n",
              "Category_LIBRARIES_AND_DEMO     0.000384\n",
              "Category_LIFESTYLE              0.000072\n",
              "Category_MAPS_AND_NAVIGATION    0.000113\n",
              "Category_MEDICAL                0.001280\n",
              "Category_NEWS_AND_MAGAZINES     0.000580\n",
              "Category_PARENTING              0.000688\n",
              "Category_PERSONALIZATION        0.000029\n",
              "Category_PHOTOGRAPHY            0.000166\n",
              "Category_PRODUCTIVITY           0.000021\n",
              "Category_SHOPPING               0.000013\n",
              "Category_SOCIAL                 0.000177\n",
              "Category_SPORTS                 0.000355\n",
              "Category_TOOLS                  0.000685\n",
              "Category_TRAVEL_AND_LOCAL       0.000064\n",
              "Category_VIDEO_PLAYERS          0.000032\n",
              "Category_WEATHER                0.000089\n",
              "dtype: float64"
            ]
          },
          "execution_count": 27,
          "metadata": {},
          "output_type": "execute_result"
        }
      ],
      "source": [
        "pd.Series(rf.feature_importances_, index = X_train.columns)"
      ]
    },
    {
      "cell_type": "markdown",
      "metadata": {
        "id": "3wTaWC_a-8Py"
      },
      "source": [
        "**Gradient Boosting Classifier**"
      ]
    },
    {
      "cell_type": "code",
      "execution_count": null,
      "metadata": {
        "id": "YDelehTW88AJ"
      },
      "outputs": [],
      "source": [
        "#Gradient Boosting\n",
        "gbc = GradientBoostingClassifier(n_estimators=50, learning_rate=1.0, max_depth=1, random_state=0)\n",
        "gbc.fit(X_train,y_train)\n",
        "y_test_pred = gbc.predict(X_test)\n",
        "y_train_pred = gbc.predict(X_train)"
      ]
    },
    {
      "cell_type": "code",
      "execution_count": null,
      "metadata": {
        "colab": {
          "base_uri": "https://localhost:8080/"
        },
        "id": "T_bqr2RFAQ9z",
        "outputId": "6f1cc3c5-097d-4500-b8e6-419718a168ab"
      },
      "outputs": [
        {
          "name": "stdout",
          "output_type": "stream",
          "text": [
            "[[ 626   15]\n",
            " [  25 2442]]\n",
            "Train score 0.9885501448475652\n",
            "Test score 0.9871299871299871\n"
          ]
        }
      ],
      "source": [
        "print(confusion_matrix(y_test,y_test_pred))\n",
        "print(\"Train score\",gbc.score(X_train, y_train))\n",
        "print(\"Test score\",gbc.score(X_test, y_test))"
      ]
    },
    {
      "cell_type": "markdown",
      "metadata": {
        "id": "g0I4StLLDEN1"
      },
      "source": [
        "Gradient Boosting also gave a very well model."
      ]
    },
    {
      "cell_type": "code",
      "execution_count": null,
      "metadata": {
        "colab": {
          "base_uri": "https://localhost:8080/"
        },
        "id": "fFDjyc6bC2p1",
        "outputId": "a25b1537-2bf7-4556-cd7e-d34f6a220535"
      },
      "outputs": [
        {
          "data": {
            "text/plain": [
              "Rating                          0.478610\n",
              "Reviews                         0.518486\n",
              "Size                            0.000213\n",
              "Installs                        0.000194\n",
              "Price                           0.000151\n",
              "Type_Free                       0.000000\n",
              "Type_Paid                       0.000000\n",
              "Category_ART_AND_DESIGN         0.000000\n",
              "Category_AUTO_AND_VEHICLES      0.000000\n",
              "Category_BEAUTY                 0.000421\n",
              "Category_BOOKS_AND_REFERENCE    0.000000\n",
              "Category_BUSINESS               0.000000\n",
              "Category_COMICS                 0.000000\n",
              "Category_COMMUNICATION          0.000000\n",
              "Category_DATING                 0.000000\n",
              "Category_EDUCATION              0.000000\n",
              "Category_ENTERTAINMENT          0.000000\n",
              "Category_EVENTS                 0.000124\n",
              "Category_FAMILY                 0.000000\n",
              "Category_FINANCE                0.000000\n",
              "Category_FOOD_AND_DRINK         0.000053\n",
              "Category_GAME                   0.000000\n",
              "Category_HEALTH_AND_FITNESS     0.000000\n",
              "Category_HOUSE_AND_HOME         0.000000\n",
              "Category_LIBRARIES_AND_DEMO     0.000686\n",
              "Category_LIFESTYLE              0.000000\n",
              "Category_MAPS_AND_NAVIGATION    0.000000\n",
              "Category_MEDICAL                0.000086\n",
              "Category_NEWS_AND_MAGAZINES     0.000110\n",
              "Category_PARENTING              0.000755\n",
              "Category_PERSONALIZATION        0.000000\n",
              "Category_PHOTOGRAPHY            0.000000\n",
              "Category_PRODUCTIVITY           0.000000\n",
              "Category_SHOPPING               0.000000\n",
              "Category_SOCIAL                 0.000000\n",
              "Category_SPORTS                 0.000062\n",
              "Category_TOOLS                  0.000049\n",
              "Category_TRAVEL_AND_LOCAL       0.000000\n",
              "Category_VIDEO_PLAYERS          0.000000\n",
              "Category_WEATHER                0.000000\n",
              "dtype: float64"
            ]
          },
          "execution_count": 30,
          "metadata": {},
          "output_type": "execute_result"
        }
      ],
      "source": [
        "pd.Series(gbc.feature_importances_, index = X_train.columns)"
      ]
    },
    {
      "cell_type": "markdown",
      "metadata": {
        "id": "4b9SWiBgD_uB"
      },
      "source": [
        "**Stacking Classifier**"
      ]
    },
    {
      "cell_type": "code",
      "execution_count": null,
      "metadata": {
        "id": "sikp3t0EDLd1"
      },
      "outputs": [],
      "source": [
        "estimators = [('Lr',LogisticRegression()),('dt',DecisionTreeClassifier(max_depth=7)),('rf', RandomForestClassifier(n_estimators=50, random_state=42))]\n",
        "sc = StackingClassifier(estimators=estimators,final_estimator=LogisticRegression() )\n",
        "sc.fit(X_train,y_train)\n",
        "y_test_pred = sc.predict(X_test)\n",
        "y_train_pred = sc.predict(X_train)"
      ]
    },
    {
      "cell_type": "code",
      "execution_count": null,
      "metadata": {
        "colab": {
          "base_uri": "https://localhost:8080/"
        },
        "id": "7Jab4K0fD4EW",
        "outputId": "935c0cea-7075-4f46-bbdb-2f43d9d665df"
      },
      "outputs": [
        {
          "name": "stdout",
          "output_type": "stream",
          "text": [
            "[[ 621   20]\n",
            " [  26 2441]]\n",
            "Train score 0.9957235480755966\n",
            "Test score 0.9851994851994852\n"
          ]
        }
      ],
      "source": [
        "print(confusion_matrix(y_test,y_test_pred))\n",
        "print(\"Train score\",sc.score(X_train, y_train))\n",
        "print(\"Test score\",sc.score(X_test, y_test))"
      ]
    },
    {
      "cell_type": "code",
      "execution_count": null,
      "metadata": {
        "id": "KLr-YlTEabAG"
      },
      "outputs": [],
      "source": []
    }
  ],
  "metadata": {
    "colab": {
      "provenance": []
    },
    "kernelspec": {
      "display_name": "Python 3",
      "language": "python",
      "name": "python3"
    },
    "language_info": {
      "codemirror_mode": {
        "name": "ipython",
        "version": 3
      },
      "file_extension": ".py",
      "mimetype": "text/x-python",
      "name": "python",
      "nbconvert_exporter": "python",
      "pygments_lexer": "ipython3",
      "version": "3.8.8"
    }
  },
  "nbformat": 4,
  "nbformat_minor": 0
}